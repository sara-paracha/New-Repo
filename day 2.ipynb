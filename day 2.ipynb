{
 "cells": [
  {
   "cell_type": "markdown",
   "id": "65fa2f11",
   "metadata": {},
   "source": [
    "## practice"
   ]
  },
  {
   "cell_type": "markdown",
   "id": "994479e2",
   "metadata": {},
   "source": [
    "###### Write a Python program which accepts the radius of a circle from the user and compute the area"
   ]
  },
  {
   "cell_type": "code",
   "execution_count": 38,
   "id": "46a06f64",
   "metadata": {},
   "outputs": [
    {
     "name": "stdout",
     "output_type": "stream",
     "text": [
      "enter radius1.1\n",
      "the area of the circle is 3.8013271108436504\n"
     ]
    }
   ],
   "source": [
    "from math import pi\n",
    "r=float(input('enter radius'))\n",
    "a=pi*(r**2)\n",
    "print('the area of the circle is {}'.format(str(a)))"
   ]
  },
  {
   "cell_type": "code",
   "execution_count": 39,
   "id": "a2f5bf96",
   "metadata": {},
   "outputs": [
    {
     "name": "stdout",
     "output_type": "stream",
     "text": [
      "the area of the circle is 3.8013271108436504\n"
     ]
    }
   ],
   "source": [
    "print(f'the area of the circle is {str(a)}')"
   ]
  },
  {
   "cell_type": "markdown",
   "id": "58b4969a",
   "metadata": {},
   "source": [
    "###### Write a Python program which accepts a sequence of comma-separated numbers from user and generate a list and a tuple with those numbers"
   ]
  },
  {
   "cell_type": "code",
   "execution_count": 123,
   "id": "e8dbdbdf",
   "metadata": {},
   "outputs": [
    {
     "name": "stdout",
     "output_type": "stream",
     "text": [
      "enter5\n",
      "enter3\n",
      "['5', '3']\n",
      "('5', '3')\n"
     ]
    }
   ],
   "source": [
    "num1=input('enter')\n",
    "num2=input('enter')\n",
    "d=[num1,num2]   #convert string to list\n",
    "d2 = num1,num2  #convert string to tuple \n",
    "print(d)\n",
    "print(d2)"
   ]
  },
  {
   "cell_type": "code",
   "execution_count": 125,
   "id": "7ad717e7",
   "metadata": {},
   "outputs": [
    {
     "data": {
      "text/plain": [
       "str"
      ]
     },
     "execution_count": 125,
     "metadata": {},
     "output_type": "execute_result"
    }
   ],
   "source": [
    "type(num1)"
   ]
  },
  {
   "cell_type": "code",
   "execution_count": 130,
   "id": "1c221a8b",
   "metadata": {},
   "outputs": [
    {
     "name": "stdout",
     "output_type": "stream",
     "text": [
      "enter comma seperated value 5,4,1,5\n",
      "5,4,1,5\n",
      "list : ['5', '4', '1', '5'] \n",
      "tuple : ('5', '4', '1', '5')\n"
     ]
    }
   ],
   "source": [
    "num3=input('enter comma seperated value ')\n",
    "print(num3)\n",
    "list=num3.split(',')   #returns a list \n",
    "t=tuple(list)          ##returns a tuple\n",
    "print('list : {} \\ntuple : {}'.format(list,t))\n"
   ]
  },
  {
   "cell_type": "markdown",
   "id": "92034a85",
   "metadata": {},
   "source": [
    "###### Write a Python program to accept a filename from the user and print the extension of that. Go to the editor\n",
    "Sample filename : abc.java\n",
    "Output : java"
   ]
  },
  {
   "cell_type": "code",
   "execution_count": 138,
   "id": "06346e8f",
   "metadata": {},
   "outputs": [
    {
     "name": "stdout",
     "output_type": "stream",
     "text": [
      "enter filename : abc.java\n",
      "the extension of file is : java\n"
     ]
    }
   ],
   "source": [
    "file = input('enter filename : ')\n",
    "file = file.split('.')\n",
    "print(f'the extension of file is : {file[1]}')"
   ]
  },
  {
   "cell_type": "markdown",
   "id": "67e45c7c",
   "metadata": {},
   "source": [
    "###### Write a Python program to display the first and last colors from the following list.color_list = [\"Red\",\"Green\",\"White\" ,\"Black\"]"
   ]
  },
  {
   "cell_type": "code",
   "execution_count": 140,
   "id": "e2c31be4",
   "metadata": {},
   "outputs": [
    {
     "name": "stdout",
     "output_type": "stream",
     "text": [
      "first colour is red and last colour is black\n"
     ]
    }
   ],
   "source": [
    "color_list = ['red','green','white', 'black']\n",
    "print('first colour is {} and last colour is {}'.format(color_list[0],color_list[3]))"
   ]
  },
  {
   "cell_type": "markdown",
   "id": "8346d5ef",
   "metadata": {},
   "source": [
    "###### Write a Python program to display the examination schedule. (extract the date from exam_st_date). Go to the editor\n",
    "exam_st_date = (11, 12, 2014)\n",
    "Sample Output : The examination will start from : 11 / 12 / 2014"
   ]
  },
  {
   "cell_type": "code",
   "execution_count": 147,
   "id": "d69ccafe",
   "metadata": {},
   "outputs": [
    {
     "name": "stdout",
     "output_type": "stream",
     "text": [
      "The examination will start from : 11/12/2014\n"
     ]
    }
   ],
   "source": [
    "exam_st_date = '11,12,2014'\n",
    "exam_st_date = exam_st_date.replace(',','/')\n",
    "print(f'The examination will start from : {exam_st_date}')"
   ]
  },
  {
   "cell_type": "code",
   "execution_count": 148,
   "id": "04d774a2",
   "metadata": {},
   "outputs": [
    {
     "name": "stdout",
     "output_type": "stream",
     "text": [
      "The examination will start from : 11 / 12 / 2014\n"
     ]
    }
   ],
   "source": [
    "exam_st_date = (11,12,2014)\n",
    "print( \"The examination will start from : %i / %i / %i\"%exam_st_date)  ## why % sign is used"
   ]
  },
  {
   "cell_type": "markdown",
   "id": "ddcd1a98",
   "metadata": {},
   "source": [
    "###### Write a Python program that accepts an integer (n) and computes the value of n+nn+nnn. Go to the editor\n",
    "Sample value of n is 5\n",
    "Expected Result : 615"
   ]
  },
  {
   "cell_type": "code",
   "execution_count": 20,
   "id": "ed6498e6",
   "metadata": {},
   "outputs": [
    {
     "name": "stdout",
     "output_type": "stream",
     "text": [
      "enter a integer : 5\n",
      "Expected result : 615\n"
     ]
    }
   ],
   "source": [
    "n = input('enter a integer : ')    ######### not clear\n",
    "\n",
    "result = int(n+(n+n) + n+n+n)\n",
    "print('Expected result :', result)\n"
   ]
  },
  {
   "cell_type": "code",
   "execution_count": null,
   "id": "df97ca31",
   "metadata": {},
   "outputs": [],
   "source": [
    "5+55+555"
   ]
  },
  {
   "cell_type": "code",
   "execution_count": 165,
   "id": "257cbfb6",
   "metadata": {},
   "outputs": [
    {
     "name": "stdout",
     "output_type": "stream",
     "text": [
      "55\n"
     ]
    }
   ],
   "source": [
    "f='5'\n",
    "d=f+f\n",
    "print(d)"
   ]
  },
  {
   "cell_type": "markdown",
   "id": "2b0d1e1f",
   "metadata": {},
   "source": [
    "###### Write a Python program to print the calendar of a given month and year.\n",
    "Note : Use 'calendar' module."
   ]
  },
  {
   "cell_type": "code",
   "execution_count": 5,
   "id": "cb3ba004",
   "metadata": {},
   "outputs": [
    {
     "name": "stdout",
     "output_type": "stream",
     "text": [
      "Enter the year : 2021\n",
      "Enter the month : 10\n",
      "Planner of the month \n",
      "     October 2021\n",
      "Mo Tu We Th Fr Sa Su\n",
      "             1  2  3\n",
      " 4  5  6  7  8  9 10\n",
      "11 12 13 14 15 16 17\n",
      "18 19 20 21 22 23 24\n",
      "25 26 27 28 29 30 31\n",
      "\n"
     ]
    }
   ],
   "source": [
    "import calendar\n",
    "year = int(input('Enter the year : '))\n",
    "month = int(input('Enter the month : '))\n",
    "print(f'Planner of the month \\n {calendar.month(year,month)}')"
   ]
  },
  {
   "cell_type": "markdown",
   "id": "29c5bcdc",
   "metadata": {},
   "source": [
    "###### . Write a Python program to calculate number of days between two dates.\n",
    "Sample dates : (2014, 7, 2), (2014, 7, 11)\n",
    "Expected output : 9 days"
   ]
  },
  {
   "cell_type": "code",
   "execution_count": 35,
   "id": "3f031f8e",
   "metadata": {},
   "outputs": [
    {
     "name": "stdout",
     "output_type": "stream",
     "text": [
      "Expected output: 9 days, 0:00:00 days\n"
     ]
    }
   ],
   "source": [
    "from datetime import date\n",
    "date1 = date(2014,7,2)\n",
    "date2 = date(2014,7,11)\n",
    "diff = date2-date1\n",
    "print(f'Expected output: {diff} days')"
   ]
  },
  {
   "cell_type": "markdown",
   "id": "5fc8edc8",
   "metadata": {},
   "source": [
    "######  Write a Python program to get the volume of a sphere with radius 6."
   ]
  },
  {
   "cell_type": "code",
   "execution_count": 37,
   "id": "919f4884",
   "metadata": {},
   "outputs": [
    {
     "name": "stdout",
     "output_type": "stream",
     "text": [
      "volume of sphere with radius 6 is 904.7786842338603\n"
     ]
    }
   ],
   "source": [
    "from math import pi\n",
    "r = 6\n",
    "v = (4/3)*pi*(r**3)\n",
    "print('volume of sphere with radius 6 is {}'.format(v))"
   ]
  },
  {
   "cell_type": "markdown",
   "id": "56eebe2e",
   "metadata": {},
   "source": [
    "###### Write a Python program to get the difference between a given number and 17, if the number is greater than 17 return double the absolute difference"
   ]
  },
  {
   "cell_type": "markdown",
   "id": "0e04b28d",
   "metadata": {},
   "source": [
    "#### first method"
   ]
  },
  {
   "cell_type": "code",
   "execution_count": 59,
   "id": "de984d0b",
   "metadata": {},
   "outputs": [
    {
     "name": "stdout",
     "output_type": "stream",
     "text": [
      "Enter a number : 2\n",
      "Difference is 15\n"
     ]
    }
   ],
   "source": [
    "number = int(input('Enter a number : '))\n",
    "if number>17: \n",
    "    Diff = 2*(abs(number-17))\n",
    "    print('double the absolute difference is {}'.format(Diff))\n",
    "\n",
    "else:\n",
    "    print('Difference is '+str(17-number))"
   ]
  },
  {
   "cell_type": "markdown",
   "id": "923e4b03",
   "metadata": {},
   "source": [
    "#### 2nd method"
   ]
  },
  {
   "cell_type": "code",
   "execution_count": 62,
   "id": "1c957221",
   "metadata": {},
   "outputs": [
    {
     "name": "stdout",
     "output_type": "stream",
     "text": [
      "double the absolute difference is 10\n",
      "Difference is 5\n"
     ]
    }
   ],
   "source": [
    "def num(n):\n",
    "    if n < 17:\n",
    "        return 17-n\n",
    "    else:\n",
    "        return 2*(n-17)\n",
    "print('double the absolute difference is {}'.format(num(22)))\n",
    "print(f'Difference is {num(12)}')"
   ]
  },
  {
   "cell_type": "markdown",
   "id": "32f68860",
   "metadata": {},
   "source": [
    "######  Write a Python program to test whether a number is within 100 of 1000 or 2000."
   ]
  },
  {
   "cell_type": "code",
   "execution_count": 58,
   "id": "3a54bab9",
   "metadata": {},
   "outputs": [],
   "source": [
    "#### unable to understand the question"
   ]
  },
  {
   "cell_type": "markdown",
   "id": "21062a4a",
   "metadata": {},
   "source": [
    "###### 18. Write a Python program to calculate the sum of three given numbers, if the values are equal then return three times of their sum. Go to the editor\n"
   ]
  },
  {
   "cell_type": "code",
   "execution_count": 57,
   "id": "10796a6d",
   "metadata": {},
   "outputs": [
    {
     "name": "stdout",
     "output_type": "stream",
     "text": [
      "Enter a number : 5\n",
      "Enter a number : 5\n",
      "Enter a number : 5\n",
      "values are equal hence, sum is 45\n"
     ]
    }
   ],
   "source": [
    "n1 = int(input('Enter a number : '))\n",
    "n2 = int(input('Enter a number : '))\n",
    "n3 = int(input('Enter a number : '))\n",
    "sum = n1 + n2 + n3\n",
    "if n1 == n2 == n3:\n",
    "    print('values are equal hence, sum is' ,(3*sum))\n",
    "else:\n",
    "    print('values are not equal and sum is ', sum)"
   ]
  },
  {
   "cell_type": "code",
   "execution_count": 68,
   "id": "f8aa0d4e",
   "metadata": {},
   "outputs": [
    {
     "name": "stdout",
     "output_type": "stream",
     "text": [
      "6\n",
      "27\n"
     ]
    }
   ],
   "source": [
    "def sum(a,b,c):\n",
    "    total_value = a + b + c\n",
    "    \n",
    "    if a == b == c:\n",
    "        total_value = 3 * total_value\n",
    "        return total_value\n",
    "    else:\n",
    "        return total_value\n",
    "    \n",
    "print(sum(3,2,1))\n",
    "print(sum(3,3,3))"
   ]
  },
  {
   "cell_type": "markdown",
   "id": "ca1b75eb",
   "metadata": {},
   "source": [
    "###### Write a Python program to get a new string from a given string where \"Is\" has been added to the front. If the given string already begins with \"Is\" then return the string unchanged. "
   ]
  },
  {
   "cell_type": "code",
   "execution_count": 118,
   "id": "4e8e3e3d",
   "metadata": {},
   "outputs": [
    {
     "name": "stdout",
     "output_type": "stream",
     "text": [
      "Enter the value : isooo\n",
      "isooo\n",
      "is isooo\n",
      "unchanged value is isooo\n"
     ]
    }
   ],
   "source": [
    "string = input('Enter the value : ')\n",
    "print(string)\n",
    "new_string = 'is '+string\n",
    "print(new_string)\n",
    "\n",
    "if (string.find('is')) == 0:\n",
    "    print('unchanged value is {}'.format(string))\n",
    "else:\n",
    "    print('it does not contain IS')\n",
    "    "
   ]
  },
  {
   "cell_type": "code",
   "execution_count": 119,
   "id": "0c6a0653",
   "metadata": {},
   "outputs": [
    {
     "data": {
      "text/plain": [
       "0"
      ]
     },
     "execution_count": 119,
     "metadata": {},
     "output_type": "execute_result"
    }
   ],
   "source": [
    "string.find('is')"
   ]
  },
  {
   "cell_type": "code",
   "execution_count": 120,
   "id": "dbe28d21",
   "metadata": {},
   "outputs": [
    {
     "data": {
      "text/plain": [
       "-1"
      ]
     },
     "execution_count": 120,
     "metadata": {},
     "output_type": "execute_result"
    }
   ],
   "source": [
    "string.find('ia')"
   ]
  },
  {
   "cell_type": "code",
   "execution_count": 127,
   "id": "73b9488e",
   "metadata": {},
   "outputs": [
    {
     "name": "stdout",
     "output_type": "stream",
     "text": [
      "Enter a string : pa\n",
      "It does not contain Is and new value provided is  Is pa\n"
     ]
    }
   ],
   "source": [
    "value_n = input('Enter a string : ')\n",
    "new_value='Is '+ value_n\n",
    "\n",
    "if (value_n.find('Is')) == 0:\n",
    "    print(f'Unchanged value is {value_n}')\n",
    "else:\n",
    "    print('It does not contain Is and new value provided is  ' + new_value)"
   ]
  },
  {
   "cell_type": "code",
   "execution_count": 125,
   "id": "644cce65",
   "metadata": {},
   "outputs": [
    {
     "data": {
      "text/plain": [
       "-1"
      ]
     },
     "execution_count": 125,
     "metadata": {},
     "output_type": "execute_result"
    }
   ],
   "source": [
    "value_n.find('Ip')\n"
   ]
  },
  {
   "cell_type": "markdown",
   "id": "34c97305",
   "metadata": {},
   "source": [
    "######  Write a Python program to get a string which is n  copies of a given string. "
   ]
  },
  {
   "cell_type": "code",
   "execution_count": 5,
   "id": "ddca17aa",
   "metadata": {},
   "outputs": [
    {
     "name": "stdout",
     "output_type": "stream",
     "text": [
      "Enter a string value :  sara\n",
      "how may times you wish to print : 3\n"
     ]
    },
    {
     "ename": "TypeError",
     "evalue": "can't multiply sequence by non-int of type 'str'",
     "output_type": "error",
     "traceback": [
      "\u001b[1;31m---------------------------------------------------------------------------\u001b[0m",
      "\u001b[1;31mTypeError\u001b[0m                                 Traceback (most recent call last)",
      "\u001b[1;32m<ipython-input-5-808af71bfe21>\u001b[0m in \u001b[0;36m<module>\u001b[1;34m\u001b[0m\n\u001b[0;32m      1\u001b[0m \u001b[0mnum_1\u001b[0m \u001b[1;33m=\u001b[0m \u001b[0minput\u001b[0m\u001b[1;33m(\u001b[0m\u001b[1;34m'Enter a string value :  '\u001b[0m\u001b[1;33m)\u001b[0m\u001b[1;33m\u001b[0m\u001b[1;33m\u001b[0m\u001b[0m\n\u001b[0;32m      2\u001b[0m \u001b[0mnum_2\u001b[0m \u001b[1;33m=\u001b[0m \u001b[0minput\u001b[0m\u001b[1;33m(\u001b[0m\u001b[1;34m'how may times you wish to print : '\u001b[0m\u001b[1;33m)\u001b[0m\u001b[1;33m\u001b[0m\u001b[1;33m\u001b[0m\u001b[0m\n\u001b[1;32m----> 3\u001b[1;33m \u001b[0mnum_copy\u001b[0m \u001b[1;33m=\u001b[0m \u001b[0mnum_1\u001b[0m\u001b[1;33m*\u001b[0m\u001b[0mnum_2\u001b[0m\u001b[1;33m\u001b[0m\u001b[1;33m\u001b[0m\u001b[0m\n\u001b[0m\u001b[0;32m      4\u001b[0m \u001b[0mprint\u001b[0m\u001b[1;33m(\u001b[0m\u001b[1;34m'copy of given string is {}'\u001b[0m\u001b[1;33m.\u001b[0m\u001b[0mformat\u001b[0m\u001b[1;33m(\u001b[0m\u001b[0mnum_copy\u001b[0m\u001b[1;33m)\u001b[0m\u001b[1;33m)\u001b[0m\u001b[1;33m\u001b[0m\u001b[1;33m\u001b[0m\u001b[0m\n",
      "\u001b[1;31mTypeError\u001b[0m: can't multiply sequence by non-int of type 'str'"
     ]
    }
   ],
   "source": [
    "num_1 = input('Enter a string value :  ')\n",
    "num_2 = input('how may times you wish to print : ')\n",
    "num_copy = num_1*num_2\n",
    "print('copy of given string is {}'.format(num_copy))"
   ]
  },
  {
   "cell_type": "code",
   "execution_count": 9,
   "id": "84255238",
   "metadata": {},
   "outputs": [
    {
     "name": "stdout",
     "output_type": "stream",
     "text": [
      "sarasarasara\n"
     ]
    }
   ],
   "source": [
    "def string_value(value_1,number_1):\n",
    "    copy=''\n",
    "    for i in range(number_1):\n",
    "        copy=copy+value_1\n",
    "    return copy\n",
    "\n",
    "print(string_value('sara',3))"
   ]
  },
  {
   "cell_type": "code",
   "execution_count": 10,
   "id": "b8a7c4c8",
   "metadata": {},
   "outputs": [
    {
     "name": "stdout",
     "output_type": "stream",
     "text": [
      "tarataratara\n"
     ]
    }
   ],
   "source": [
    "def string_value(value_1,number_1):\n",
    "    copy = ''\n",
    "    for i in range(number_1): ### it will run 3 times \n",
    "        copy = copy + value_1\n",
    "    return copy\n",
    "\n",
    "print(string_value('tara', 3))"
   ]
  },
  {
   "cell_type": "markdown",
   "id": "0b155a5f",
   "metadata": {},
   "source": [
    "###### Write a Python program to find whether a given number (accept from the user) is even or odd, print out an appropriate message to the use"
   ]
  },
  {
   "cell_type": "code",
   "execution_count": 14,
   "id": "6ae8bbd5",
   "metadata": {},
   "outputs": [
    {
     "name": "stdout",
     "output_type": "stream",
     "text": [
      "enter the number : 8\n",
      "Given number is even and number is 8\n"
     ]
    }
   ],
   "source": [
    "given_number = int(input('enter the number : '))\n",
    "if given_number%2 == 0:\n",
    "    print('Given number is even and number is {}'.format(str(given_number)))\n",
    "else:\n",
    "    print('Given number is odd and number is {}'.format(str(given_number)))"
   ]
  },
  {
   "cell_type": "code",
   "execution_count": 24,
   "id": "1fbed4bd",
   "metadata": {},
   "outputs": [
    {
     "name": "stdout",
     "output_type": "stream",
     "text": [
      "Given number is even and number is 8\n",
      "Given number is odd and number is 9\n"
     ]
    }
   ],
   "source": [
    "def given_num(nuM):\n",
    "    if nuM % 2 == 0:\n",
    "        print('Given number is even and number is {}'.format(nuM))\n",
    "        return nuM\n",
    "    else:\n",
    "        print('Given number is odd and number is {}'.format(nuM))\n",
    "\n",
    "# print('Given number is even and number is {}'.format(given_num(9)))\n",
    "given_num(8)\n",
    "given_num(9)\n"
   ]
  },
  {
   "cell_type": "markdown",
   "id": "3dd01547",
   "metadata": {},
   "source": [
    "###### Write a Python program to count the number 4 in a given list."
   ]
  },
  {
   "cell_type": "code",
   "execution_count": null,
   "id": "9be99f72",
   "metadata": {},
   "outputs": [],
   "source": [
    "given_list = '65493457'\n"
   ]
  },
  {
   "cell_type": "code",
   "execution_count": 13,
   "id": "6cb9a679",
   "metadata": {},
   "outputs": [
    {
     "name": "stdout",
     "output_type": "stream",
     "text": [
      "3\n"
     ]
    }
   ],
   "source": [
    "def given_list(num4):\n",
    "    num_count = 0\n",
    "    for i in num4:### it will run through all vaues entered in list/variable num4 eg: [1,4,5,8,67,8,9,4]\n",
    "        if i == 4:\n",
    "            num_count = num_count + 1\n",
    "    return num_count\n",
    "\n",
    "print(given_list([1,4,5,8,6,4,4,8]))"
   ]
  },
  {
   "cell_type": "markdown",
   "id": "d812abe2",
   "metadata": {},
   "source": [
    "######  Write a Python program to get the n copies of the first 2 characters of a given string. Return the n copies of the whole string if the length is less than 4."
   ]
  },
  {
   "cell_type": "code",
   "execution_count": 55,
   "id": "0b63476d",
   "metadata": {},
   "outputs": [
    {
     "name": "stdout",
     "output_type": "stream",
     "text": [
      "sarasarasarasarasarasara\n",
      "trtrtrtrtrtrtrtrtr\n"
     ]
    }
   ],
   "source": [
    "def String(characters,n):\n",
    "    copy_string = ''\n",
    "    for i in range(n):\n",
    "        if len(characters) <= 4 :\n",
    "            copy_string = copy_string + characters\n",
    "#             print(copy_string)\n",
    "        else:\n",
    "            copy_string = copy_string + characters[0:2]\n",
    "    \n",
    "    return copy_string\n",
    "\n",
    "print(String('sara',6))  ###  why characters in quotes\n",
    "print(String('trump',9))\n",
    "        "
   ]
  },
  {
   "cell_type": "markdown",
   "id": "1494c77c",
   "metadata": {},
   "source": [
    "###### Write a Python program to test whether a passed letter is a vowel or not"
   ]
  },
  {
   "cell_type": "code",
   "execution_count": 69,
   "id": "d5257422",
   "metadata": {},
   "outputs": [
    {
     "name": "stdout",
     "output_type": "stream",
     "text": [
      "FalseTrueFalseFalseTrueFalse\n"
     ]
    }
   ],
   "source": [
    "def vowel(letters):\n",
    "    passed = ''\n",
    "    for i in letters:\n",
    "        if i == 'a':\n",
    "            passed = passed + 'True'\n",
    "        elif i == 'e':\n",
    "            passed = passed + 'True'\n",
    "        elif i == 'i':\n",
    "            passed = passed + 'True'   \n",
    "        elif i == 'o':\n",
    "            passed = passed + 'True'    \n",
    "        elif i == 'u':\n",
    "            passed = passed + 'True'    \n",
    "        else:\n",
    "            passed = passed + 'False'\n",
    "            \n",
    "    return passed\n",
    "\n",
    "print(vowel('monkey'))\n",
    "    "
   ]
  },
  {
   "cell_type": "markdown",
   "id": "1694bb4b",
   "metadata": {},
   "source": [
    "#### online code"
   ]
  },
  {
   "cell_type": "code",
   "execution_count": 70,
   "id": "a7843a3a",
   "metadata": {},
   "outputs": [
    {
     "name": "stdout",
     "output_type": "stream",
     "text": [
      "False\n",
      "True\n"
     ]
    }
   ],
   "source": [
    "def is_vowel(char):\n",
    "    all_vowels = 'aeiou'\n",
    "    return char in all_vowels\n",
    "print(is_vowel('monkey'))\n",
    "print(is_vowel('e'))"
   ]
  },
  {
   "cell_type": "markdown",
   "id": "3dae70da",
   "metadata": {},
   "source": [
    "######  Write a Python program to test whether a number is within 100 of 1000 or 2000."
   ]
  },
  {
   "cell_type": "code",
   "execution_count": null,
   "id": "4c90cac3",
   "metadata": {},
   "outputs": [],
   "source": []
  },
  {
   "cell_type": "markdown",
   "id": "c5b59fbb",
   "metadata": {},
   "source": [
    "######  Write a Python program to check whether a specified value is contained in a group of values. Go to the editor\n",
    "Test Data :\n",
    "3 -> [1, 5, 8, 3] : True\n",
    "-1 -> [1, 5, 8, 3] : False"
   ]
  },
  {
   "cell_type": "code",
   "execution_count": 76,
   "id": "442d6d77",
   "metadata": {},
   "outputs": [
    {
     "name": "stdout",
     "output_type": "stream",
     "text": [
      "value not found\n",
      "value not found\n",
      "value not found\n",
      "value found\n"
     ]
    },
    {
     "data": {
      "text/plain": [
       "[1, 5, 8, 3]"
      ]
     },
     "execution_count": 76,
     "metadata": {},
     "output_type": "execute_result"
    }
   ],
   "source": [
    "def value_check(spec_value):\n",
    "    group=[1,5,8,3]\n",
    "    for i in group:\n",
    "        if i == spec_value:\n",
    "            print('value found')\n",
    "        else:\n",
    "            print('value not found')\n",
    "    return group\n",
    "\n",
    "\n",
    "value_check(3)\n",
    "######## why values stored in group are printed in the end"
   ]
  },
  {
   "cell_type": "code",
   "execution_count": 88,
   "id": "fed0ad84",
   "metadata": {},
   "outputs": [
    {
     "name": "stdout",
     "output_type": "stream",
     "text": [
      "true\n",
      "false\n"
     ]
    }
   ],
   "source": [
    "def value_check(spec_value):\n",
    "    \n",
    "    result = \"\"\n",
    "    group = [1,5,8,3]\n",
    "    for i in group:\n",
    "        if i == spec_value:\n",
    "            result = 'true'\n",
    "#             print('value found')\n",
    "        else:\n",
    "            result = 'false'\n",
    "#             print('false')\n",
    "    return result\n",
    "\n",
    "\n",
    "print(value_check(3))\n",
    "print(value_check(-1))\n",
    "\n"
   ]
  },
  {
   "cell_type": "code",
   "execution_count": null,
   "id": "96de1156",
   "metadata": {},
   "outputs": [],
   "source": []
  },
  {
   "cell_type": "code",
   "execution_count": null,
   "id": "e0fdf282",
   "metadata": {},
   "outputs": [],
   "source": []
  },
  {
   "cell_type": "code",
   "execution_count": null,
   "id": "f908a95a",
   "metadata": {},
   "outputs": [],
   "source": []
  },
  {
   "cell_type": "code",
   "execution_count": null,
   "id": "92ac4383",
   "metadata": {},
   "outputs": [],
   "source": []
  },
  {
   "cell_type": "code",
   "execution_count": null,
   "id": "54c5075d",
   "metadata": {},
   "outputs": [],
   "source": []
  },
  {
   "cell_type": "code",
   "execution_count": null,
   "id": "e5de07de",
   "metadata": {},
   "outputs": [],
   "source": []
  }
 ],
 "metadata": {
  "kernelspec": {
   "display_name": "Python 3",
   "language": "python",
   "name": "python3"
  },
  "language_info": {
   "codemirror_mode": {
    "name": "ipython",
    "version": 3
   },
   "file_extension": ".py",
   "mimetype": "text/x-python",
   "name": "python",
   "nbconvert_exporter": "python",
   "pygments_lexer": "ipython3",
   "version": "3.8.8"
  }
 },
 "nbformat": 4,
 "nbformat_minor": 5
}
