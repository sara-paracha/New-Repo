{
 "cells": [
  {
   "cell_type": "markdown",
   "id": "62933369",
   "metadata": {},
   "source": [
    "Question:2 \n",
    "Write a program which can compute the factorial of a given numbers.\n",
    "The results should be printed in a comma-separated sequence on a single line.\n",
    "Suppose the following input is supplied to the program:"
   ]
  },
  {
   "cell_type": "code",
   "execution_count": 13,
   "id": "e6a30a41",
   "metadata": {},
   "outputs": [
    {
     "name": "stdout",
     "output_type": "stream",
     "text": [
      "40320\n"
     ]
    }
   ],
   "source": [
    "def factorial(n):\n",
    "        d = 1\n",
    "        for i in range(1,n+1):\n",
    "            d = d*i\n",
    "        return d\n",
    "               \n",
    "print(factorial(8))"
   ]
  },
  {
   "cell_type": "markdown",
   "id": "652f9706",
   "metadata": {},
   "source": [
    "Question 3\n",
    "Level 1\n",
    "\n",
    "Question:\n",
    "With a given integral number n, write a program to generate a dictionary that contains (i, i*i) such that is an integral number between 1 and n (both included). and then the program should print the dictionary.\n",
    "Suppose the following input is supplied to the program:\n",
    "8\n",
    "Then, the output should be:\n",
    "{1: 1, 2: 4, 3: 9, 4: 16, 5: 25, 6: 36, 7: 49, 8: 64}"
   ]
  },
  {
   "cell_type": "code",
   "execution_count": 26,
   "id": "33ced410",
   "metadata": {},
   "outputs": [
    {
     "name": "stdout",
     "output_type": "stream",
     "text": [
      "{1: 1, 2: 4, 3: 9, 4: 16, 5: 25, 6: 36, 7: 49, 8: 64}\n"
     ]
    }
   ],
   "source": [
    "# d = []\n",
    "def square(n):\n",
    "    d = {i : i*i for i in range(1, n+1)}\n",
    "    return d\n",
    "\n",
    "print(square(8))"
   ]
  },
  {
   "cell_type": "markdown",
   "id": "39908ec4",
   "metadata": {},
   "source": [
    "Question 4\n",
    "Level 1\n",
    "\n",
    "Question:\n",
    "Write a program which accepts a sequence of comma-separated numbers from console and generate a list and a tuple which contains every number.\n",
    "Suppose the following input is supplied to the program:\n",
    "34,67,55,33,12,98\n",
    "Then, the output should be:\n",
    "['34', '67', '55', '33', '12', '98']\n",
    "('34', '67', '55', '33', '12', '98')"
   ]
  },
  {
   "cell_type": "code",
   "execution_count": 33,
   "id": "52be5537",
   "metadata": {},
   "outputs": [
    {
     "name": "stdout",
     "output_type": "stream",
     "text": [
      "Enter coma seperated numbers : 5,6,9,7,8\n",
      "['5', '6', '9', '7', '8'] \n",
      " ('5', '6', '9', '7', '8')\n"
     ]
    }
   ],
   "source": [
    "n = input('Enter coma seperated numbers : ').split(',')\n",
    "print(n, '\\n',tuple(n))"
   ]
  },
  {
   "cell_type": "markdown",
   "id": "eae02f7a",
   "metadata": {},
   "source": [
    "Question 6\n",
    "Level 2\n",
    "\n",
    "Question:\n",
    "Write a program that calculates and prints the value according to the given formula:\n",
    "Q = Square root of [(2 * C * D)/H]\n",
    "Following are the fixed values of C and H:\n",
    "C is 50. H is 30.\n",
    "D is the variable whose values should be input to your program in a comma-separated sequence.\n",
    "Example\n",
    "Let us assume the following comma separated input sequence is given to the program:\n",
    "100,150,180\n",
    "The output of the program should be:\n",
    "18,22,24\n"
   ]
  },
  {
   "cell_type": "code",
   "execution_count": 49,
   "id": "39b0710f",
   "metadata": {},
   "outputs": [
    {
     "name": "stdout",
     "output_type": "stream",
     "text": [
      "Enter comma seperated values : 100,150,180\n",
      "[18, 22, 24]\n"
     ]
    }
   ],
   "source": [
    "from math import sqrt\n",
    "\n",
    "def sq_root(c,h, D = input('Enter comma seperated values : ').split(',')):\n",
    "    sq = [round(sqrt(2 * c * int(i)/h)) for i in D] \n",
    "    return sq\n",
    "    \n",
    "print(sq_root(50 , 30))"
   ]
  },
  {
   "cell_type": "markdown",
   "id": "307aceee",
   "metadata": {},
   "source": [
    "Question 8\n",
    "Level 2\n",
    "\n",
    "Question:\n",
    "Write a program that accepts a comma separated sequence of words as input and prints the words in a comma-separated sequence after sorting them alphabetically.\n",
    "Suppose the following input is supplied to the program:\n",
    "without,hello,bag,world\n",
    "Then, the output should be:\n",
    "bag,hello,without,world"
   ]
  },
  {
   "cell_type": "code",
   "execution_count": 52,
   "id": "c6372b0c",
   "metadata": {},
   "outputs": [
    {
     "name": "stdout",
     "output_type": "stream",
     "text": [
      "Enter words comma seperated : without,hello,bag,world\n",
      "['bag', 'hello', 'without', 'world']\n"
     ]
    }
   ],
   "source": [
    "def sorting(words = input('Enter words comma seperated : ').split(',')):\n",
    "        return sorted(words)\n",
    "    \n",
    "print(sorting())"
   ]
  },
  {
   "cell_type": "markdown",
   "id": "5a8893d9",
   "metadata": {},
   "source": [
    "Question 9\n",
    "Level 2\n",
    "\n",
    "Question£º\n",
    "Write a program that accepts sequence of lines as input and prints the lines after making all characters in the sentence capitalized.\n",
    "Suppose the following input is supplied to the program:\n",
    "Hello world\n",
    "Practice makes perfect\n",
    "Then, the output should be:\n",
    "HELLO WORLD\n",
    "PRACTICE MAKES PERFECT"
   ]
  },
  {
   "cell_type": "code",
   "execution_count": 21,
   "id": "6ab75021",
   "metadata": {},
   "outputs": [
    {
     "name": "stdout",
     "output_type": "stream",
     "text": [
      "Enter lines : Hello world ,Practice makes perfect\n",
      "HELLO WORLD \n",
      "PRACTICE MAKES PERFECT\n",
      "None\n"
     ]
    }
   ],
   "source": [
    "def capitalize(lines = input('Enter lines : ').split(',')):\n",
    "    c = [print(i.upper()) for i in lines]\n",
    "#     print(,'\\n')\n",
    "    \n",
    "    \n",
    "print(capitalize())"
   ]
  },
  {
   "cell_type": "markdown",
   "id": "440ff406",
   "metadata": {},
   "source": [
    "Question 10\n",
    "Level 2\n",
    "\n",
    "Question:\n",
    "Write a program that accepts a sequence of whitespace separated words as input and prints the words after removing all duplicate words and sorting them alphanumerically.\n",
    "Suppose the following input is supplied to the program:\n",
    "hello world and practice makes perfect and hello world again\n",
    "Then, the output should be:\n",
    "again and hello makes perfect practice world"
   ]
  },
  {
   "cell_type": "code",
   "execution_count": 20,
   "id": "0a1edc4b",
   "metadata": {},
   "outputs": [
    {
     "name": "stdout",
     "output_type": "stream",
     "text": [
      "Enter words : hello world and practice makes perfect and hello world again\n",
      "again and hello makes perfect practice world\n"
     ]
    }
   ],
   "source": [
    "def duplicate(word = input('Enter words : ').split(' ')):\n",
    "    [word.remove(i) for i in word if word.count(i) > 1 ]\n",
    "    return ' '.join(sorted(word))\n",
    "    \n",
    "print(duplicate())"
   ]
  },
  {
   "cell_type": "markdown",
   "id": "cb70c194",
   "metadata": {},
   "source": [
    "Question 11\n",
    "Level 2\n",
    "\n",
    "Question:\n",
    "Write a program which accepts a sequence of comma separated 4 digit binary numbers as its input and then check whether they are divisible by 5 or not. The numbers that are divisible by 5 are to be printed in a comma separated sequence.\n",
    "Example:\n",
    "0100,0011,1010,1001\n",
    "Then the output should be:\n",
    "1010\n",
    "Notes: Assume the data is input by console.\n"
   ]
  },
  {
   "cell_type": "code",
   "execution_count": 26,
   "id": "85f38b28",
   "metadata": {},
   "outputs": [
    {
     "name": "stdout",
     "output_type": "stream",
     "text": [
      "Enter binary numbers : 0100,0011,1010,1001\n",
      "['0100', '0011', '1010', '1001']\n",
      "0100,1010\n"
     ]
    }
   ],
   "source": [
    "def binary(binary = input('Enter binary numbers : ').split(',')):\n",
    "    print(binary)\n",
    "    b = [i for i in binary if int(i) % 5 == 0]\n",
    "    return (','.join(b))\n",
    "\n",
    "\n",
    "print(binary())"
   ]
  },
  {
   "cell_type": "markdown",
   "id": "4449dcb6",
   "metadata": {},
   "source": [
    "Question 12\n",
    "Level 2\n",
    "\n",
    "Question:\n",
    "Write a program, which will find all such numbers between 1000 and 3000 (both included) such that each digit of the number is an even number.\n",
    "The numbers obtained should be printed in a comma-separated sequence on a single line. "
   ]
  },
  {
   "cell_type": "code",
   "execution_count": 62,
   "id": "797f8053",
   "metadata": {},
   "outputs": [
    {
     "name": "stdout",
     "output_type": "stream",
     "text": [
      "['2000', '2002', '2004', '2006', '2008', '2020', '2022', '2024', '2026', '2028', '2040', '2042', '2044', '2046', '2048', '2060', '2062', '2064', '2066', '2068', '2080', '2082', '2084', '2086', '2088', '2200', '2202', '2204', '2206', '2208', '2220', '2222', '2224', '2226', '2228', '2240', '2242', '2244', '2246', '2248', '2260', '2262', '2264', '2266', '2268', '2280', '2282', '2284', '2286', '2288', '2400', '2402', '2404', '2406', '2408', '2420', '2422', '2424', '2426', '2428', '2440', '2442', '2444', '2446', '2448', '2460', '2462', '2464', '2466', '2468', '2480', '2482', '2484', '2486', '2488', '2600', '2602', '2604', '2606', '2608', '2620', '2622', '2624', '2626', '2628', '2640', '2642', '2644', '2646', '2648', '2660', '2662', '2664', '2666', '2668', '2680', '2682', '2684', '2686', '2688', '2800', '2802', '2804', '2806', '2808', '2820', '2822', '2824', '2826', '2828', '2840', '2842', '2844', '2846', '2848', '2860', '2862', '2864', '2866', '2868', '2880', '2882', '2884', '2886', '2888']\n"
     ]
    }
   ],
   "source": [
    "x = []\n",
    "for i in range(1000,3001):\n",
    "    s = str(i)\n",
    "    if (int(s[0]) % 2 == 0) and (int(s[1]) % 2 == 0) and (int(s[2]) % 2 == 0) and (int(s[3]) % 2 == 0) :\n",
    "        x.append(s)\n",
    "                \n",
    "print(x)"
   ]
  },
  {
   "cell_type": "markdown",
   "id": "6c38061b",
   "metadata": {},
   "source": [
    "Question 13\n",
    "Level 2\n",
    "\n",
    "Question:\n",
    "Write a program that accepts a sentence and calculate the number of letters and digits.\n",
    "Suppose the following input is supplied to the program:\n",
    "hello world! 123\n",
    "Then, the output should be:\n",
    "LETTERS 10\n",
    "DIGITS 3\n"
   ]
  },
  {
   "cell_type": "code",
   "execution_count": 82,
   "id": "912f8e03",
   "metadata": {},
   "outputs": [
    {
     "name": "stdout",
     "output_type": "stream",
     "text": [
      " digit : 3\n",
      " letter : 10\n"
     ]
    }
   ],
   "source": [
    "def counter(n):\n",
    "    digit = 0\n",
    "    letter = 0\n",
    " \n",
    "    for i in n:\n",
    "        if i.isdigit() == True :\n",
    "            digit = digit + 1\n",
    "        elif i.isalpha() == True :\n",
    "            letter = letter +  1\n",
    "    print(f' digit : {digit}'), print(f' letter : {letter}')\n",
    "    \n",
    "counter('hello world! 123')"
   ]
  },
  {
   "cell_type": "markdown",
   "id": "5f3501b0",
   "metadata": {},
   "source": [
    "Question 14\n",
    "Level 2\n",
    "\n",
    "Question:\n",
    "Write a program that accepts a sentence and calculate the number of upper case letters and lower case letters.\n",
    "Suppose the following input is supplied to the program:\n",
    "Hello world!\n",
    "\n",
    "Then, the output should be:\n",
    "UPPER CASE 1\n",
    "LOWER CASE 9"
   ]
  },
  {
   "cell_type": "code",
   "execution_count": 84,
   "id": "00a2ecae",
   "metadata": {},
   "outputs": [
    {
     "name": "stdout",
     "output_type": "stream",
     "text": [
      "(1, 9)\n"
     ]
    }
   ],
   "source": [
    "def upper_lower(n):\n",
    "    u = 0\n",
    "    l = 0\n",
    "\n",
    "    for i in n:\n",
    "        if i.isupper() ==  True:\n",
    "            u += 1\n",
    "        elif i.islower() == True:\n",
    "            l += 1\n",
    "            \n",
    "    return u,l\n",
    "print(upper_lower(n ='Hello world!'))"
   ]
  },
  {
   "cell_type": "markdown",
   "id": "958620f7",
   "metadata": {},
   "source": [
    "Question 15\n",
    "Level 2\n",
    "\n",
    "Question:\n",
    "Write a program that computes the value of a+aa+aaa+aaaa with a given digit as the value of a.\n",
    "Suppose the following input is supplied to the program:\n",
    "9\n",
    "Then, the output should be:\n",
    "11106\n"
   ]
  },
  {
   "cell_type": "code",
   "execution_count": 3,
   "id": "582f8d13",
   "metadata": {},
   "outputs": [
    {
     "name": "stdout",
     "output_type": "stream",
     "text": [
      "enter a number : 9\n"
     ]
    },
    {
     "data": {
      "text/plain": [
       "11106"
      ]
     },
     "execution_count": 3,
     "metadata": {},
     "output_type": "execute_result"
    }
   ],
   "source": [
    "n=input('enter a number : ')\n",
    "\n",
    "s = int(n)+int(n+n)+int((n+n+n))+int((n+n+n+n))\n",
    "s\n"
   ]
  },
  {
   "cell_type": "markdown",
   "id": "e874e089",
   "metadata": {},
   "source": [
    "Question 16\n",
    "Level 2\n",
    "\n",
    "Question:\n",
    "Use a list comprehension to square each odd number in a list. The list is input by a sequence of comma-separated numbers.\n",
    "Suppose the following input is supplied to the program:\n",
    "1,2,3,4,5,6,7,8,9\n",
    "Then, the output should be:\n",
    "1,3,5,7,9"
   ]
  },
  {
   "cell_type": "code",
   "execution_count": 5,
   "id": "7ea3f80a",
   "metadata": {},
   "outputs": [
    {
     "name": "stdout",
     "output_type": "stream",
     "text": [
      "Enter numbers : 1,2,3,4,5,6,7,8,9 \n"
     ]
    },
    {
     "data": {
      "text/plain": [
       "[1, 9, 25, 49]"
      ]
     },
     "execution_count": 5,
     "metadata": {},
     "output_type": "execute_result"
    }
   ],
   "source": [
    "d = [int(i)*int(i) for i in range(len(input('Enter numbers : ').split(','))) if int(i) % 2 == 1]\n",
    "d"
   ]
  },
  {
   "cell_type": "markdown",
   "id": "b33a2379",
   "metadata": {},
   "source": [
    "Question 17\n",
    "Level 2\n",
    "\n",
    "Question:\n",
    "Write a program that computes the net amount of a bank account based a transaction log from console input. The transaction log format is shown as following:\n",
    "D 100\n",
    "W 200\n",
    "\n",
    "D means deposit while W means withdrawal.\n",
    "Suppose the following input is supplied to the program:\n",
    "D 300\n",
    "D 300\n",
    "W 200\n",
    "D 100\n",
    "Then, the output should be:\n",
    "500\n"
   ]
  },
  {
   "cell_type": "code",
   "execution_count": 9,
   "id": "6f8bd916",
   "metadata": {},
   "outputs": [
    {
     "name": "stdout",
     "output_type": "stream",
     "text": [
      "Enter deposit amount : 200\n",
      "Enter withdrawal amount : 100\n",
      "Do you wish to perform more transaction(Type Yes or No) : Yes\n",
      "Enter deposit amount : 300\n",
      "Enter withdrawal amount : 200\n",
      "Do you wish to perform more transaction(Type Yes or No) : No\n",
      "200\n"
     ]
    }
   ],
   "source": [
    "total = 0\n",
    "request = 'Yes'\n",
    "while request != 'No' :\n",
    "    d = int(input('Enter deposit amount : '))\n",
    "    w = int(input('Enter withdrawal amount : '))\n",
    "    request = input('Do you wish to perform more transaction(Type Yes or No) : ')\n",
    "    total = total + d - w\n",
    "    \n",
    "print(total)"
   ]
  },
  {
   "cell_type": "markdown",
   "id": "a13602c9",
   "metadata": {},
   "source": [
    "Question 18\n",
    "Level 3\n",
    "\n",
    "Question:\n",
    "A website requires the users to input username and password to register. Write a program to check the validity of password input by users.\n",
    "Following are the criteria for checking the password:\n",
    "1. At least 1 letter between [a-z]\n",
    "2. At least 1 number between [0-9]\n",
    "1. At least 1 letter between [A-Z]\n",
    "3. At least 1 character from [$#@]\n",
    "4. Minimum length of transaction password: 6\n",
    "5. Maximum length of transaction password: 12\n",
    "Your program should accept a sequence of comma separated passwords and will check them according to the above criteria. Passwords that match the criteria are to be printed, each separated by a comma.\n",
    "Example\n",
    "If the following passwords are given as input to the program:\n",
    "ABd1234@1,a F1#,2w3E*,2We3345\n",
    "Then, the output of the program should be:\n",
    "ABd1234@1"
   ]
  },
  {
   "cell_type": "code",
   "execution_count": 17,
   "id": "ebf01b6a",
   "metadata": {},
   "outputs": [
    {
     "name": "stdout",
     "output_type": "stream",
     "text": [
      "Enter password : ABd1234@1,a F1#,2w3E*,2We3345\n",
      "ABd1234@1\n"
     ]
    }
   ],
   "source": [
    "import re\n",
    "value = []\n",
    "items=[x for x in input('Enter password : ').split(',')]\n",
    "for p in items:\n",
    "    if len(p)<6 or len(p)>12:\n",
    "        continue\n",
    "    else:\n",
    "        pass\n",
    "    if not re.search(\"[a-z]\",p):\n",
    "        continue\n",
    "    elif not re.search(\"[0-9]\",p):\n",
    "        continue\n",
    "    elif not re.search(\"[A-Z]\",p):\n",
    "        continue\n",
    "    elif not re.search(\"[$#@]\",p):\n",
    "        continue\n",
    "    elif re.search(\"\\s\",p):\n",
    "        continue\n",
    "    else:\n",
    "        pass\n",
    "    value.append(p)\n",
    "print (\",\".join(value))"
   ]
  },
  {
   "cell_type": "code",
   "execution_count": 3,
   "id": "1d51bf98",
   "metadata": {},
   "outputs": [
    {
     "name": "stdout",
     "output_type": "stream",
     "text": [
      "Enter password : ABd1234@1,a F1#,2w3E*,2We3345\n",
      "['ABd1234@1', 'a F1#', '2w3E*', '2We3345']\n",
      "ABd1234@1\n",
      "['ABd1234@1']\n"
     ]
    }
   ],
   "source": [
    "import re\n",
    "valid_password = []\n",
    "# def user_pwd(password = input('Enter password : ').split(',')):\n",
    "password = [i for i in input('Enter password : ').split(',')]\n",
    "print(password)\n",
    "for j in password:\n",
    "    if len(j) < 6 and len(j) > 12:\n",
    "        continue\n",
    "    else:\n",
    "        pass \n",
    "    if not re.search('[a-z]',j):\n",
    "        continue\n",
    "    elif not re.search('[0-9]', j):\n",
    "        continue\n",
    "    elif not re.search('[A-Z]', j):\n",
    "        continue    \n",
    "    elif not re.search('[$#@]', j):\n",
    "        continue\n",
    "    elif re.search('\\s',j):\n",
    "        continue\n",
    "    else:\n",
    "        pass\n",
    "                    \n",
    "    valid_password.append(j)\n",
    "print(','.join(valid_password))\n",
    "print(valid_password)           \n",
    "                    \n",
    "                    \n",
    "                    \n",
    "    \n",
    "    \n",
    "# ABd1234@1,a F1#,2w3E*,2We3345"
   ]
  },
  {
   "cell_type": "code",
   "execution_count": 79,
   "id": "d9697443",
   "metadata": {},
   "outputs": [
    {
     "name": "stdout",
     "output_type": "stream",
     "text": [
      "Enter password : ABd1234@1,a F1#,2w3E*,2We3345\n",
      "valid\n",
      "ABd1234@1\n",
      "2We3345\n",
      "['ABd1234@1', '2We3345']\n"
     ]
    }
   ],
   "source": [
    "\n",
    "from itertools import groupby\n",
    "x = []\n",
    "def website(password = input('Enter password : ').split(',')):\n",
    "    for i in password:\n",
    "        if len(i) > 6 and len(i) < 12:\n",
    "            for j in i:\n",
    "                if j.isupper() == True :\n",
    "                    x.append(i)\n",
    "                elif j.isdigit == True :\n",
    "                    x.append(i)\n",
    "                elif j.islower == True :\n",
    "                    x.append(i)\n",
    "                elif (j =='$') or (j == '#') or (j == '@') :\n",
    "                    x.append(i)\n",
    "\n",
    "                    print('valid')\n",
    "            print(i)\n",
    "    \n",
    "    d = [ a for a,v in groupby(x)]   \n",
    "    return d    \n",
    "    \n",
    "    \n",
    "    \n",
    "print(web\n",
    "      site())"
   ]
  },
  {
   "cell_type": "code",
   "execution_count": 78,
   "id": "3333a1af",
   "metadata": {},
   "outputs": [
    {
     "name": "stdout",
     "output_type": "stream",
     "text": [
      "Enter password : ABd1234@1,a F1#,2w3E*,2We3345\n",
      "['ABd1234@1', 'a F1#', '2w3E*', '2We3345']\n"
     ]
    }
   ],
   "source": [
    "def website(password = input('Enter password : ').split(',')):\n",
    "    for i in password:\n",
    "        if len(i) > 6 and len(i) < 12:\n",
    "            for j in i:\n",
    "                if j.isupper() == True and j.isdigit == True and j.islower == True and ((i =='$') or (i == '#') or (i == '@')):\n",
    "                    print('valid password')\n",
    "                    print(i)\n",
    "    return password\n",
    "    \n",
    "    \n",
    "    \n",
    "print(website())"
   ]
  },
  {
   "cell_type": "code",
   "execution_count": 75,
   "id": "44ce5030",
   "metadata": {},
   "outputs": [
    {
     "name": "stdout",
     "output_type": "stream",
     "text": [
      "Enter password : ABd1234@1,a F1#,2w3E*,2We3345\n",
      "v\n",
      "ABd1234@1\n",
      "v\n",
      "ABd1234@1\n",
      "ABd1234@1\n",
      "ABd1234@1\n",
      "ABd1234@1\n",
      "ABd1234@1\n",
      "ABd1234@1\n",
      "ABd1234@1\n",
      "ABd1234@1\n",
      "2We3345\n",
      "v\n",
      "2We3345\n",
      "2We3345\n",
      "2We3345\n",
      "2We3345\n",
      "2We3345\n",
      "2We3345\n",
      "['ABd1234@1', 'a F1#', '2w3E*', '2We3345']\n"
     ]
    }
   ],
   "source": [
    "def website(password = input('Enter password : ').split(',')):\n",
    "    for i in password:\n",
    "        if len(i) > 6 and len(i) < 12:\n",
    "            for j in i:\n",
    "                if j.isupper() == True :\n",
    "                    print('v')\n",
    "                elif j.isdigit == True :\n",
    "                    pass\n",
    "                elif j.islower == True :\n",
    "                    pass\n",
    "                elif (j =='$') or (j == '#') or (j == '@') :\n",
    "                    pass            \n",
    "                print(i)\n",
    "    return password\n",
    "    \n",
    "    \n",
    "    \n",
    "print(website())"
   ]
  },
  {
   "cell_type": "markdown",
   "id": "ad9ebca0",
   "metadata": {},
   "source": [
    "Question 19\n",
    "Level 3\n",
    "\n",
    "Question:\n",
    "You are required to write a program to sort the (name, age, height) tuples by ascending order where name is string, age and height are numbers. The tuples are input by console. The sort criteria is:\n",
    "1: Sort based on name;\n",
    "2: Then sort based on age;\n",
    "3: Then sort by score.\n",
    "The priority is that name > age > score.\n",
    "If the following tuples are given as input to the program:\n",
    "Tom,19,80\n",
    "John,20,90\n",
    "Jony,17,91\n",
    "Jony,17,93\n",
    "Json,21,85\n",
    "Then, the output of the program should be:\n",
    "[('John', '20', '90'), ('Jony', '17', '91'), ('Jony', '17', '93'), ('Json', '21', '85'), ('Tom', '19', '80')]"
   ]
  },
  {
   "cell_type": "code",
   "execution_count": 18,
   "id": "e5eb4d64",
   "metadata": {},
   "outputs": [
    {
     "name": "stdout",
     "output_type": "stream",
     "text": [
      "[('Ali', '20', '90'), ('Bili', '17', '93'), ('Jason', '21', '85'), ('Jony', '17', '91'), ('Tom', '19', '80')]\n"
     ]
    }
   ],
   "source": [
    "def criteria(li, n):\n",
    "\n",
    "    return sorted(li, key = lambda x : x[n])\n",
    "\n",
    "    \n",
    "print(criteria([('Ali', '20', '90'), ('Jony', '17', '91'), ('Bili', '17', '93'), ('Jason', '21', '85'), ('Tom', '19', '80')],0))"
   ]
  },
  {
   "cell_type": "markdown",
   "id": "5e731b8e",
   "metadata": {},
   "source": [
    "Question 21\n",
    "\n",
    "Level 3\n",
    "\n",
    "Question£º\n",
    "A robot moves in a plane starting from the original point (0,0). The robot can move toward UP, DOWN, LEFT and RIGHT with a given steps. The trace of robot movement is shown as the following:\n",
    "UP 5\n",
    "DOWN 3\n",
    "LEFT 3\n",
    "RIGHT 2\n",
    "¡­\n",
    "The numbers after the direction are steps. Please write a program to compute the distance from current position after a sequence of movement and original point. If the distance is a float, then just print the nearest integer.\n",
    "Example:\n",
    "If the following tuples are given as input to the program:\n",
    "UP 5\n",
    "DOWN 3\n",
    "LEFT 3\n",
    "RIGHT 2\n",
    "Then, the output of the program should be:\n",
    "2"
   ]
  },
  {
   "cell_type": "markdown",
   "id": "950a7f43",
   "metadata": {},
   "source": [
    "Question 22\n",
    "Level 3\n",
    "\n",
    "Question:\n",
    "Write a program to compute the frequency of the words from the input. The output should output after sorting the key alphanumerically. \n",
    "Suppose the following input is supplied to the program:\n",
    "New to Python or choosing between Python 2 and Python 3? Read Python 2 or Python 3.\n",
    "Then, the output should be:\n",
    "2:2\n",
    "3.:1\n",
    "3?:1\n",
    "New:1\n",
    "Python:5\n",
    "Read:1\n",
    "and:1\n",
    "between:1\n",
    "choosing:1\n",
    "or:2\n",
    "to:1\n"
   ]
  },
  {
   "cell_type": "code",
   "execution_count": 27,
   "id": "3ff7d757",
   "metadata": {},
   "outputs": [
    {
     "name": "stdout",
     "output_type": "stream",
     "text": [
      "enter sentence : New to Python or choosing between Python 2 and Python 3? Read Python 2 or Python 3\n",
      "['New', 'to', 'Python', 'or', 'choosing', 'between', 'Python', '2', 'and', 'Python', '3?', 'Read', 'Python', '2', 'or', 'Python', '3']\n"
     ]
    }
   ],
   "source": [
    "from collections import OrderedDict\n",
    "# d = {}\n",
    "value = []\n",
    "# def frequency(li = input('enter sentence : ').split(' ')):\n",
    "li = input('enter sentence : ').split(' ')\n",
    "l1 = sorted(li, reverse = False)\n",
    "print(li)\n",
    "for i in li:\n",
    "    x = li.count(i)\n",
    "    d = {i : x}\n",
    "    d.get()\n",
    "    value.append(d)\n",
    "print(value)\n",
    "val = OrderedDict(sorted(d.items()))\n",
    "print(val)\n",
    "# print(frequency())\n",
    "    \n",
    "# New to Python or choosing between Python 2 and Python 3? Read Python 2 or Python 3"
   ]
  },
  {
   "cell_type": "code",
   "execution_count": null,
   "id": "a09c44b8",
   "metadata": {},
   "outputs": [],
   "source": []
  },
  {
   "cell_type": "code",
   "execution_count": null,
   "id": "483031cd",
   "metadata": {},
   "outputs": [],
   "source": []
  },
  {
   "cell_type": "code",
   "execution_count": null,
   "id": "dfc1e23e",
   "metadata": {},
   "outputs": [],
   "source": []
  },
  {
   "cell_type": "code",
   "execution_count": null,
   "id": "be1b0c74",
   "metadata": {},
   "outputs": [],
   "source": []
  },
  {
   "cell_type": "code",
   "execution_count": null,
   "id": "dda8d3e4",
   "metadata": {},
   "outputs": [],
   "source": []
  },
  {
   "cell_type": "code",
   "execution_count": null,
   "id": "b5698f17",
   "metadata": {},
   "outputs": [],
   "source": []
  },
  {
   "cell_type": "code",
   "execution_count": null,
   "id": "9027d01d",
   "metadata": {},
   "outputs": [],
   "source": []
  },
  {
   "cell_type": "code",
   "execution_count": null,
   "id": "388e302c",
   "metadata": {},
   "outputs": [],
   "source": []
  },
  {
   "cell_type": "code",
   "execution_count": null,
   "id": "660cafee",
   "metadata": {},
   "outputs": [],
   "source": []
  },
  {
   "cell_type": "code",
   "execution_count": null,
   "id": "50900a67",
   "metadata": {},
   "outputs": [],
   "source": []
  },
  {
   "cell_type": "code",
   "execution_count": null,
   "id": "e10f5020",
   "metadata": {},
   "outputs": [],
   "source": []
  }
 ],
 "metadata": {
  "kernelspec": {
   "display_name": "Python 3",
   "language": "python",
   "name": "python3"
  },
  "language_info": {
   "codemirror_mode": {
    "name": "ipython",
    "version": 3
   },
   "file_extension": ".py",
   "mimetype": "text/x-python",
   "name": "python",
   "nbconvert_exporter": "python",
   "pygments_lexer": "ipython3",
   "version": "3.8.8"
  }
 },
 "nbformat": 4,
 "nbformat_minor": 5
}
