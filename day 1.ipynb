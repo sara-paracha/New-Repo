{
 "cells": [
  {
   "cell_type": "markdown",
   "id": "0c31f386",
   "metadata": {},
   "source": [
    " Write a Python program to calculate the sum of the digits in an integer. "
   ]
  },
  {
   "cell_type": "code",
   "execution_count": 52,
   "id": "72194155",
   "metadata": {},
   "outputs": [
    {
     "name": "stdout",
     "output_type": "stream",
     "text": [
      "28\n",
      "11\n"
     ]
    }
   ],
   "source": [
    "def sum_digits(digits):\n",
    "    integer_1 = 0\n",
    "    for i in str(digits):   ### why are we using str here \n",
    "        integer_1 = integer_1 + int(i)\n",
    "#         print(integer_1)\n",
    "\n",
    "    return integer_1\n",
    "print(sum_digits(6598))\n",
    "print(sum_digits(65))"
   ]
  },
  {
   "cell_type": "code",
   "execution_count": 108,
   "id": "61c64c59",
   "metadata": {},
   "outputs": [
    {
     "name": "stdout",
     "output_type": "stream",
     "text": [
      "1\n",
      "2\n",
      "5\n",
      "6\n"
     ]
    }
   ],
   "source": [
    "for i in str(1256):\n",
    "    print(i)"
   ]
  },
  {
   "cell_type": "markdown",
   "id": "0d93a32a",
   "metadata": {},
   "source": [
    "online code"
   ]
  },
  {
   "cell_type": "code",
   "execution_count": 53,
   "id": "74a78e9e",
   "metadata": {},
   "outputs": [
    {
     "name": "stdout",
     "output_type": "stream",
     "text": [
      "15\n"
     ]
    }
   ],
   "source": [
    "def getSum(n):\n",
    "    \n",
    "    sum = 0\n",
    "    while (n != 0):\n",
    "       \n",
    "        sum = sum + (n % 10)\n",
    "        n = n//10\n",
    "       \n",
    "    return sum\n",
    "   \n",
    "n = 12345\n",
    "print(getSum(n))"
   ]
  },
  {
   "cell_type": "markdown",
   "id": "0eaccbc9",
   "metadata": {},
   "source": [
    "2-  Write a Python program to sum of the first n positive integers."
   ]
  },
  {
   "cell_type": "code",
   "execution_count": 27,
   "id": "306ef196",
   "metadata": {},
   "outputs": [
    {
     "name": "stdout",
     "output_type": "stream",
     "text": [
      "enter a no : 8\n",
      "Sum of first 8 is 36.0\n"
     ]
    }
   ],
   "source": [
    "positive_int = int(input('enter a no : '))\n",
    "sum_int = ( positive_int * ( positive_int + 1))/2\n",
    "print(f'Sum of first {positive_int} is {sum_int}')"
   ]
  },
  {
   "cell_type": "code",
   "execution_count": 35,
   "id": "9dc7056b",
   "metadata": {},
   "outputs": [
    {
     "data": {
      "text/plain": [
       "36.0"
      ]
     },
     "execution_count": 35,
     "metadata": {},
     "output_type": "execute_result"
    }
   ],
   "source": [
    "def pos_int(series):\n",
    "    sum_integers = ( series * ( series + 1))/2\n",
    "\n",
    "    return sum_integers\n",
    "\n",
    "pos_int(8)"
   ]
  },
  {
   "cell_type": "markdown",
   "id": "1c284eb7",
   "metadata": {},
   "source": [
    "3-  Write a Python program to convert height (in feet and inches) to centimeters"
   ]
  },
  {
   "cell_type": "code",
   "execution_count": 2,
   "id": "3c6b92d5",
   "metadata": {},
   "outputs": [
    {
     "name": "stdout",
     "output_type": "stream",
     "text": [
      " enter your height in feet and inches : 5'4\n",
      "Ypur height in cm is 162.56\n"
     ]
    }
   ],
   "source": [
    "height = input(' enter your height in feet and inches : ').split(\"'\")\n",
    "conversion = (int(height[0])*30.48) + (int(height[1])*2.54)\n",
    "print(f'Your height in cm is {conversion}')\n"
   ]
  },
  {
   "cell_type": "markdown",
   "id": "40204ab8",
   "metadata": {},
   "source": [
    "4- Write a Python program to concatenate N strings."
   ]
  },
  {
   "cell_type": "code",
   "execution_count": 16,
   "id": "a71d647b",
   "metadata": {},
   "outputs": [
    {
     "name": "stdout",
     "output_type": "stream",
     "text": [
      "red-yellow-black-\n"
     ]
    }
   ],
   "source": [
    "def list_string(values):\n",
    "    string = ''\n",
    "    for i in values:\n",
    "        string = string + i + '-'\n",
    "    return string\n",
    "print(list_string(['red','yellow','black']))"
   ]
  },
  {
   "cell_type": "code",
   "execution_count": 15,
   "id": "3495f0a0",
   "metadata": {},
   "outputs": [
    {
     "data": {
      "text/plain": [
       "'red-yellow-black'"
      ]
     },
     "execution_count": 15,
     "metadata": {},
     "output_type": "execute_result"
    }
   ],
   "source": [
    "def stringlist(value):\n",
    "    string = '-'.join(value)\n",
    "    \n",
    "    return string\n",
    "stringlist(['red','yellow','black'])"
   ]
  },
  {
   "cell_type": "markdown",
   "id": "2865d8b8",
   "metadata": {},
   "source": [
    "5- Write a Python program to calculate the sum of all items of a container (tuple, list, set, dictionary). "
   ]
  },
  {
   "cell_type": "code",
   "execution_count": 17,
   "id": "b8c126b7",
   "metadata": {},
   "outputs": [
    {
     "data": {
      "text/plain": [
       "60"
      ]
     },
     "execution_count": 17,
     "metadata": {},
     "output_type": "execute_result"
    }
   ],
   "source": [
    "def container(items):\n",
    "    values = 0\n",
    "    for i in items:\n",
    "        values = values+ i\n",
    "        \n",
    "    return values\n",
    "container([10,20,30])"
   ]
  },
  {
   "cell_type": "markdown",
   "id": "98f82c4e",
   "metadata": {},
   "source": [
    "6- Write a Python program to test whether all numbers of a list is greater than a certain number. "
   ]
  },
  {
   "cell_type": "code",
   "execution_count": 73,
   "id": "2f1f2bc9",
   "metadata": {},
   "outputs": [
    {
     "name": "stdout",
     "output_type": "stream",
     "text": [
      "[5, 4, 6, 7] are greater than 3\n"
     ]
    }
   ],
   "source": [
    "def test(numbers,c_no):\n",
    "    result = []\n",
    "    for i in numbers:\n",
    "        if i > c_no:\n",
    "            result.append(i)\n",
    "    print(f'{result} are greater than {c_no}')\n",
    "#     return result\n",
    "\n",
    "test([1,5,4,6,7],3)\n",
    "# print(f'{result} are greater than {c_no}', test([1,5,4,6,7],3))"
   ]
  },
  {
   "cell_type": "markdown",
   "id": "d4b13226",
   "metadata": {},
   "source": [
    "7-  Write a Python program to count the number occurrence of a specific character in a string."
   ]
  },
  {
   "cell_type": "code",
   "execution_count": 82,
   "id": "4993f607",
   "metadata": {},
   "outputs": [
    {
     "name": "stdout",
     "output_type": "stream",
     "text": [
      "2\n"
     ]
    }
   ],
   "source": [
    "def char_string(occurrence,character):\n",
    "    occurrence = occurrence.count(character)\n",
    "    print(occurrence)\n",
    "\n",
    "char_string('sara','a')"
   ]
  },
  {
   "cell_type": "markdown",
   "id": "5544af72",
   "metadata": {},
   "source": [
    "8-   Write a Python program to perform an action if a condition is true. Go to the editor\n",
    "Given a variable name, if the value is 1, display the string \"First day of a Month!\" and do nothing if the value is not equal"
   ]
  },
  {
   "cell_type": "code",
   "execution_count": 95,
   "id": "8f8001c3",
   "metadata": {},
   "outputs": [
    {
     "name": "stdout",
     "output_type": "stream",
     "text": [
      "First day of a Month!\n"
     ]
    }
   ],
   "source": [
    "def action(variable):\n",
    "    s = \"First day of a Month!\"\n",
    "    if variable == 1:\n",
    "        print(s)\n",
    "\n",
    "\n",
    "action(1)\n",
    "action(2)"
   ]
  },
  {
   "cell_type": "markdown",
   "id": "300d65ec",
   "metadata": {},
   "source": [
    "9- Write a Python program to swap two variables"
   ]
  },
  {
   "cell_type": "code",
   "execution_count": 98,
   "id": "2a65a520",
   "metadata": {},
   "outputs": [
    {
     "name": "stdout",
     "output_type": "stream",
     "text": [
      "great and  sara\n"
     ]
    }
   ],
   "source": [
    "a = 'sara'\n",
    "b = 'great'\n",
    "a,b = b, a\n",
    "print(a, 'and ', b)\n",
    "    \n",
    "    "
   ]
  },
  {
   "cell_type": "code",
   "execution_count": 99,
   "id": "38cc3d5b",
   "metadata": {},
   "outputs": [],
   "source": [
    "list1 = [10, 20, [300, 400, [5000, 6000],500],30, 40]"
   ]
  },
  {
   "cell_type": "code",
   "execution_count": 105,
   "id": "613fd00d",
   "metadata": {},
   "outputs": [],
   "source": [
    "list1[2][2].append(7000)"
   ]
  },
  {
   "cell_type": "code",
   "execution_count": 106,
   "id": "bc7757e5",
   "metadata": {},
   "outputs": [
    {
     "data": {
      "text/plain": [
       "[10, 20, [300, 400, [5000, 6000, '7000', 7000], 500], 30, 40]"
      ]
     },
     "execution_count": 106,
     "metadata": {},
     "output_type": "execute_result"
    }
   ],
   "source": [
    "list1"
   ]
  },
  {
   "cell_type": "code",
   "execution_count": null,
   "id": "2ba453d4",
   "metadata": {},
   "outputs": [],
   "source": []
  }
 ],
 "metadata": {
  "kernelspec": {
   "display_name": "Python 3",
   "language": "python",
   "name": "python3"
  },
  "language_info": {
   "codemirror_mode": {
    "name": "ipython",
    "version": 3
   },
   "file_extension": ".py",
   "mimetype": "text/x-python",
   "name": "python",
   "nbconvert_exporter": "python",
   "pygments_lexer": "ipython3",
   "version": "3.8.8"
  }
 },
 "nbformat": 4,
 "nbformat_minor": 5
}
