{
 "cells": [
  {
   "cell_type": "code",
   "execution_count": 1,
   "id": "4edb4eb0",
   "metadata": {},
   "outputs": [],
   "source": [
    "import numpy as np"
   ]
  },
  {
   "cell_type": "code",
   "execution_count": 2,
   "id": "6242494d",
   "metadata": {},
   "outputs": [],
   "source": [
    "arr1 = np.zeros(10, dtype = int)"
   ]
  },
  {
   "cell_type": "code",
   "execution_count": 3,
   "id": "8d3251ad",
   "metadata": {},
   "outputs": [
    {
     "data": {
      "text/plain": [
       "10"
      ]
     },
     "execution_count": 3,
     "metadata": {},
     "output_type": "execute_result"
    }
   ],
   "source": [
    "arr1.size"
   ]
  },
  {
   "cell_type": "code",
   "execution_count": 4,
   "id": "c19b88ca",
   "metadata": {},
   "outputs": [
    {
     "name": "stdout",
     "output_type": "stream",
     "text": [
      " info(object=None, maxwidth=76,\n",
      "      output=<ipykernel.iostream.OutStream object at 0x0000024565A387F0>,\n",
      "      toplevel='numpy')\n",
      "\n",
      "Get help information for a function, class, or module.\n",
      "\n",
      "Parameters\n",
      "----------\n",
      "object : object or str, optional\n",
      "    Input object or name to get information about. If `object` is a\n",
      "    numpy object, its docstring is given. If it is a string, available\n",
      "    modules are searched for matching objects.  If None, information\n",
      "    about `info` itself is returned.\n",
      "maxwidth : int, optional\n",
      "    Printing width.\n",
      "output : file like object, optional\n",
      "    File like object that the output is written to, default is\n",
      "    ``stdout``.  The object has to be opened in 'w' or 'a' mode.\n",
      "toplevel : str, optional\n",
      "    Start search at this level.\n",
      "\n",
      "See Also\n",
      "--------\n",
      "source, lookfor\n",
      "\n",
      "Notes\n",
      "-----\n",
      "When used interactively with an object, ``np.info(obj)`` is equivalent\n",
      "to ``help(obj)`` on the Python prompt or ``obj?`` on the IPython\n",
      "prompt.\n",
      "\n",
      "Examples\n",
      "--------\n",
      ">>> np.info(np.polyval) # doctest: +SKIP\n",
      "   polyval(p, x)\n",
      "     Evaluate the polynomial p at x.\n",
      "     ...\n",
      "\n",
      "When using a string for `object` it is possible to get multiple results.\n",
      "\n",
      ">>> np.info('fft') # doctest: +SKIP\n",
      "     *** Found in numpy ***\n",
      "Core FFT routines\n",
      "...\n",
      "     *** Found in numpy.fft ***\n",
      " fft(a, n=None, axis=-1)\n",
      "...\n",
      "     *** Repeat reference found in numpy.fft.fftpack ***\n",
      "     *** Total of 3 references found. ***\n"
     ]
    }
   ],
   "source": [
    "np.info()"
   ]
  },
  {
   "cell_type": "code",
   "execution_count": 5,
   "id": "a71b0362",
   "metadata": {},
   "outputs": [
    {
     "data": {
      "text/plain": [
       "array([0, 0, 0, 0, 1, 0, 0, 0, 0, 0])"
      ]
     },
     "execution_count": 5,
     "metadata": {},
     "output_type": "execute_result"
    }
   ],
   "source": [
    "arr2 = np.zeros(10, dtype = int)\n",
    "arr2[4] = 1\n",
    "arr2"
   ]
  },
  {
   "cell_type": "code",
   "execution_count": 6,
   "id": "29b81e32",
   "metadata": {},
   "outputs": [
    {
     "data": {
      "text/plain": [
       "array([10, 11, 12, 13, 14, 15, 16, 17, 18, 19, 20, 21, 22, 23, 24, 25, 26,\n",
       "       27, 28, 29, 30, 31, 32, 33, 34, 35, 36, 37, 38, 39, 40, 41, 42, 43,\n",
       "       44, 45, 46, 47, 48, 49])"
      ]
     },
     "execution_count": 6,
     "metadata": {},
     "output_type": "execute_result"
    }
   ],
   "source": [
    "np.arange(10,50)"
   ]
  },
  {
   "cell_type": "code",
   "execution_count": 7,
   "id": "6c568c49",
   "metadata": {},
   "outputs": [
    {
     "name": "stdout",
     "output_type": "stream",
     "text": [
      "[[ 9  7 14]\n",
      " [17  1  4]\n",
      " [ 8 19  5]]  \n",
      "\n",
      "\n",
      "[[ 8 19  5]\n",
      " [ 9  7 14]\n",
      " [17  1  4]]\n"
     ]
    },
    {
     "data": {
      "text/plain": [
       "array([[17,  1,  4],\n",
       "       [ 9,  7, 14],\n",
       "       [ 8, 19,  5]])"
      ]
     },
     "execution_count": 7,
     "metadata": {},
     "output_type": "execute_result"
    }
   ],
   "source": [
    "# import shuffle from random\n",
    "np.random.seed(140)\n",
    "arr3 = np.random.randint(1,20, (3,3))\n",
    "print(f'{arr3}  \\n\\n')\n",
    "np.random.shuffle(arr3)\n",
    "print(arr3)\n",
    "arr3[::-1]"
   ]
  },
  {
   "cell_type": "code",
   "execution_count": 8,
   "id": "c4eff410",
   "metadata": {},
   "outputs": [
    {
     "data": {
      "text/plain": [
       "array([[7, 3, 6],\n",
       "       [5, 4, 4],\n",
       "       [0, 1, 7]])"
      ]
     },
     "execution_count": 8,
     "metadata": {},
     "output_type": "execute_result"
    }
   ],
   "source": [
    "np.random.seed(1234)\n",
    "arr4 = np.random.randint(0,8, (3,3))\n",
    "arr4"
   ]
  },
  {
   "cell_type": "code",
   "execution_count": 9,
   "id": "bb09ecc1",
   "metadata": {},
   "outputs": [
    {
     "data": {
      "text/plain": [
       "array([[0, 1, 2],\n",
       "       [3, 4, 5],\n",
       "       [6, 7, 8]])"
      ]
     },
     "execution_count": 9,
     "metadata": {},
     "output_type": "execute_result"
    }
   ],
   "source": [
    "arr5 = np.arange(9)\n",
    "arr5.reshape(3,3)"
   ]
  },
  {
   "cell_type": "code",
   "execution_count": 10,
   "id": "8e3dd089",
   "metadata": {},
   "outputs": [
    {
     "data": {
      "text/plain": [
       "(array([0, 1, 4], dtype=int64),)"
      ]
     },
     "execution_count": 10,
     "metadata": {},
     "output_type": "execute_result"
    }
   ],
   "source": [
    "li = [1,2,0,0,4,0]\n",
    "li2 =[i for i,v in enumerate(li) if v!= 0 ] \n",
    "li2\n",
    "np.nonzero(li)"
   ]
  },
  {
   "cell_type": "code",
   "execution_count": 11,
   "id": "ef1ddf6f",
   "metadata": {},
   "outputs": [
    {
     "data": {
      "text/plain": [
       "array([[0.19151945, 0.62210877, 0.43772774],\n",
       "       [0.78535858, 0.77997581, 0.27259261],\n",
       "       [0.27646426, 0.80187218, 0.95813935]])"
      ]
     },
     "execution_count": 11,
     "metadata": {},
     "output_type": "execute_result"
    }
   ],
   "source": [
    "np.random.seed(1234)\n",
    "arr5 = np.random.rand(3,3)\n",
    "arr5"
   ]
  },
  {
   "cell_type": "code",
   "execution_count": 12,
   "id": "c78a02e2",
   "metadata": {},
   "outputs": [
    {
     "data": {
      "text/plain": [
       "array([[1., 0., 0.],\n",
       "       [0., 1., 0.],\n",
       "       [0., 0., 1.]])"
      ]
     },
     "execution_count": 12,
     "metadata": {},
     "output_type": "execute_result"
    }
   ],
   "source": [
    "np.eye(3,3)"
   ]
  },
  {
   "cell_type": "code",
   "execution_count": 13,
   "id": "95b8dd9d",
   "metadata": {},
   "outputs": [
    {
     "data": {
      "text/plain": [
       "array([[[0.87593263, 0.35781727, 0.50099513],\n",
       "        [0.68346294, 0.71270203, 0.37025075],\n",
       "        [0.56119619, 0.50308317, 0.01376845]],\n",
       "\n",
       "       [[0.77282662, 0.88264119, 0.36488598],\n",
       "        [0.61539618, 0.07538124, 0.36882401],\n",
       "        [0.9331401 , 0.65137814, 0.39720258]],\n",
       "\n",
       "       [[0.78873014, 0.31683612, 0.56809865],\n",
       "        [0.86912739, 0.43617342, 0.80214764],\n",
       "        [0.14376682, 0.70426097, 0.70458131]]])"
      ]
     },
     "execution_count": 13,
     "metadata": {},
     "output_type": "execute_result"
    }
   ],
   "source": [
    "arr6 = np.random.rand(3,3,3)\n",
    "arr6"
   ]
  },
  {
   "cell_type": "code",
   "execution_count": 14,
   "id": "6006474b",
   "metadata": {},
   "outputs": [
    {
     "data": {
      "text/plain": [
       "(54, 3)"
      ]
     },
     "execution_count": 14,
     "metadata": {},
     "output_type": "execute_result"
    }
   ],
   "source": [
    "arr7 = np.random.randint(0,30,(10,10))\n",
    "arr7.argmin() , arr7.argmax()"
   ]
  },
  {
   "cell_type": "code",
   "execution_count": 15,
   "id": "b1af1957",
   "metadata": {},
   "outputs": [
    {
     "data": {
      "text/plain": [
       "14.5"
      ]
     },
     "execution_count": 15,
     "metadata": {},
     "output_type": "execute_result"
    }
   ],
   "source": [
    "arr8 = np.arange(30)\n",
    "np.mean(arr8)"
   ]
  },
  {
   "cell_type": "code",
   "execution_count": 16,
   "id": "c94a7086",
   "metadata": {},
   "outputs": [
    {
     "data": {
      "text/plain": [
       "array([[1, 1, 1],\n",
       "       [1, 0, 0],\n",
       "       [1, 0, 0]])"
      ]
     },
     "execution_count": 16,
     "metadata": {},
     "output_type": "execute_result"
    }
   ],
   "source": [
    "arr9 = np.zeros((3,3) ,dtype = int)\n",
    "arr9[0] = 1\n",
    "arr9[0:3,0] = 1\n",
    "arr9"
   ]
  },
  {
   "cell_type": "code",
   "execution_count": 17,
   "id": "5c37e3b0",
   "metadata": {},
   "outputs": [
    {
     "data": {
      "text/plain": [
       "array([[0]])"
      ]
     },
     "execution_count": 17,
     "metadata": {},
     "output_type": "execute_result"
    }
   ],
   "source": [
    "arr10= np.zeros((3,3) ,dtype = int)\n",
    "arr10[1:-1,1:-1]"
   ]
  },
  {
   "cell_type": "code",
   "execution_count": 18,
   "id": "48bb6c9f",
   "metadata": {},
   "outputs": [
    {
     "data": {
      "text/plain": [
       "array([[1, 1, 1, 1, 1],\n",
       "       [1, 1, 1, 1, 1],\n",
       "       [1, 1, 1, 1, 1],\n",
       "       [1, 1, 1, 1, 1],\n",
       "       [1, 1, 1, 1, 1]])"
      ]
     },
     "execution_count": 18,
     "metadata": {},
     "output_type": "execute_result"
    }
   ],
   "source": [
    "arr11 = np.ones((5,5), dtype = int)\n",
    "arr11\n",
    "# np.diag(arr11) = ([1,2,3,4,5])"
   ]
  },
  {
   "cell_type": "code",
   "execution_count": 19,
   "id": "73ba3c73",
   "metadata": {},
   "outputs": [
    {
     "name": "stdout",
     "output_type": "stream",
     "text": [
      "[[0 0 0 0 0]\n",
      " [1 0 0 0 0]\n",
      " [0 2 0 0 0]\n",
      " [0 0 3 0 0]\n",
      " [0 0 0 4 0]]\n"
     ]
    }
   ],
   "source": [
    "Z = np.diag(1+np.arange(4),k=-1)\n",
    "print(Z)"
   ]
  },
  {
   "cell_type": "code",
   "execution_count": 20,
   "id": "e2e8b5fd",
   "metadata": {},
   "outputs": [
    {
     "data": {
      "text/plain": [
       "array([[0., 0., 0., 0., 0.],\n",
       "       [0., 0., 0., 0., 0.],\n",
       "       [1., 0., 0., 0., 0.],\n",
       "       [0., 1., 0., 0., 0.],\n",
       "       [0., 0., 1., 0., 0.]])"
      ]
     },
     "execution_count": 20,
     "metadata": {},
     "output_type": "execute_result"
    }
   ],
   "source": [
    "np.eye(5, k=-2)"
   ]
  },
  {
   "cell_type": "code",
   "execution_count": 21,
   "id": "e0ab1ac7",
   "metadata": {},
   "outputs": [
    {
     "data": {
      "text/plain": [
       "array([[0, 0, 0, 0, 0],\n",
       "       [1, 0, 0, 0, 0],\n",
       "       [0, 2, 0, 0, 0],\n",
       "       [0, 0, 3, 0, 0],\n",
       "       [0, 0, 0, 4, 0]])"
      ]
     },
     "execution_count": 21,
     "metadata": {},
     "output_type": "execute_result"
    }
   ],
   "source": [
    "np.diag(np.arange(1,5), k=-1)"
   ]
  },
  {
   "cell_type": "code",
   "execution_count": 22,
   "id": "5db0e11f",
   "metadata": {},
   "outputs": [
    {
     "data": {
      "text/plain": [
       "array([[ 9,  3, 17, 44,  3, 16,  4, 47],\n",
       "       [35, 37, 25, 34, 43,  3, 24, 46],\n",
       "       [21, 36, 19, 13,  6, 18, 17,  9],\n",
       "       [46, 12, 16, 21, 17,  1, 33, 20],\n",
       "       [20, 28, 24, 42, 36, 37, 21, 29],\n",
       "       [ 2, 12, 18, 31, 39, 35, 26, 40],\n",
       "       [25, 13, 13, 33,  9, 48, 24, 26],\n",
       "       [46, 22, 23, 46, 20, 42, 48, 37]])"
      ]
     },
     "execution_count": 22,
     "metadata": {},
     "output_type": "execute_result"
    }
   ],
   "source": [
    "arr12 = np.random.randint(1,50, (8,8))\n",
    "arr12"
   ]
  },
  {
   "cell_type": "code",
   "execution_count": 23,
   "id": "a9459625",
   "metadata": {},
   "outputs": [
    {
     "data": {
      "text/plain": [
       "array([[ 9,  3, 17, 44,  3, 16,  4, 47],\n",
       "       [35, 37, 25, 34, 43,  3, 24, 46],\n",
       "       [21, 36, 19, 13,  6, 18, 17,  9],\n",
       "       [46, 12, 16, 21, 17,  1, 33, 20],\n",
       "       [20, 28, 24, 42, 36, 37, 21, 29],\n",
       "       [ 2, 12, 18, 31, 39, 35, 26, 40],\n",
       "       [25, 13, 13, 33,  9, 48, 24, 26],\n",
       "       [46, 22, 23, 46, 20, 42, 48, 37]])"
      ]
     },
     "execution_count": 23,
     "metadata": {},
     "output_type": "execute_result"
    }
   ],
   "source": [
    "arr12[0:, ::2] \n",
    "arr12"
   ]
  },
  {
   "cell_type": "code",
   "execution_count": 24,
   "id": "0a667371",
   "metadata": {},
   "outputs": [
    {
     "data": {
      "text/plain": [
       "array([[ 9,  3, 17, 44,  3, 16,  4, 47],\n",
       "       [ 0, 37,  0, 34,  0,  3,  0, 46],\n",
       "       [21, 36, 19, 13,  6, 18, 17,  9],\n",
       "       [ 0, 12,  0, 21,  0,  1,  0, 20],\n",
       "       [20, 28, 24, 42, 36, 37, 21, 29],\n",
       "       [ 0, 12,  0, 31,  0, 35,  0, 40],\n",
       "       [25, 13, 13, 33,  9, 48, 24, 26],\n",
       "       [ 0, 22,  0, 46,  0, 42,  0, 37]])"
      ]
     },
     "execution_count": 24,
     "metadata": {},
     "output_type": "execute_result"
    }
   ],
   "source": [
    "arr12[1::2,::2]=0\n",
    "arr12"
   ]
  },
  {
   "cell_type": "code",
   "execution_count": 25,
   "id": "8571c530",
   "metadata": {},
   "outputs": [
    {
     "data": {
      "text/plain": [
       "array([[ 9,  0, 17,  0,  3,  0,  4,  0],\n",
       "       [ 0, 37,  0, 34,  0,  3,  0, 46],\n",
       "       [21,  0, 19,  0,  6,  0, 17,  0],\n",
       "       [ 0, 12,  0, 21,  0,  1,  0, 20],\n",
       "       [20,  0, 24,  0, 36,  0, 21,  0],\n",
       "       [ 0, 12,  0, 31,  0, 35,  0, 40],\n",
       "       [25,  0, 13,  0,  9,  0, 24,  0],\n",
       "       [ 0, 22,  0, 46,  0, 42,  0, 37]])"
      ]
     },
     "execution_count": 25,
     "metadata": {},
     "output_type": "execute_result"
    }
   ],
   "source": [
    "arr12[::2,1::2] = 0\n",
    "arr12"
   ]
  },
  {
   "cell_type": "code",
   "execution_count": 26,
   "id": "6ad5416c",
   "metadata": {},
   "outputs": [
    {
     "data": {
      "text/plain": [
       "array([[ 9,  0, 17,  0,  3,  0,  4,  0],\n",
       "       [ 0,  1,  0,  1,  0,  1,  0,  1],\n",
       "       [21,  0, 19,  0,  6,  0, 17,  0],\n",
       "       [ 0,  1,  0,  1,  0,  1,  0,  1],\n",
       "       [20,  0, 24,  0, 36,  0, 21,  0],\n",
       "       [ 0,  1,  0,  1,  0,  1,  0,  1],\n",
       "       [25,  0, 13,  0,  9,  0, 24,  0],\n",
       "       [ 0,  1,  0,  1,  0,  1,  0,  1]])"
      ]
     },
     "execution_count": 26,
     "metadata": {},
     "output_type": "execute_result"
    }
   ],
   "source": [
    "arr12[1::2,1::2] =1\n",
    "arr12"
   ]
  },
  {
   "cell_type": "code",
   "execution_count": 27,
   "id": "e6f04f53",
   "metadata": {},
   "outputs": [
    {
     "data": {
      "text/plain": [
       "array([[0., 0., 0., 0., 0., 0., 0., 0.],\n",
       "       [0., 0., 0., 0., 0., 0., 0., 0.],\n",
       "       [0., 0., 0., 0., 0., 0., 0., 0.],\n",
       "       [0., 0., 0., 0., 0., 0., 0., 0.],\n",
       "       [0., 0., 0., 0., 0., 0., 0., 0.],\n",
       "       [0., 0., 0., 0., 0., 0., 0., 0.],\n",
       "       [0., 0., 0., 0., 0., 0., 0., 0.],\n",
       "       [0., 0., 0., 0., 0., 0., 0., 0.]])"
      ]
     },
     "execution_count": 27,
     "metadata": {},
     "output_type": "execute_result"
    }
   ],
   "source": [
    "arr13 = np.zeros((8,8))\n",
    "arr13"
   ]
  },
  {
   "cell_type": "code",
   "execution_count": 28,
   "id": "1e08820a",
   "metadata": {},
   "outputs": [
    {
     "data": {
      "text/plain": [
       "array([[0., 1., 0., 1., 0., 1., 0., 1.],\n",
       "       [0., 0., 0., 0., 0., 0., 0., 0.],\n",
       "       [0., 1., 0., 1., 0., 1., 0., 1.],\n",
       "       [0., 0., 0., 0., 0., 0., 0., 0.],\n",
       "       [0., 1., 0., 1., 0., 1., 0., 1.],\n",
       "       [0., 0., 0., 0., 0., 0., 0., 0.],\n",
       "       [0., 1., 0., 1., 0., 1., 0., 1.],\n",
       "       [0., 0., 0., 0., 0., 0., 0., 0.]])"
      ]
     },
     "execution_count": 28,
     "metadata": {},
     "output_type": "execute_result"
    }
   ],
   "source": [
    "arr13[0::2,1::2] = 1\n",
    "arr13"
   ]
  },
  {
   "cell_type": "code",
   "execution_count": 29,
   "id": "f3509723",
   "metadata": {},
   "outputs": [
    {
     "data": {
      "text/plain": [
       "array([[0., 1., 0., 1., 0., 1., 0., 1.],\n",
       "       [1., 0., 1., 0., 1., 0., 1., 0.],\n",
       "       [0., 1., 0., 1., 0., 1., 0., 1.],\n",
       "       [1., 0., 1., 0., 1., 0., 1., 0.],\n",
       "       [0., 1., 0., 1., 0., 1., 0., 1.],\n",
       "       [1., 0., 1., 0., 1., 0., 1., 0.],\n",
       "       [0., 1., 0., 1., 0., 1., 0., 1.],\n",
       "       [1., 0., 1., 0., 1., 0., 1., 0.]])"
      ]
     },
     "execution_count": 29,
     "metadata": {},
     "output_type": "execute_result"
    }
   ],
   "source": [
    "arr13[1::2,::2] = 1\n",
    "arr13"
   ]
  },
  {
   "cell_type": "code",
   "execution_count": 30,
   "id": "d83f2c95",
   "metadata": {},
   "outputs": [],
   "source": [
    "arr14 = np.random.randint(0,50, (6,7,8))\n"
   ]
  },
  {
   "cell_type": "code",
   "execution_count": 31,
   "id": "81f8c99b",
   "metadata": {},
   "outputs": [
    {
     "data": {
      "text/plain": [
       "(1, 5, 4)"
      ]
     },
     "execution_count": 31,
     "metadata": {},
     "output_type": "execute_result"
    }
   ],
   "source": [
    "np.unravel_index(100, (6,7,8))### query"
   ]
  },
  {
   "cell_type": "code",
   "execution_count": 32,
   "id": "96a1bc63",
   "metadata": {},
   "outputs": [],
   "source": [
    "np.set_printoptions(linewidth=10000)"
   ]
  },
  {
   "cell_type": "code",
   "execution_count": 33,
   "id": "57832c23",
   "metadata": {},
   "outputs": [
    {
     "data": {
      "text/plain": [
       "array([[0, 1, 0, 1],\n",
       "       [1, 0, 1, 0],\n",
       "       [0, 1, 0, 1],\n",
       "       [1, 0, 1, 0]])"
      ]
     },
     "execution_count": 33,
     "metadata": {},
     "output_type": "execute_result"
    }
   ],
   "source": [
    "arr21 = np.ones((4,4) , dtype = 'int') \n",
    "arr21[0::2,::2] = 0\n",
    "arr21[1::2,1::2] = 0\n",
    "arr21"
   ]
  },
  {
   "cell_type": "code",
   "execution_count": 34,
   "id": "d4a008a0",
   "metadata": {},
   "outputs": [
    {
     "data": {
      "text/plain": [
       "array([[0, 1, 0, 1, 0, 1, 0, 1],\n",
       "       [1, 0, 1, 0, 1, 0, 1, 0],\n",
       "       [0, 1, 0, 1, 0, 1, 0, 1],\n",
       "       [1, 0, 1, 0, 1, 0, 1, 0],\n",
       "       [0, 1, 0, 1, 0, 1, 0, 1],\n",
       "       [1, 0, 1, 0, 1, 0, 1, 0],\n",
       "       [0, 1, 0, 1, 0, 1, 0, 1],\n",
       "       [1, 0, 1, 0, 1, 0, 1, 0]])"
      ]
     },
     "execution_count": 34,
     "metadata": {},
     "output_type": "execute_result"
    }
   ],
   "source": [
    "arr21_ = np.tile(arr21,(2,2))\n",
    "arr21_"
   ]
  },
  {
   "cell_type": "code",
   "execution_count": 35,
   "id": "4b7131b3",
   "metadata": {},
   "outputs": [
    {
     "data": {
      "text/plain": [
       "array([[0.19151945, 0.62210877, 0.43772774, 0.78535858, 0.77997581],\n",
       "       [0.27259261, 0.27646426, 0.80187218, 0.95813935, 0.87593263],\n",
       "       [0.35781727, 0.50099513, 0.68346294, 0.71270203, 0.37025075],\n",
       "       [0.56119619, 0.50308317, 0.01376845, 0.77282662, 0.88264119],\n",
       "       [0.36488598, 0.61539618, 0.07538124, 0.36882401, 0.9331401 ]])"
      ]
     },
     "execution_count": 35,
     "metadata": {},
     "output_type": "execute_result"
    }
   ],
   "source": [
    "np.random.seed(1234)\n",
    "arr22 = np.random.random((5,5))\n",
    "arr22"
   ]
  },
  {
   "cell_type": "code",
   "execution_count": 36,
   "id": "60f37dc0",
   "metadata": {},
   "outputs": [
    {
     "data": {
      "text/plain": [
       "array([[-1.34928699,  0.27720685, -0.41926795,  0.89386129,  0.87352857],\n",
       "       [-1.04304394, -1.0284193 ,  0.95623919,  1.54651765,  1.23599271],\n",
       "       [-0.72111911, -0.18028382,  0.50896404,  0.61941082, -0.67415328],\n",
       "       [ 0.04711767, -0.17239653, -2.02071774,  0.84652347,  1.26133339],\n",
       "       [-0.69441799,  0.25185093, -1.78798362, -0.67954263,  1.45208631]])"
      ]
     },
     "execution_count": 36,
     "metadata": {},
     "output_type": "execute_result"
    }
   ],
   "source": [
    "arr22_ = (arr22-np.mean(arr22))/np.std(arr22)\n",
    "arr22_"
   ]
  },
  {
   "cell_type": "code",
   "execution_count": 37,
   "id": "6159a640",
   "metadata": {},
   "outputs": [
    {
     "data": {
      "text/plain": [
       "array([[0.1882216 , 0.64417521, 0.44893303, 0.81704141, 0.81134156],\n",
       "       [0.27407045, 0.27817016, 0.83452775, 1.        , 0.91295081],\n",
       "       [0.36431535, 0.51592724, 0.7091435 , 0.74010495, 0.37748125],\n",
       "       [0.57967451, 0.51813828, 0.        , 0.80377124, 0.92005454],\n",
       "       [0.37180046, 0.6370672 , 0.06524215, 0.37597045, 0.97352814]])"
      ]
     },
     "execution_count": 37,
     "metadata": {},
     "output_type": "execute_result"
    }
   ],
   "source": [
    "arr22max, arr22min = arr22.max(), arr22.min()\n",
    "\n",
    "arr22_1 = (arr22-arr22min)/(arr22max-arr22min)\n",
    "arr22_1"
   ]
  },
  {
   "cell_type": "code",
   "execution_count": 38,
   "id": "ea27be27",
   "metadata": {},
   "outputs": [
    {
     "data": {
      "text/plain": [
       "array([[0.82069713, 0.81908455],\n",
       "       [0.95299787, 0.90574182],\n",
       "       [0.95949821, 0.58086777],\n",
       "       [0.12479078, 0.29073073],\n",
       "       [0.19692357, 0.55722968]])"
      ]
     },
     "execution_count": 38,
     "metadata": {},
     "output_type": "execute_result"
    }
   ],
   "source": [
    "np.random.seed(1324)\n",
    "arr24 = np.dot(np.random.random((5,3)),np.random.random((3,2)))\n",
    "arr24"
   ]
  },
  {
   "cell_type": "code",
   "execution_count": 39,
   "id": "287518b5",
   "metadata": {},
   "outputs": [
    {
     "data": {
      "text/plain": [
       "array([[3, 3],\n",
       "       [3, 3],\n",
       "       [3, 3],\n",
       "       [3, 3],\n",
       "       [3, 3]])"
      ]
     },
     "execution_count": 39,
     "metadata": {},
     "output_type": "execute_result"
    }
   ],
   "source": [
    "arr24_ = np.dot(np.ones((5,3), dtype = 'int'), np.ones((3,2), dtype = 'int'))\n",
    "arr24_"
   ]
  },
  {
   "cell_type": "code",
   "execution_count": 40,
   "id": "0f51d181",
   "metadata": {},
   "outputs": [
    {
     "name": "stdout",
     "output_type": "stream",
     "text": [
      "[ 0  1  2  3 -4 -5 -6 -7 -8  9 10]\n"
     ]
    }
   ],
   "source": [
    "Z = np.arange(11)\n",
    "Z[(3 < Z) & (Z <= 8)] *= -1\n",
    "print(Z)"
   ]
  },
  {
   "cell_type": "code",
   "execution_count": 41,
   "id": "26505212",
   "metadata": {},
   "outputs": [
    {
     "name": "stdout",
     "output_type": "stream",
     "text": [
      "[ 0  1  2  3 -4 -5 -6 -7 -8  9 10]\n"
     ]
    }
   ],
   "source": [
    "arr25 = np.arange(11)\n",
    "arr25[(arr25 > 3) & (arr25 <= 8)] *= -1\n",
    "print(arr25)"
   ]
  },
  {
   "cell_type": "code",
   "execution_count": 42,
   "id": "b14d2275",
   "metadata": {},
   "outputs": [
    {
     "data": {
      "text/plain": [
       "[]"
      ]
     },
     "execution_count": 42,
     "metadata": {},
     "output_type": "execute_result"
    }
   ],
   "source": [
    "arr25 = [-i for i in arr25 if i > 3 and i <= 8]\n",
    "arr25"
   ]
  },
  {
   "cell_type": "code",
   "execution_count": 43,
   "id": "1ee508ae",
   "metadata": {},
   "outputs": [
    {
     "name": "stdout",
     "output_type": "stream",
     "text": [
      "9\n",
      "10\n"
     ]
    }
   ],
   "source": [
    "print(sum(range(5),-1))\n",
    "from numpy import *\n",
    "print(sum(range(5),-1))"
   ]
  },
  {
   "cell_type": "code",
   "execution_count": 122,
   "id": "dd6f08a7",
   "metadata": {},
   "outputs": [
    {
     "name": "stdout",
     "output_type": "stream",
     "text": [
      "[-2.147e+09]\n"
     ]
    }
   ],
   "source": [
    "print(np.array([np.nan]).astype(int).astype(float))"
   ]
  },
  {
   "cell_type": "code",
   "execution_count": 44,
   "id": "54b019e4",
   "metadata": {},
   "outputs": [
    {
     "name": "stdout",
     "output_type": "stream",
     "text": [
      "nan\n",
      "0\n",
      "[-2.14748365e+09]\n"
     ]
    },
    {
     "name": "stderr",
     "output_type": "stream",
     "text": [
      "<ipython-input-44-2a10de0ee61b>:1: RuntimeWarning: invalid value encountered in true_divide\n",
      "  print(np.array(0) / np.array(0))\n",
      "<ipython-input-44-2a10de0ee61b>:2: RuntimeWarning: divide by zero encountered in floor_divide\n",
      "  print(np.array(0) // np.array(0))\n"
     ]
    }
   ],
   "source": [
    "print(np.array(0) / np.array(0))\n",
    "print(np.array(0) // np.array(0))\n",
    "print(np.array([np.nan]).astype(int).astype(float))"
   ]
  },
  {
   "cell_type": "code",
   "execution_count": 45,
   "id": "e17b95c5",
   "metadata": {},
   "outputs": [],
   "source": [
    "np.set_printoptions(precision = 3 , linewidth= 100000)"
   ]
  },
  {
   "cell_type": "code",
   "execution_count": 46,
   "id": "a1d25ca5",
   "metadata": {},
   "outputs": [
    {
     "name": "stdout",
     "output_type": "stream",
     "text": [
      "[ 4. -5. -6.  2.  5. -2. 10.  4. -1. -3.]\n"
     ]
    },
    {
     "data": {
      "text/plain": [
       "array([ 3.929, -4.277, -5.463,  1.026,  4.389, -1.538,  9.615,  3.697, -0.381, -2.158])"
      ]
     },
     "execution_count": 46,
     "metadata": {},
     "output_type": "execute_result"
    }
   ],
   "source": [
    "np.random.seed(123)\n",
    "arr29 = np.random.uniform(-10,+10,10)\n",
    "print(np.copysign(np.ceil(np.abs(arr29)), arr29))\n",
    "arr29"
   ]
  },
  {
   "cell_type": "code",
   "execution_count": 47,
   "id": "4d55a428",
   "metadata": {},
   "outputs": [
    {
     "data": {
      "text/plain": [
       "array([ 4.,  5.,  6.,  2.,  5.,  2., 10.,  4.,  1.,  3.])"
      ]
     },
     "execution_count": 47,
     "metadata": {},
     "output_type": "execute_result"
    }
   ],
   "source": [
    "np.ceil(np.abs(arr29))"
   ]
  },
  {
   "cell_type": "code",
   "execution_count": 48,
   "id": "41c2d450",
   "metadata": {},
   "outputs": [
    {
     "data": {
      "text/plain": [
       "array([], dtype=float64)"
      ]
     },
     "execution_count": 48,
     "metadata": {},
     "output_type": "execute_result"
    }
   ],
   "source": [
    "arr30 = np.random.uniform(0,10,6)\n",
    "arr30_ = np.random.uniform(0,10,6)\n",
    "np.intersect1d(arr30, arr30_)"
   ]
  },
  {
   "cell_type": "code",
   "execution_count": 49,
   "id": "848c8a7e",
   "metadata": {},
   "outputs": [
    {
     "name": "stderr",
     "output_type": "stream",
     "text": [
      "<ipython-input-49-ed648c6c97e7>:2: RuntimeWarning: divide by zero encountered in true_divide\n",
      "  arr31 = np.ones(1) / 0\n"
     ]
    },
    {
     "data": {
      "text/plain": [
       "array([inf])"
      ]
     },
     "execution_count": 49,
     "metadata": {},
     "output_type": "execute_result"
    }
   ],
   "source": [
    "# defaults = np.seterr(all = 'ignore')\n",
    "arr31 = np.ones(1) / 0\n",
    "arr31"
   ]
  },
  {
   "cell_type": "code",
   "execution_count": 50,
   "id": "25ef73f3",
   "metadata": {},
   "outputs": [
    {
     "name": "stderr",
     "output_type": "stream",
     "text": [
      "<ipython-input-50-fb23fa3cbb44>:1: RuntimeWarning: invalid value encountered in sqrt\n",
      "  np.sqrt(-1) ==   np.emath.sqrt(-1)\n"
     ]
    },
    {
     "data": {
      "text/plain": [
       "False"
      ]
     },
     "execution_count": 50,
     "metadata": {},
     "output_type": "execute_result"
    }
   ],
   "source": [
    "np.sqrt(-1) ==   np.emath.sqrt(-1)\n"
   ]
  },
  {
   "cell_type": "code",
   "execution_count": 51,
   "id": "d42eb611",
   "metadata": {},
   "outputs": [
    {
     "data": {
      "text/plain": [
       "array([[-1.5, -1.5, -1.5],\n",
       "       [-1.5, -1.5, -1.5],\n",
       "       [-1.5, -1.5, -1.5]])"
      ]
     },
     "execution_count": 51,
     "metadata": {},
     "output_type": "execute_result"
    }
   ],
   "source": [
    "a35 = np.ones((3,3))\n",
    "a35a = np.full((3,3), fill_value = 2)\n",
    "a = np.add(a35, a35a)\n",
    "b = np.divide(-a35, 2)\n",
    "a*b"
   ]
  },
  {
   "cell_type": "code",
   "execution_count": 63,
   "id": "bd600b1b",
   "metadata": {},
   "outputs": [
    {
     "name": "stdout",
     "output_type": "stream",
     "text": [
      "[3.432 7.29  4.386 0.597 3.98  7.38 ]\n",
      "[3. 7. 4. 0. 3. 7.]\n",
      "[3 7 4 0 3 7]\n"
     ]
    }
   ],
   "source": [
    "print(arr30)\n",
    "print(np.floor(arr30))\n",
    "p = (np.trunc(arr30))\n",
    "print(arr30.astype(int))"
   ]
  },
  {
   "cell_type": "code",
   "execution_count": 83,
   "id": "01006520",
   "metadata": {},
   "outputs": [
    {
     "data": {
      "text/plain": [
       "array([[0, 1, 2, 3, 4],\n",
       "       [0, 1, 2, 3, 4],\n",
       "       [0, 1, 2, 3, 4],\n",
       "       [0, 1, 2, 3, 4],\n",
       "       [0, 1, 2, 3, 4]])"
      ]
     },
     "execution_count": 83,
     "metadata": {},
     "output_type": "execute_result"
    }
   ],
   "source": [
    "a37 = np.zeros((5,5), dtype = 'int') \n",
    "a37 += np.arange(5, dtype = 'int')\n",
    "# np.hstack(a37)\n",
    "a37"
   ]
  },
  {
   "cell_type": "code",
   "execution_count": 85,
   "id": "469d4755",
   "metadata": {},
   "outputs": [
    {
     "data": {
      "text/plain": [
       "array([[0, 1, 2, 3, 4],\n",
       "       [0, 1, 2, 3, 4],\n",
       "       [0, 1, 2, 3, 4],\n",
       "       [0, 1, 2, 3, 4],\n",
       "       [0, 1, 2, 3, 4]])"
      ]
     },
     "execution_count": 85,
     "metadata": {},
     "output_type": "execute_result"
    }
   ],
   "source": [
    "a37_ = np.tile(np.arange(0, 5), (5,1))\n",
    "a37_"
   ]
  },
  {
   "cell_type": "code",
   "execution_count": 93,
   "id": "36932ce8",
   "metadata": {},
   "outputs": [
    {
     "name": "stdout",
     "output_type": "stream",
     "text": [
      "[0.111 0.222 0.333 0.444 0.556 0.667 0.778 0.889]\n"
     ]
    }
   ],
   "source": [
    "a39 = np.linspace(0,1,10,endpoint=True)[1:-1]\n",
    "print(a39)\n",
    "# np.size(Z)"
   ]
  },
  {
   "cell_type": "code",
   "execution_count": 55,
   "id": "54346c5b",
   "metadata": {},
   "outputs": [
    {
     "data": {
      "text/plain": [
       "array([[0.724, 0.611, 0.722, 0.323, 0.362, 0.228, 0.294, 0.631, 0.092]])"
      ]
     },
     "execution_count": 55,
     "metadata": {},
     "output_type": "execute_result"
    }
   ],
   "source": [
    "arr39 = np.random.ranf((1,9))\n",
    "arr39"
   ]
  },
  {
   "cell_type": "code",
   "execution_count": 102,
   "id": "cf90a9c4",
   "metadata": {},
   "outputs": [
    {
     "data": {
      "text/plain": [
       "array([0.044, 0.151, 0.305, 0.356, 0.357, 0.389, 0.398, 0.554, 0.593, 0.692, 0.705, 0.763, 0.842, 0.925, 0.995])"
      ]
     },
     "execution_count": 102,
     "metadata": {},
     "output_type": "execute_result"
    }
   ],
   "source": [
    "a40 = np.random.random(15)\n",
    "np.sort(a40)"
   ]
  },
  {
   "cell_type": "code",
   "execution_count": 109,
   "id": "ab9804f2",
   "metadata": {},
   "outputs": [
    {
     "name": "stdout",
     "output_type": "stream",
     "text": [
      "[[29 51 28]\n",
      " [10 38 55]\n",
      " [42  7 23]]\n"
     ]
    },
    {
     "data": {
      "text/plain": [
       "array([ 81,  96, 106])"
      ]
     },
     "execution_count": 109,
     "metadata": {},
     "output_type": "execute_result"
    }
   ],
   "source": [
    "a41 = np.random.randint(5,60, (3,3))\n",
    "print(a41)\n",
    "np.add.reduce(a41)"
   ]
  },
  {
   "cell_type": "code",
   "execution_count": 120,
   "id": "5104f749",
   "metadata": {},
   "outputs": [
    {
     "name": "stdout",
     "output_type": "stream",
     "text": [
      "[[ 5  6  7  8  9]\n",
      " [10 11 12 13 14]\n",
      " [15 16 17 18 19]\n",
      " [20 21 22 23 24]\n",
      " [25 26 27 28 29]] \n",
      "\n",
      " [[ 5  6  7  8  9]\n",
      " [10 11 12 13 14]\n",
      " [15 16 17 18 19]\n",
      " [20 21 22 23 24]\n",
      " [25 26 27 28 29]]\n"
     ]
    },
    {
     "data": {
      "text/plain": [
       "array([[ True,  True,  True,  True,  True],\n",
       "       [ True,  True,  True,  True,  True],\n",
       "       [ True,  True,  True,  True,  True],\n",
       "       [ True,  True,  True,  True,  True],\n",
       "       [ True,  True,  True,  True,  True]])"
      ]
     },
     "execution_count": 120,
     "metadata": {},
     "output_type": "execute_result"
    }
   ],
   "source": [
    "np.random.seed(789)\n",
    "a42 = np.arange(5,30).reshape((5,5))\n",
    "a42_ = np.arange(5,30).reshape((5,5))\n",
    "print(a42, '\\n\\n', a42_)\n",
    "(a42 == a42_)"
   ]
  },
  {
   "cell_type": "code",
   "execution_count": 16,
   "id": "de479a96",
   "metadata": {},
   "outputs": [
    {
     "data": {
      "text/plain": [
       "array([ 3, 48, 25, 23, 47,  8, 49,  4, 20, 15])"
      ]
     },
     "execution_count": 16,
     "metadata": {},
     "output_type": "execute_result"
    }
   ],
   "source": [
    "arr45 = np.random.randint(2,50,  size = 10)\n",
    "arr45"
   ]
  },
  {
   "cell_type": "code",
   "execution_count": 24,
   "id": "bdf27877",
   "metadata": {},
   "outputs": [
    {
     "ename": "SyntaxError",
     "evalue": "cannot assign to function call (<ipython-input-24-291900fa9b09>, line 1)",
     "output_type": "error",
     "traceback": [
      "\u001b[1;36m  File \u001b[1;32m\"<ipython-input-24-291900fa9b09>\"\u001b[1;36m, line \u001b[1;32m1\u001b[0m\n\u001b[1;33m    np.where(arr45 == np.max(arr45)) = 0\u001b[0m\n\u001b[1;37m    ^\u001b[0m\n\u001b[1;31mSyntaxError\u001b[0m\u001b[1;31m:\u001b[0m cannot assign to function call\n"
     ]
    }
   ],
   "source": [
    "np.where(arr45 == np.max(arr45))"
   ]
  },
  {
   "cell_type": "code",
   "execution_count": 8,
   "id": "dd579c37",
   "metadata": {},
   "outputs": [],
   "source": [
    "arr = np.array([10, 15, 20, 25, 30, 35, 40])\n"
   ]
  },
  {
   "cell_type": "code",
   "execution_count": 15,
   "id": "89382416",
   "metadata": {},
   "outputs": [
    {
     "data": {
      "text/plain": [
       "array([10, 20, 30, 40])"
      ]
     },
     "execution_count": 15,
     "metadata": {},
     "output_type": "execute_result"
    }
   ],
   "source": [
    "arr[::2]\n"
   ]
  },
  {
   "cell_type": "code",
   "execution_count": 3,
   "id": "93909465",
   "metadata": {
    "scrolled": true
   },
   "outputs": [
    {
     "data": {
      "text/plain": [
       "array([[0.44634169, 0.01183657],\n",
       "       [0.87832984, 0.89311514],\n",
       "       [0.94631234, 0.6853462 ],\n",
       "       [0.71982065, 0.46381939],\n",
       "       [0.87197818, 0.50630518],\n",
       "       [0.47288589, 0.11510363],\n",
       "       [0.30730797, 0.7206878 ],\n",
       "       [0.55818752, 0.45575405],\n",
       "       [0.46299029, 0.84148542],\n",
       "       [0.73153472, 0.61794164]])"
      ]
     },
     "execution_count": 3,
     "metadata": {},
     "output_type": "execute_result"
    }
   ],
   "source": [
    "arr52 = np.random.random((10,2))\n",
    "arr52"
   ]
  },
  {
   "cell_type": "code",
   "execution_count": null,
   "id": "dd394194",
   "metadata": {},
   "outputs": [],
   "source": []
  },
  {
   "cell_type": "code",
   "execution_count": 20,
   "id": "42323e95",
   "metadata": {},
   "outputs": [],
   "source": [
    "m = np.max(arr45) \n",
    "m = 0"
   ]
  },
  {
   "cell_type": "code",
   "execution_count": 21,
   "id": "b5d89a81",
   "metadata": {},
   "outputs": [
    {
     "data": {
      "text/plain": [
       "array([ 3, 48, 25, 23, 47,  8, 49,  4, 20, 15])"
      ]
     },
     "execution_count": 21,
     "metadata": {},
     "output_type": "execute_result"
    }
   ],
   "source": [
    "arr45"
   ]
  },
  {
   "cell_type": "code",
   "execution_count": null,
   "id": "a795cf4b",
   "metadata": {},
   "outputs": [],
   "source": []
  },
  {
   "cell_type": "code",
   "execution_count": null,
   "id": "77c55d1b",
   "metadata": {},
   "outputs": [],
   "source": []
  },
  {
   "cell_type": "code",
   "execution_count": null,
   "id": "ee94e83d",
   "metadata": {},
   "outputs": [],
   "source": []
  },
  {
   "cell_type": "code",
   "execution_count": null,
   "id": "bf33ff7c",
   "metadata": {},
   "outputs": [],
   "source": []
  },
  {
   "cell_type": "code",
   "execution_count": null,
   "id": "d21cda4a",
   "metadata": {},
   "outputs": [],
   "source": []
  },
  {
   "cell_type": "code",
   "execution_count": null,
   "id": "f72a8f6e",
   "metadata": {},
   "outputs": [],
   "source": []
  },
  {
   "cell_type": "code",
   "execution_count": null,
   "id": "f28bc6f9",
   "metadata": {},
   "outputs": [],
   "source": []
  },
  {
   "cell_type": "code",
   "execution_count": null,
   "id": "6a534e5f",
   "metadata": {},
   "outputs": [],
   "source": []
  },
  {
   "cell_type": "code",
   "execution_count": null,
   "id": "d77ce63f",
   "metadata": {},
   "outputs": [],
   "source": []
  },
  {
   "cell_type": "code",
   "execution_count": null,
   "id": "beb31b6c",
   "metadata": {},
   "outputs": [],
   "source": []
  },
  {
   "cell_type": "code",
   "execution_count": null,
   "id": "e5f242f5",
   "metadata": {},
   "outputs": [],
   "source": []
  },
  {
   "cell_type": "code",
   "execution_count": null,
   "id": "12039897",
   "metadata": {},
   "outputs": [],
   "source": []
  },
  {
   "cell_type": "code",
   "execution_count": null,
   "id": "8807aa64",
   "metadata": {},
   "outputs": [],
   "source": []
  },
  {
   "cell_type": "code",
   "execution_count": null,
   "id": "0a5689ec",
   "metadata": {},
   "outputs": [],
   "source": []
  }
 ],
 "metadata": {
  "kernelspec": {
   "display_name": "Python 3",
   "language": "python",
   "name": "python3"
  },
  "language_info": {
   "codemirror_mode": {
    "name": "ipython",
    "version": 3
   },
   "file_extension": ".py",
   "mimetype": "text/x-python",
   "name": "python",
   "nbconvert_exporter": "python",
   "pygments_lexer": "ipython3",
   "version": "3.8.8"
  }
 },
 "nbformat": 4,
 "nbformat_minor": 5
}
