{
 "cells": [
  {
   "cell_type": "markdown",
   "id": "283abb78",
   "metadata": {},
   "source": [
    "1- Write a Python program to create a histogram from a given list of integers."
   ]
  },
  {
   "cell_type": "code",
   "execution_count": 2,
   "id": "290f6571",
   "metadata": {},
   "outputs": [
    {
     "ename": "NameError",
     "evalue": "name 'hist' is not defined",
     "output_type": "error",
     "traceback": [
      "\u001b[1;31m---------------------------------------------------------------------------\u001b[0m",
      "\u001b[1;31mNameError\u001b[0m                                 Traceback (most recent call last)",
      "\u001b[1;32m<ipython-input-2-1635e45d7e2c>\u001b[0m in \u001b[0;36m<module>\u001b[1;34m\u001b[0m\n\u001b[0;32m      1\u001b[0m \u001b[0mintegers\u001b[0m \u001b[1;33m=\u001b[0m \u001b[1;33m[\u001b[0m\u001b[1;36m1\u001b[0m\u001b[1;33m,\u001b[0m\u001b[1;36m2\u001b[0m\u001b[1;33m,\u001b[0m\u001b[1;36m3\u001b[0m\u001b[1;33m,\u001b[0m\u001b[1;36m6\u001b[0m\u001b[1;33m,\u001b[0m\u001b[1;36m5\u001b[0m\u001b[1;33m,\u001b[0m\u001b[1;36m9\u001b[0m\u001b[1;33m,\u001b[0m\u001b[1;36m8\u001b[0m\u001b[1;33m,\u001b[0m\u001b[1;36m45\u001b[0m\u001b[1;33m,\u001b[0m\u001b[1;36m21\u001b[0m\u001b[1;33m,\u001b[0m\u001b[1;36m93\u001b[0m\u001b[1;33m,\u001b[0m\u001b[1;36m11\u001b[0m\u001b[1;33m]\u001b[0m\u001b[1;33m\u001b[0m\u001b[1;33m\u001b[0m\u001b[0m\n\u001b[1;32m----> 2\u001b[1;33m \u001b[0mhist\u001b[0m\u001b[1;33m(\u001b[0m\u001b[0mintegers\u001b[0m\u001b[1;33m)\u001b[0m\u001b[1;33m\u001b[0m\u001b[1;33m\u001b[0m\u001b[0m\n\u001b[0m",
      "\u001b[1;31mNameError\u001b[0m: name 'hist' is not defined"
     ]
    }
   ],
   "source": [
    "integers = "
   ]
  },
  {
   "cell_type": "markdown",
   "id": "a7f6c8f7",
   "metadata": {},
   "source": [
    "2- Write a Python program to concatenate all elements in a list into a string and return it."
   ]
  },
  {
   "cell_type": "code",
   "execution_count": 2,
   "id": "9d222ca6",
   "metadata": {},
   "outputs": [
    {
     "name": "stdout",
     "output_type": "stream",
     "text": [
      "15122\n"
     ]
    }
   ],
   "source": [
    "def elements(n):\n",
    "    string=''\n",
    "    for i in n:\n",
    "        string = string + str(i)\n",
    "    return string\n",
    "\n",
    "print(elements([1,5,12,2]))"
   ]
  },
  {
   "cell_type": "markdown",
   "id": "8a5e3c4d",
   "metadata": {},
   "source": [
    "3- Write a Python program to print all even numbers from a given numbers list in the same order and stop the printing if any numbers that come after 237 in the sequence. Go to the editor\n",
    "Sample numbers list :\n",
    "\n",
    "numbers = [    \n",
    "    386, 462, 47, 418, 907, 344, 236, 375, 823, 566, 597, 978, 328, 615, 953, 345, \n",
    "    399, 162, 758, 219, 918, 237, 412, 566, 826, 248, 866, 950, 626, 949, 687, 217, \n",
    "    815, 67, 104, 58, 512, 24, 892, 894, 767, 553, 81, 379, 843, 831, 445, 742, 717, \n",
    "    958,743, 527\n",
    "    ]"
   ]
  },
  {
   "cell_type": "code",
   "execution_count": 38,
   "id": "8a8c719a",
   "metadata": {},
   "outputs": [
    {
     "name": "stdout",
     "output_type": "stream",
     "text": [
      "[386, 462, 418, 344, 236, 566, 978, 328, 162, 758, 918]\n"
     ]
    }
   ],
   "source": [
    "def num_list(numbers):\n",
    "    even = []\n",
    "    for i in numbers:\n",
    "        if i == 237 : \n",
    "            break\n",
    "        elif i % 2 == 0:\n",
    "            even.append(i)\n",
    "       \n",
    "    return even\n",
    "# print(even)\n",
    "\n",
    "print(num_list([386, 462, 47, 418, 907, 344, 236, 375, 823, 566, 597, 978, 328, 615, 953, 345, 399, 162, 758, 219, 918, 237, 412,566, 826, 248, 866, 950, 626, 949, 687, 217, 815, 67, 104, 58, 512, 24, 892, 894, 767, 553, 81, 379, 843, 831, 445, 742, 717, 958,743, 527]))"
   ]
  },
  {
   "cell_type": "code",
   "execution_count": 42,
   "id": "ff859481",
   "metadata": {},
   "outputs": [
    {
     "name": "stdout",
     "output_type": "stream",
     "text": [
      "((('', 8), 6), 4)\n"
     ]
    }
   ],
   "source": [
    "s = [8,6,4,3]\n",
    "a = ''\n",
    "for i in s:\n",
    "    if i%2 == 0:\n",
    "        a = a ,i\n",
    "#       a = a + str(i)                               ### why it converts into tuple\n",
    "print(a)"
   ]
  },
  {
   "cell_type": "code",
   "execution_count": 43,
   "id": "97701cdc",
   "metadata": {},
   "outputs": [
    {
     "data": {
      "text/plain": [
       "tuple"
      ]
     },
     "execution_count": 43,
     "metadata": {},
     "output_type": "execute_result"
    }
   ],
   "source": [
    "type(a)"
   ]
  },
  {
   "cell_type": "markdown",
   "id": "fa025e6e",
   "metadata": {},
   "source": [
    "4- Write a Python program to print out a set containing all the colors from color_list_1 which are not present in color_list_2. Go to the editor\n",
    "Test Data :\n",
    "color_list_1 = set([\"White\", \"Black\", \"Red\"])\n",
    "color_list_2 = set([\"Red\", \"Green\"])\n",
    "Expected Output :\n",
    "{'Black', 'White'}"
   ]
  },
  {
   "cell_type": "code",
   "execution_count": 69,
   "id": "938caed0",
   "metadata": {},
   "outputs": [
    {
     "name": "stdout",
     "output_type": "stream",
     "text": [
      "['White', 'Black']\n"
     ]
    }
   ],
   "source": [
    "\n",
    "color_list_1 = [\"White\", \"Black\", \"Red\"]\n",
    "color_list_2 = [\"Red\", \"Green\"]\n",
    "final=[]\n",
    "for i in range(len(color_list_1)):  # len gives length of variable \n",
    "    if color_list_1[i] not in color_list_2 :\n",
    "#         final = color_list_1[i]\n",
    "#             final.append(i)\n",
    "            final.append(color_list_1[i])\n",
    "\n",
    "# elif color_list_1[1] not in color_list_2 :\n",
    "\n",
    "print(final)"
   ]
  },
  {
   "cell_type": "code",
   "execution_count": 72,
   "id": "53939b29",
   "metadata": {},
   "outputs": [
    {
     "name": "stdout",
     "output_type": "stream",
     "text": [
      "['White', 'Black']\n"
     ]
    }
   ],
   "source": [
    "def colors(list_1, list_2):\n",
    "    not_found =[]\n",
    "    for i in range(len(list_1)):\n",
    "        if list_1[i] not in list_2:\n",
    "            not_found.append(list_1[i])\n",
    "    return not_found\n",
    "\n",
    "print(colors([\"White\", \"Black\", \"Red\"],[\"Red\", \"Green\"]))"
   ]
  },
  {
   "cell_type": "markdown",
   "id": "f791ea4c",
   "metadata": {},
   "source": [
    "5-  Write a Python program that will accept the base and height of a triangle and compute the area"
   ]
  },
  {
   "cell_type": "code",
   "execution_count": 75,
   "id": "7472c77e",
   "metadata": {},
   "outputs": [
    {
     "name": "stdout",
     "output_type": "stream",
     "text": [
      "6.0\n"
     ]
    }
   ],
   "source": [
    "def triangle(base, height):\n",
    "    area= (base*height)/2\n",
    "    \n",
    "    return area \n",
    "print(triangle(3,4))"
   ]
  },
  {
   "cell_type": "markdown",
   "id": "92faa9c6",
   "metadata": {},
   "source": [
    "*****************Write a Python program to compute the greatest common divisor (GCD) of two positive integers*****************"
   ]
  },
  {
   "cell_type": "markdown",
   "id": "39b75ff2",
   "metadata": {},
   "source": [
    "6- Write a Python program to sum of three given integers. However, if two values are equal sum will be zero"
   ]
  },
  {
   "cell_type": "code",
   "execution_count": 70,
   "id": "a4e065e2",
   "metadata": {},
   "outputs": [
    {
     "name": "stdout",
     "output_type": "stream",
     "text": [
      "sum is  10\n",
      "sum is  0\n"
     ]
    }
   ],
   "source": [
    "def total(val_1 , val_2 , val_3):\n",
    "    sum_val = val_1 + val_2 + val_3   \n",
    "    if val_1 == val_2 or val_2 == val_3 or val_1 == val_3:\n",
    "        sum_val = 0 \n",
    "    \n",
    "    return sum_val   # if function doesn't return any variable it will print none\n",
    "\n",
    "print('sum is ',total(5,2,3))\n",
    "print('sum is ',total(3,2,3))"
   ]
  },
  {
   "cell_type": "markdown",
   "id": "8d88300e",
   "metadata": {},
   "source": [
    "7-  Write a Python program to sum of two given integers. However, if the sum is between 15 to 20 it will return 20."
   ]
  },
  {
   "cell_type": "code",
   "execution_count": 11,
   "id": "426e55c9",
   "metadata": {},
   "outputs": [
    {
     "name": "stdout",
     "output_type": "stream",
     "text": [
      "Sum is  9\n",
      "Sum is  20\n",
      "Sum is  34\n"
     ]
    }
   ],
   "source": [
    "def sum_two(val1, val2):\n",
    "    total_two = val1 + val2\n",
    "    \n",
    "    if total_two == 16 or total_two == 17 or total_two == 18 or total_two == 19:\n",
    "        total_two = 20\n",
    "            \n",
    "#     else:\n",
    "#         total_two = val1 + val2\n",
    "    return total_two\n",
    "print('Sum is ', sum_two(3,6)) \n",
    "print('Sum is ', sum_two(13,4))\n",
    "print('Sum is ', sum_two(13,21))"
   ]
  },
  {
   "cell_type": "markdown",
   "id": "fb45c606",
   "metadata": {},
   "source": [
    "8-  Write a Python program that will return true if the two given integer values are equal or their sum or difference is 5."
   ]
  },
  {
   "cell_type": "code",
   "execution_count": 6,
   "id": "213e183c",
   "metadata": {},
   "outputs": [
    {
     "name": "stdout",
     "output_type": "stream",
     "text": [
      "Sum is  false\n",
      "Sum is  true\n",
      "Sum is  true\n",
      "Sum is  true\n"
     ]
    }
   ],
   "source": [
    "def given_integer(integer1, integer2):\n",
    "    sum_integer = 'false'\n",
    "    if integer1 == integer2 or (integer1+integer2) == 5 or abs(integer1 - integer2) == 5:\n",
    "        sum_integer = 'true'\n",
    "        \n",
    "    return sum_integer\n",
    "print('Sum is ', given_integer(13,21))\n",
    "print('Sum is ', given_integer(5,5))\n",
    "print('Sum is ', given_integer(10,5))\n",
    "print('Sum is ', given_integer(5,10))"
   ]
  },
  {
   "cell_type": "markdown",
   "id": "11142e94",
   "metadata": {},
   "source": [
    " 9-  Write a Python program to add two objects if both objects are an integer type"
   ]
  },
  {
   "cell_type": "code",
   "execution_count": 2,
   "id": "f9887253",
   "metadata": {},
   "outputs": [
    {
     "name": "stdout",
     "output_type": "stream",
     "text": [
      "Sum of two objects are :  6\n",
      "Sum of two objects are :   Objects are not integers\n",
      "Sum of two objects are :   Objects are not integers\n"
     ]
    }
   ],
   "source": [
    "def objects(obj_1, obj_2):\n",
    "    adding=''\n",
    "    if type(obj_1) == int and type(obj_2) == int:\n",
    "        adding = obj_1 + obj_2\n",
    "#         print('sum of two objects',.format)\n",
    "    else:\n",
    "        adding = ' Objects are not integers'\n",
    "    \n",
    "    return adding\n",
    "\n",
    "print('Sum of two objects are : ',objects(1,5))\n",
    "print('Sum of two objects are : ',objects('sara',5))\n",
    "print('Sum of two objects are : ',objects('sara','table'))\n"
   ]
  },
  {
   "cell_type": "markdown",
   "id": "7005e5f9",
   "metadata": {},
   "source": [
    "10- Write a Python program to display your details like name, age, address in three different lines"
   ]
  },
  {
   "cell_type": "code",
   "execution_count": 4,
   "id": "c6b87f58",
   "metadata": {},
   "outputs": [
    {
     "name": "stdout",
     "output_type": "stream",
     "text": [
      "My name is sara \n",
      "and my age is 56\n",
      "Address is kaarchi\n"
     ]
    },
    {
     "data": {
      "text/plain": [
       "<function __main__.biodata(name, age, address)>"
      ]
     },
     "execution_count": 4,
     "metadata": {},
     "output_type": "execute_result"
    }
   ],
   "source": [
    "def biodata(name,age,address):\n",
    "    print('My name is {} \\nand my age is {}\\nAddress is {}'. format(name,age,address))\n",
    "    \n",
    "#     return biodata\n",
    "\n",
    "biodata('sara',56,'kaarchi')  # why display funtion_main message with return command"
   ]
  },
  {
   "cell_type": "markdown",
   "id": "a8c50425",
   "metadata": {},
   "source": [
    "11-  Write a Python program to solve (x + y) * (x + y). Go to the editor\n",
    "Test Data : x = 4, y = 3\n",
    "Expected Output : (4 + 3) ^ 2) = 49"
   ]
  },
  {
   "cell_type": "code",
   "execution_count": 68,
   "id": "43edfbc1",
   "metadata": {},
   "outputs": [
    {
     "name": "stdout",
     "output_type": "stream",
     "text": [
      "(4 + 3)^2 = 49\n"
     ]
    }
   ],
   "source": [
    "def var(x,y):\n",
    "    sum1=(x+y)**2\n",
    "    print(f'({x} + {y})^2 = {sum1}')\n",
    "    \n",
    "    \n",
    "#     return \n",
    "\n",
    "var(4,3)"
   ]
  },
  {
   "cell_type": "code",
   "execution_count": null,
   "id": "a4a33f84",
   "metadata": {},
   "outputs": [],
   "source": []
  }
 ],
 "metadata": {
  "kernelspec": {
   "display_name": "Python 3",
   "language": "python",
   "name": "python3"
  },
  "language_info": {
   "codemirror_mode": {
    "name": "ipython",
    "version": 3
   },
   "file_extension": ".py",
   "mimetype": "text/x-python",
   "name": "python",
   "nbconvert_exporter": "python",
   "pygments_lexer": "ipython3",
   "version": "3.8.8"
  }
 },
 "nbformat": 4,
 "nbformat_minor": 5
}
