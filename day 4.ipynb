{
 "cells": [
  {
   "cell_type": "markdown",
   "id": "94ab634b",
   "metadata": {},
   "source": [
    "1- Write a Python program to check whether variable is integer or string"
   ]
  },
  {
   "cell_type": "code",
   "execution_count": 18,
   "id": "363a692b",
   "metadata": {},
   "outputs": [
    {
     "name": "stdout",
     "output_type": "stream",
     "text": [
      "its string\n",
      "its integer\n",
      "its float\n"
     ]
    }
   ],
   "source": [
    "def check(variable):\n",
    "    if type(variable[0]) == str:\n",
    "        print('its string')\n",
    "    elif type(variable[0]) == int:\n",
    "        print('its integer')\n",
    "    else:\n",
    "        type(variable[0]) == float\n",
    "        print('its float')\n",
    "        \n",
    "check(['sara'])\n",
    "check([2])\n",
    "check([2.54])\n"
   ]
  },
  {
   "cell_type": "code",
   "execution_count": 8,
   "id": "dedcf3ac",
   "metadata": {},
   "outputs": [
    {
     "ename": "IndexError",
     "evalue": "list index out of range",
     "output_type": "error",
     "traceback": [
      "\u001b[1;31m---------------------------------------------------------------------------\u001b[0m",
      "\u001b[1;31mIndexError\u001b[0m                                Traceback (most recent call last)",
      "\u001b[1;32m<ipython-input-8-7d9d727b4198>\u001b[0m in \u001b[0;36m<module>\u001b[1;34m\u001b[0m\n\u001b[0;32m     10\u001b[0m \u001b[1;33m\u001b[0m\u001b[0m\n\u001b[0;32m     11\u001b[0m \u001b[1;31m# check(['sara'])\u001b[0m\u001b[1;33m\u001b[0m\u001b[1;33m\u001b[0m\u001b[1;33m\u001b[0m\u001b[0m\n\u001b[1;32m---> 12\u001b[1;33m \u001b[0mcheck\u001b[0m\u001b[1;33m(\u001b[0m\u001b[1;33m[\u001b[0m\u001b[1;36m2\u001b[0m\u001b[1;33m]\u001b[0m\u001b[1;33m)\u001b[0m\u001b[1;33m\u001b[0m\u001b[1;33m\u001b[0m\u001b[0m\n\u001b[0m\u001b[0;32m     13\u001b[0m \u001b[1;31m# check([2.54])\u001b[0m\u001b[1;33m\u001b[0m\u001b[1;33m\u001b[0m\u001b[1;33m\u001b[0m\u001b[0m\n",
      "\u001b[1;32m<ipython-input-8-7d9d727b4198>\u001b[0m in \u001b[0;36mcheck\u001b[1;34m(variable)\u001b[0m\n\u001b[0;32m      1\u001b[0m \u001b[1;32mdef\u001b[0m \u001b[0mcheck\u001b[0m\u001b[1;33m(\u001b[0m\u001b[0mvariable\u001b[0m\u001b[1;33m)\u001b[0m\u001b[1;33m:\u001b[0m\u001b[1;33m\u001b[0m\u001b[1;33m\u001b[0m\u001b[0m\n\u001b[0;32m      2\u001b[0m     \u001b[1;32mfor\u001b[0m \u001b[0mi\u001b[0m \u001b[1;32min\u001b[0m \u001b[0mvariable\u001b[0m\u001b[1;33m:\u001b[0m\u001b[1;33m\u001b[0m\u001b[1;33m\u001b[0m\u001b[0m\n\u001b[1;32m----> 3\u001b[1;33m         \u001b[1;32mif\u001b[0m \u001b[0mtype\u001b[0m\u001b[1;33m(\u001b[0m\u001b[0mvariable\u001b[0m\u001b[1;33m[\u001b[0m\u001b[0mi\u001b[0m\u001b[1;33m]\u001b[0m\u001b[1;33m)\u001b[0m \u001b[1;33m==\u001b[0m \u001b[0mstr\u001b[0m\u001b[1;33m:\u001b[0m\u001b[1;33m\u001b[0m\u001b[1;33m\u001b[0m\u001b[0m\n\u001b[0m\u001b[0;32m      4\u001b[0m             \u001b[0mprint\u001b[0m\u001b[1;33m(\u001b[0m\u001b[1;34m'its string'\u001b[0m\u001b[1;33m)\u001b[0m\u001b[1;33m\u001b[0m\u001b[1;33m\u001b[0m\u001b[0m\n\u001b[0;32m      5\u001b[0m         \u001b[1;32melif\u001b[0m \u001b[0mtype\u001b[0m\u001b[1;33m(\u001b[0m\u001b[0mvariable\u001b[0m\u001b[1;33m[\u001b[0m\u001b[0mi\u001b[0m\u001b[1;33m]\u001b[0m\u001b[1;33m)\u001b[0m \u001b[1;33m==\u001b[0m \u001b[0mint\u001b[0m\u001b[1;33m:\u001b[0m\u001b[1;33m\u001b[0m\u001b[1;33m\u001b[0m\u001b[0m\n",
      "\u001b[1;31mIndexError\u001b[0m: list index out of range"
     ]
    }
   ],
   "source": [
    "def check(variable):\n",
    "    for i in variable:\n",
    "        if type(variable[i]) == str:\n",
    "            print('its string')\n",
    "        elif type(variable[i]) == int:\n",
    "            print('its integer')\n",
    "        else:\n",
    "            type(variable[i]) == float\n",
    "            print('its float')\n",
    "        \n",
    "# check(['sara'])\n",
    "check([2])\n",
    "# check([2.54])"
   ]
  },
  {
   "cell_type": "markdown",
   "id": "e6d79489",
   "metadata": {},
   "source": [
    "2-  Write a Python function to check whether a number is divisible by another number. Accept two integers values form the user"
   ]
  },
  {
   "cell_type": "code",
   "execution_count": 4,
   "id": "c62aaa82",
   "metadata": {},
   "outputs": [
    {
     "name": "stdout",
     "output_type": "stream",
     "text": [
      "enter a no : 10\n",
      "enter a no : 5\n",
      "its divisible\n"
     ]
    }
   ],
   "source": [
    "int1 = int(input('enter a no : ' ))\n",
    "int2 = int(input('enter a no : ' ))\n",
    "if int1 % int2 == 0:\n",
    "           print('its divisible')\n",
    "           \n",
    "else:\n",
    "           print('its not divisible')"
   ]
  },
  {
   "cell_type": "markdown",
   "id": "d94b93e6",
   "metadata": {},
   "source": [
    "3- Write a Python function to find the maximum and minimum numbers from a sequence of numbers"
   ]
  },
  {
   "cell_type": "code",
   "execution_count": 10,
   "id": "aaab1255",
   "metadata": {},
   "outputs": [
    {
     "data": {
      "text/plain": [
       "(1, 85)"
      ]
     },
     "execution_count": 10,
     "metadata": {},
     "output_type": "execute_result"
    }
   ],
   "source": [
    "def mm_check(numbers):\n",
    "    min = numbers[0]\n",
    "    max = numbers[0]\n",
    "    for i in numbers:     # it will 8 times as there are 8 values in numbers\n",
    "        if i < min:\n",
    "            min = i\n",
    "        elif i > max:\n",
    "            max = i\n",
    "            \n",
    "    return min, max\n",
    "\n",
    "        \n",
    "        \n",
    "mm_check([2,75,5,10,85,1])"
   ]
  },
  {
   "cell_type": "code",
   "execution_count": 46,
   "id": "08a993f6",
   "metadata": {},
   "outputs": [
    {
     "name": "stdout",
     "output_type": "stream",
     "text": [
      "3x3 = 9\n",
      "3x2 = 6\n",
      "3x7 = 21\n",
      "3x7 = 21\n",
      "2x3 = 6\n",
      "2x2 = 4\n",
      "2x7 = 14\n",
      "2x7 = 14\n",
      "7x3 = 21\n",
      "7x2 = 14\n",
      "7x7 = 49\n",
      "7x7 = 49\n",
      "7x3 = 21\n",
      "7x2 = 14\n",
      "7x7 = 49\n",
      "7x7 = 49\n"
     ]
    }
   ],
   "source": [
    "s=[3,2,7,7]\n",
    "for i in s:\n",
    "    for j in s:\n",
    "        e = i * j\n",
    "        print(f'{i}x{j} = {e}')\n",
    "#         if e % 2 == 0 :\n",
    "#             print('sara')\n",
    "    \n"
   ]
  },
  {
   "cell_type": "markdown",
   "id": "d5dfdd6a",
   "metadata": {},
   "source": [
    "4- Write a Python function that takes a positive integer and returns the sum of the cube of all the positive integers smaller than the specified number. Go to the editor\n"
   ]
  },
  {
   "cell_type": "code",
   "execution_count": 22,
   "id": "c1d7b29a",
   "metadata": {},
   "outputs": [
    {
     "name": "stdout",
     "output_type": "stream",
     "text": [
      "0\n",
      "1\n",
      "9\n",
      "36\n",
      "100\n",
      "225\n"
     ]
    },
    {
     "data": {
      "text/plain": [
       "225"
      ]
     },
     "execution_count": 22,
     "metadata": {},
     "output_type": "execute_result"
    }
   ],
   "source": [
    "def pos_int(num):\n",
    "    cube_sum = 0\n",
    "    for i in range(num): #it will run 8 times\n",
    "        cube_sum = cube_sum + (i**3)\n",
    "        print(cube_sum)\n",
    "    return cube_sum\n",
    "\n",
    "pos_int(6)"
   ]
  },
  {
   "cell_type": "code",
   "execution_count": 19,
   "id": "dc4a7196",
   "metadata": {},
   "outputs": [
    {
     "data": {
      "text/plain": [
       "4"
      ]
     },
     "execution_count": 19,
     "metadata": {},
     "output_type": "execute_result"
    }
   ],
   "source": [
    "p = 'true'\n",
    "len(p)"
   ]
  },
  {
   "cell_type": "markdown",
   "id": "80f2e0d5",
   "metadata": {},
   "source": [
    "5- Write a Python function to check whether a distinct pair of numbers whose product is odd present in a sequence of integer values"
   ]
  },
  {
   "cell_type": "code",
   "execution_count": 67,
   "id": "b5f35c85",
   "metadata": {},
   "outputs": [
    {
     "name": "stdout",
     "output_type": "stream",
     "text": [
      "1x1 = 1 \todd pairs found\n",
      "1x7 = 7 \todd pairs found\n",
      "1x1 = 1 \todd pairs found\n",
      "1x3 = 3 \todd pairs found\n",
      "1x5 = 5 \todd pairs found\n",
      "1x7 = 7 \todd pairs found\n",
      "1x9 = 9 \todd pairs found\n"
     ]
    }
   ],
   "source": [
    "def distinct_no(sequence):\n",
    "# s=[3,2,7,7]\n",
    "    for i in sequence:\n",
    "        for j in sequence:\n",
    "            e = i * j\n",
    "#             print(f'{i}x{j} = {e}')\n",
    "            if e % 2 == 1:\n",
    "                print(f'{i}x{j} = {e} \\todd pairs found')\n",
    "        break\n",
    "   \n",
    "distinct_no([2,4,6,8])   # why it has turned red\n",
    "distinct_no([1,6,4,7,8])\n",
    "distinct_no([1,3,5,7,9])"
   ]
  },
  {
   "cell_type": "code",
   "execution_count": 66,
   "id": "000e659c",
   "metadata": {},
   "outputs": [
    {
     "name": "stdout",
     "output_type": "stream",
     "text": [
      "3x3 = 9\n",
      "3x2 = 6\n",
      "3x7 = 21\n",
      "2x3 = 6\n",
      "2x2 = 4\n",
      "2x7 = 14\n",
      "7x3 = 21\n",
      "7x2 = 14\n",
      "7x7 = 49\n",
      "odd pairs found\n"
     ]
    }
   ],
   "source": [
    "s=[3,2,7]\n",
    "for i in s:\n",
    "    for j in s:\n",
    "        e = i * j\n",
    "        print(f'{i}x{j} = {e}')\n",
    "    \n",
    "if e % 2 == 0 :\n",
    "    print('no pair is odd')\n",
    "else:\n",
    "    print('odd pairs found')\n"
   ]
  },
  {
   "cell_type": "markdown",
   "id": "ab800c6a",
   "metadata": {},
   "source": [
    "6- Write a Python function that takes a sequence of numbers and determines whether all the numbers are different from each other"
   ]
  },
  {
   "cell_type": "code",
   "execution_count": 69,
   "id": "cf508673",
   "metadata": {},
   "outputs": [
    {
     "name": "stdout",
     "output_type": "stream",
     "text": [
      "2 and 2 are equal\n",
      "2 and 2 are equal\n",
      "3 and 3 are equal\n",
      "6 and 6 are equal\n",
      "5 and 5 are equal\n",
      "9 and 9 are equal\n",
      "2 and 2 are equal\n",
      "2 and 2 are equal\n"
     ]
    }
   ],
   "source": [
    "def seq(n):\n",
    "    for i in n:\n",
    "        for j in n:\n",
    "            if i == j:\n",
    "                print(f'{i} and {j} are equal')\n",
    "   \n",
    "    \n",
    "    \n",
    "    \n",
    "seq([2,3,6,5,9,2])"
   ]
  },
  {
   "cell_type": "markdown",
   "id": "b87aeba8",
   "metadata": {},
   "source": [
    "7- Write a Python program to create all possible strings by using 'a', 'e', 'i', 'o', 'u'. Use the characters exactly once"
   ]
  },
  {
   "cell_type": "code",
   "execution_count": null,
   "id": "f1260e36",
   "metadata": {},
   "outputs": [],
   "source": []
  },
  {
   "cell_type": "markdown",
   "id": "0e789a8e",
   "metadata": {},
   "source": [
    "8-  Write a Python program to remove and print every third number from a list of numbers until the list becomes empty."
   ]
  },
  {
   "cell_type": "code",
   "execution_count": 17,
   "id": "33764cf7",
   "metadata": {},
   "outputs": [
    {
     "name": "stdout",
     "output_type": "stream",
     "text": [
      "8\n",
      "9\n",
      "8\n",
      "9\n",
      "1\n",
      "7\n",
      "4\n",
      "only 2 values remain in list, 3rd number not found\n"
     ]
    }
   ],
   "source": [
    "def list_num(nums):\n",
    "# nums = [5,6,3,9,8,2,1,7,4]\n",
    "    for i in nums[0:]:\n",
    "        print(nums.pop(2))\n",
    "        if len(nums) <= 2:\n",
    "            print('only 2 values remain in list, 3rd number not found')    \n",
    "            break\n",
    "\n",
    "list_num([5,6,8,9,8,9,1,7,4])"
   ]
  },
  {
   "cell_type": "markdown",
   "id": "9e2275aa",
   "metadata": {},
   "source": [
    "#### online code"
   ]
  },
  {
   "cell_type": "code",
   "execution_count": 18,
   "id": "01a20d8a",
   "metadata": {},
   "outputs": [
    {
     "name": "stdout",
     "output_type": "stream",
     "text": [
      "30\n",
      "60\n",
      "90\n",
      "40\n",
      "80\n",
      "50\n",
      "20\n",
      "70\n",
      "10\n"
     ]
    }
   ],
   "source": [
    "def remove_nums(int_list):\n",
    "  #list starts with 0 index\n",
    "    position = 3 - 1 \n",
    "    idx = 0\n",
    "    len_list = (len(int_list))\n",
    "    while len_list>0:\n",
    "        idx = (position+idx)%len_list\n",
    "        print(int_list.pop(idx))\n",
    "        len_list -= 1\n",
    "\n",
    "nums = [10,20,30,40,50,60,70,80,90]\n",
    "remove_nums(nums)"
   ]
  },
  {
   "cell_type": "code",
   "execution_count": 20,
   "id": "120df37b",
   "metadata": {},
   "outputs": [
    {
     "data": {
      "text/plain": [
       "2"
      ]
     },
     "execution_count": 20,
     "metadata": {},
     "output_type": "execute_result"
    }
   ],
   "source": [
    "l = [2,5,6]\n",
    "l.pop(2)\n",
    "len(l)"
   ]
  },
  {
   "cell_type": "markdown",
   "id": "24aa71ae",
   "metadata": {},
   "source": [
    "9- Write a Python program to find unique triplets whose three elements gives the sum of zero from an array of n integers. Go to the editor\n"
   ]
  },
  {
   "cell_type": "code",
   "execution_count": 66,
   "id": "ef1b6db6",
   "metadata": {},
   "outputs": [
    {
     "name": "stdout",
     "output_type": "stream",
     "text": [
      "1 -1 0\n",
      "1 -1 0\n",
      "1 0 -1\n",
      "1 0 -1\n",
      "-6 4 2\n",
      "-6 4 2\n",
      "-6 2 4\n",
      "-6 2 4\n",
      "4 -6 2\n",
      "4 -6 2\n",
      "4 2 -6\n",
      "4 2 -6\n",
      "2 -6 4\n",
      "2 4 -6\n",
      "2 0 -2\n",
      "2 -2 0\n",
      "2 -2 0\n",
      "2 0 -2\n",
      "-1 1 0\n",
      "-1 1 0\n",
      "-1 0 1\n",
      "-1 0 1\n",
      "2 -6 4\n",
      "2 4 -6\n",
      "2 0 -2\n",
      "2 -2 0\n",
      "2 -2 0\n",
      "2 0 -2\n",
      "0 1 -1\n",
      "0 2 -2\n",
      "0 -1 1\n",
      "0 2 -2\n",
      "0 -2 2\n",
      "0 -2 2\n",
      "-2 2 0\n",
      "-2 2 0\n",
      "-2 2 0\n",
      "-2 2 0\n",
      "-2 0 2\n",
      "-2 0 2\n",
      "-2 0 2\n",
      "-2 0 2\n",
      "0 1 -1\n",
      "0 2 -2\n",
      "0 -1 1\n",
      "0 2 -2\n",
      "0 -2 2\n",
      "0 -2 2\n"
     ]
    }
   ],
   "source": [
    "def triplets(num3):\n",
    "    for i in num3:\n",
    "        for j in num3:\n",
    "            for k in num3:\n",
    "                if i+j+k == 0 and i != j and j != k and i != k:     \n",
    "                    print(i,j,k)\n",
    "        \n",
    "triplets([1, -6, 4, 2, -1, 2, 0, -2, 0])"
   ]
  },
  {
   "cell_type": "markdown",
   "id": "9162e7b5",
   "metadata": {},
   "source": [
    "10- Write a Python program to create the combinations of 3 digit combo."
   ]
  },
  {
   "cell_type": "code",
   "execution_count": 12,
   "id": "d91ddd29",
   "metadata": {},
   "outputs": [
    {
     "name": "stdout",
     "output_type": "stream",
     "text": [
      "(0, 1, 2)\n",
      "(1, 2, 3)\n",
      "(2, 3, 4)\n",
      "(3, 4, 5)\n",
      "(4, 5, 6)\n",
      "(5, 6, 7)\n",
      "(6, 7, 8)\n",
      "(7, 8, 9)\n",
      "(8, 9, 10)\n",
      "(9, 10, 11)\n"
     ]
    }
   ],
   "source": [
    "# h = ['sara', 'paracha', 'jamshaid'] \n",
    "# p = [1,2,6]\n",
    "for i in range(10) :\n",
    "    s = i , (i+1) , (i+2)\n",
    "    print(s)"
   ]
  },
  {
   "cell_type": "code",
   "execution_count": null,
   "id": "e44a773a",
   "metadata": {},
   "outputs": [],
   "source": []
  },
  {
   "cell_type": "code",
   "execution_count": null,
   "id": "1658d4f2",
   "metadata": {},
   "outputs": [],
   "source": []
  }
 ],
 "metadata": {
  "kernelspec": {
   "display_name": "Python 3",
   "language": "python",
   "name": "python3"
  },
  "language_info": {
   "codemirror_mode": {
    "name": "ipython",
    "version": 3
   },
   "file_extension": ".py",
   "mimetype": "text/x-python",
   "name": "python",
   "nbconvert_exporter": "python",
   "pygments_lexer": "ipython3",
   "version": "3.8.8"
  }
 },
 "nbformat": 4,
 "nbformat_minor": 5
}
