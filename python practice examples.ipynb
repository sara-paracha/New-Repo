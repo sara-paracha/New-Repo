{
 "cells": [
  {
   "cell_type": "markdown",
   "id": "833d6a22",
   "metadata": {},
   "source": [
    " 89. Write a Python program to Zip two given lists of lists. Go to the editor\n",
    "\n",
    "\n",
    "Original lists:\n",
    "\n",
    "\n",
    "[[1, 3], [5, 7], [9, 11]]\n",
    "\n",
    "\n",
    "[[2, 4], [6, 8], [10, 12, 14]]\n",
    "\n",
    "\n",
    "\n",
    "Zipped list:\n",
    "\n",
    "\n",
    "[[1, 3, 2, 4], [5, 7, 6, 8], [9, 11, 10, 12, 14]]"
   ]
  },
  {
   "cell_type": "markdown",
   "id": "1cccd3e3",
   "metadata": {},
   "source": [
    "### Zip()"
   ]
  },
  {
   "cell_type": "code",
   "execution_count": 15,
   "id": "5435e386",
   "metadata": {},
   "outputs": [
    {
     "name": "stdout",
     "output_type": "stream",
     "text": [
      "[[1, 2, 3, 4], [5, 6, 7, 8], [9, 10, 11, 12]]\n"
     ]
    }
   ],
   "source": [
    "l1 = [[1, 3], [5, 7], [9, 11]]\n",
    "l2 = [[2, 4], [6, 8], [10, 12, 14]]\n",
    "l3 = []\n",
    "for a in range(len(l1)):\n",
    "    l3.append([])\n",
    "    for i,j in zip(l1[a],l2[a]):\n",
    "        l3[a].append(i)\n",
    "        l3[a].append(j)\n",
    "    \n",
    "print(list(l3))\n"
   ]
  },
  {
   "cell_type": "markdown",
   "id": "435cbb76",
   "metadata": {},
   "source": [
    "### Map()"
   ]
  },
  {
   "cell_type": "code",
   "execution_count": 17,
   "id": "2ac73421",
   "metadata": {},
   "outputs": [
    {
     "name": "stdout",
     "output_type": "stream",
     "text": [
      "[[1, 3, 2, 4], [5, 7, 6, 8], [9, 11, 10, 12, 14]]\n"
     ]
    }
   ],
   "source": [
    "l1 = [[1, 3], [5, 7], [9, 11]]\n",
    "l2 = [[2, 4], [6, 8], [10, 12, 14]]\n",
    "result = list(map(list.__add__, l1, l2)) \n",
    "print(result)"
   ]
  },
  {
   "cell_type": "markdown",
   "id": "d6c2cc5f",
   "metadata": {},
   "source": [
    "90. Write a Python program to count number of lists in a given list of lists. Go to the editor\n",
    "\n",
    "\n",
    "Original list:\n",
    "\n",
    "\n",
    "\n",
    "[[1, 3], [5, 7], [9, 11], [13, 15, 17]]\n",
    "\n",
    "\n",
    "Number of lists in said list of lists:\n",
    "\n",
    "\n",
    "\n",
    "4\n",
    "\n",
    "\n",
    "\n",
    "Original list:\n",
    "\n",
    "\n",
    "[[2, 4], [[6, 8], [4, 5, 8]], [10, 12, 14]]\n",
    "\n",
    "\n",
    "Number of lists in said list of lists:\n",
    "\n",
    "\n",
    "\n",
    "3"
   ]
  },
  {
   "cell_type": "code",
   "execution_count": 2,
   "id": "d364de9c",
   "metadata": {},
   "outputs": [
    {
     "name": "stdout",
     "output_type": "stream",
     "text": [
      "4\n",
      "3\n"
     ]
    }
   ],
   "source": [
    "def count_num(li):\n",
    "    return len(li)\n",
    "\n",
    "print(count_num([[1, 3], [5, 7], [9, 11], [13, 15, 17]]))\n",
    "print(count_num([[2, 4], [[6, 8], [4, 5, 8]], [10, 12, 14]]))"
   ]
  },
  {
   "cell_type": "markdown",
   "id": "b46b906b",
   "metadata": {},
   "source": [
    "91. Write a Python program to find the list with maximum and minimum length. Go to the editor\n",
    "\n",
    "\n",
    "Original list:\n",
    "[[0], [1, 3], [5, 7], [9, 11], [13, 15, 17]]\n",
    "\n",
    "\n",
    "List with maximum length of lists:\n",
    "(3, [13, 15, 17])\n",
    "\n",
    "\n",
    "List with minimum length of lists:\n",
    "(1, [0])\n",
    "\n",
    "\n",
    "Original list:\n",
    "[[0], [1, 3], [5, 7], [9, 11], [3, 5, 7]]\n",
    "\n",
    "\n",
    "\n",
    "\n",
    "List with maximum length of lists:\n",
    "(3, [3, 5, 7])\n",
    "\n",
    "\n",
    "List with minimum length of lists:\n",
    "(1, [0])\n",
    "\n",
    "\n",
    "Original list:\n",
    "[[12], [1, 3], [1, 34, 5, 7], [9, 11], [3, 5, 7]]\n",
    "\n",
    "\n",
    "List with maximum length of lists:\n",
    "(4, [1, 34, 5, 7])\n",
    "\n",
    "\n",
    "List with minimum length of lists:\n",
    "(1, [12])"
   ]
  },
  {
   "cell_type": "code",
   "execution_count": 39,
   "id": "a5206c05",
   "metadata": {},
   "outputs": [
    {
     "name": "stdout",
     "output_type": "stream",
     "text": [
      "List with maximum length of lists :\n",
      " (4, [1, 34, 5, 7])\n",
      "List with minimum length of lists :\n",
      " (1, [12])\n",
      "List with maximum length of lists :\n",
      " (3, [3, 5, 7])\n",
      "List with minimum length of lists :\n",
      " (1, [0])\n",
      "List with maximum length of lists :\n",
      " (3, [13, 15, 17])\n",
      "List with minimum length of lists :\n",
      " (1, [0])\n"
     ]
    }
   ],
   "source": [
    "def count_max_min(li):\n",
    "    list2 = [tuple((len(li[i]),v )) for i,v in enumerate(li)]\n",
    "    print(f'List with maximum length of lists :\\n {max(list2)}')\n",
    "    print(f'List with minimum length of lists :\\n {min(list2)}')\n",
    "\n",
    "\n",
    "count_max_min([[12], [1, 3], [1, 34, 5, 7], [9, 11], [3, 5, 7]])\n",
    "count_max_min([[0], [1, 3], [5, 7], [9, 11], [3, 5, 7]])\n",
    "count_max_min([[0], [1, 3], [5, 7], [9, 11], [13, 15, 17]])"
   ]
  },
  {
   "cell_type": "markdown",
   "id": "ede91552",
   "metadata": {},
   "source": [
    "93. Write a Python program to count the number of sublists contain a particular element. Go to the editor\n",
    "Original list:\n",
    "[[1, 3], [5, 7], [1, 11], [1, 15, 7]]\n",
    "Count 1 in the said list:\n",
    "3\n",
    "Count 7 in the said list:\n",
    "2\n",
    "Original list:\n",
    "[['A', 'B'], ['A', 'C'], ['A', 'D', 'E'], ['B', 'C', 'D']]\n",
    "Count 'A' in the said list:\n",
    "3\n",
    "Count 'E' in the said list:\n",
    "1"
   ]
  },
  {
   "cell_type": "code",
   "execution_count": 56,
   "id": "7b8555c6",
   "metadata": {},
   "outputs": [
    {
     "name": "stdout",
     "output_type": "stream",
     "text": [
      "3\n",
      "2\n",
      "3\n",
      "1\n"
     ]
    }
   ],
   "source": [
    "def count_element(li,n):\n",
    "    count = 0\n",
    "    for i,v in enumerate(li):\n",
    "        if n in v :\n",
    "            count = count + 1\n",
    "    \n",
    "    return count\n",
    "    \n",
    "print(count_element([[1, 3], [5, 7], [1, 11], [1, 15, 7]],1))\n",
    "print(count_element([[1, 3], [5, 7], [1, 11], [1, 15, 7]],7))\n",
    "print(count_element([['A', 'B'], ['A', 'C'], ['A', 'D', 'E'], ['B', 'C', 'D']], 'A'))\n",
    "print(count_element([['A', 'B'], ['A', 'C'], ['A', 'D', 'E'], ['B', 'C', 'D']], 'E'))"
   ]
  },
  {
   "cell_type": "markdown",
   "id": "f7d382bb",
   "metadata": {},
   "source": [
    "### OR"
   ]
  },
  {
   "cell_type": "code",
   "execution_count": 54,
   "id": "e5a9b94b",
   "metadata": {},
   "outputs": [
    {
     "name": "stdout",
     "output_type": "stream",
     "text": [
      "3\n",
      "2\n",
      "3\n",
      "1\n"
     ]
    }
   ],
   "source": [
    "def count_element(li,n):\n",
    "    count = [ v.count(n) for i,v in enumerate(li) if n in v]\n",
    "    return len(count)\n",
    "\n",
    "print(count_element([[1, 3], [5, 7], [1, 11], [1, 15, 7]],1))\n",
    "print(count_element([[1, 3], [5, 7], [1, 11], [1, 15, 7]],7))\n",
    "print(count_element([['A', 'B'], ['A', 'C'], ['A', 'D', 'E'], ['B', 'C', 'D']], 'A'))\n",
    "print(count_element([['A', 'B'], ['A', 'C'], ['A', 'D', 'E'], ['B', 'C', 'D']], 'E'))"
   ]
  },
  {
   "cell_type": "markdown",
   "id": "446cbdb3",
   "metadata": {},
   "source": [
    "94. Write a Python program to count number of unique sublists within a given list. Go to the editor\n",
    "Original list:\n",
    "[[1, 3], [5, 7], [1, 3], [13, 15, 17], [5, 7], [9, 11]]\n",
    "Number of unique lists of the said list:\n",
    "{(1, 3): 2, (5, 7): 2, (13, 15, 17): 1, (9, 11): 1}\n",
    "Original list:\n",
    "[['green', 'orange'], ['black'], ['green', 'orange'], ['white']]\n",
    "Number of unique lists of the said list:\n",
    "{('green', 'orange'): 2, ('black',): 1, ('white',): 1}"
   ]
  },
  {
   "cell_type": "code",
   "execution_count": 22,
   "id": "1824974b",
   "metadata": {},
   "outputs": [
    {
     "name": "stdout",
     "output_type": "stream",
     "text": [
      "{'(1, 3)': 2, '(5, 7)': 2, '(13, 15, 17)': 1, '(9, 11)': 1}\n",
      "{\"('green', 'orange')\": 2, \"('black',)\": 1, \"('white',)\": 1}\n"
     ]
    }
   ],
   "source": [
    "def unique_count(li):\n",
    "\n",
    "    x = {str(tuple(v)) : li.count(v) for i,v in enumerate(li)}\n",
    "    print(x)\n",
    "\n",
    "unique_count([[1, 3], [5, 7], [1, 3], [13, 15, 17], [5, 7], [9, 11]])\n",
    "unique_count([['green', 'orange'], ['black'], ['green', 'orange'], ['white']])"
   ]
  },
  {
   "cell_type": "markdown",
   "id": "71d35dca",
   "metadata": {},
   "source": [
    "95. Write a Python program to sort each sublist of strings in a given list of lists. Go to the editor\n",
    "Original list:\n",
    "[[2], [0], [1, 3], [0, 7], [9, 11], [13, 15, 17]]\n",
    "Sort the list of lists by length and value:\n",
    "[[0], [2], [0, 7], [1, 3], [9, 11], [13, 15, 17]]"
   ]
  },
  {
   "cell_type": "code",
   "execution_count": 35,
   "id": "f52d097e",
   "metadata": {},
   "outputs": [
    {
     "data": {
      "text/plain": [
       "[[0], [2], [0, 7], [1, 3], [9, 11], [13, 15, 17]]"
      ]
     },
     "execution_count": 35,
     "metadata": {},
     "output_type": "execute_result"
    }
   ],
   "source": [
    "def sort_list(li):\n",
    "    li.sort()   ## sort sublist contents\n",
    "    li.sort(key=len)   ## then sort according to length\n",
    "    return li\n",
    "    \n",
    "\n",
    "sort_list([[2], [0], [1, 3], [0, 7], [9, 11], [13, 15, 17]])"
   ]
  },
  {
   "cell_type": "markdown",
   "id": "9aab6a75",
   "metadata": {},
   "source": [
    "97. Write a Python program to remove sublists from a given list of lists, which contains an element outside a given range. Go to the editor\n",
    "Original list:\n",
    "[[2], [0], [1, 2, 3], [0, 1, 2, 3, 6, 7], [9, 11], [13, 14, 15, 17]]\n",
    "After removing sublists from a given list of lists, which contains an element outside the given range:\n",
    "[[13, 14, 15, 17]]"
   ]
  },
  {
   "cell_type": "code",
   "execution_count": 82,
   "id": "df8d19fe",
   "metadata": {},
   "outputs": [
    {
     "name": "stdout",
     "output_type": "stream",
     "text": [
      "[[13, 14, 15, 17], [14, 16], [13, 16, 17]]\n",
      "[[13, 14, 15, 17]]\n"
     ]
    }
   ],
   "source": [
    "from itertools import groupby\n",
    "\n",
    "def outside_range(li):\n",
    "    x = []\n",
    "    for i in li:\n",
    "        for j in i:\n",
    "            if j >= 13 and j <= 17:\n",
    "                x.append(i)\n",
    "                \n",
    "    d = [ a for a,v in groupby(x)]   \n",
    "    return d\n",
    "    \n",
    "print(outside_range([[2], [0], [1, 2, 3], [0, 1, 2, 3, 6, 7], [9, 11], [13, 14, 15, 17],[14,16],[13,16,17],[18,19,20]]))\n",
    "print(outside_range([[2], [0], [1, 2, 3], [0, 1, 2, 3, 6, 7], [9, 11], [13, 14, 15, 17]]))"
   ]
  },
  {
   "cell_type": "markdown",
   "id": "1f0ab7af",
   "metadata": {},
   "source": [
    "98. Write a Python program to scramble the letters of string in a given list. Go to the editor\n",
    "Original list:\n",
    "['Python', 'list', 'exercises', 'practice', 'solution']\n",
    "After scrambling the letters of the strings of the said list:\n",
    "['tnPhyo', 'tlis', 'ecrsseiex', 'ccpitear', 'noiltuos']"
   ]
  },
  {
   "cell_type": "code",
   "execution_count": 38,
   "id": "ec5301a9",
   "metadata": {},
   "outputs": [
    {
     "data": {
      "text/plain": [
       "['Phoynt', 'silt', 'eeissrexc', 'pcceriat', 'slutonoi']"
      ]
     },
     "execution_count": 38,
     "metadata": {},
     "output_type": "execute_result"
    }
   ],
   "source": [
    "from random import sample\n",
    "def scramble(li):\n",
    "    d = [(''.join(sample(i, len(i)))) for i in li]\n",
    "    return d\n",
    "    \n",
    "    \n",
    "scramble(['Python', 'list', 'exercises', 'practice', 'solution'])\n"
   ]
  },
  {
   "cell_type": "markdown",
   "id": "ed308b7f",
   "metadata": {},
   "source": [
    "99. Write a Python program to find the maximum and minimum values in a given heterogeneous list. Go to the editor\n",
    "Original list:\n",
    "['Python', 3, 2, 4, 5, 'version']\n",
    "\n",
    "Maximum and Minimum values in the said list:\n",
    "(5, 2)"
   ]
  },
  {
   "cell_type": "code",
   "execution_count": 9,
   "id": "107f41f5",
   "metadata": {},
   "outputs": [
    {
     "data": {
      "text/plain": [
       "(88, 1)"
      ]
     },
     "execution_count": 9,
     "metadata": {},
     "output_type": "execute_result"
    }
   ],
   "source": [
    "def max_min(li):\n",
    "    d = [i for i in li if type(i) != str] \n",
    "    return max(d), min(d)\n",
    "\n",
    "\n",
    "max_min(['Python','sa', 3, 2, 4,1, 5, 'version',85,6,88])\n"
   ]
  },
  {
   "cell_type": "markdown",
   "id": "e9d97709",
   "metadata": {},
   "source": [
    "100. Write a Python program to extract common index elements from more than one given list. Go to the editor\n",
    "Original lists:\n",
    "[1, 1, 3, 4, 5, 6, 7]\n",
    "[0, 1, 2, 3, 4, 5, 7]\n",
    "[0, 1, 2, 3, 4, 5, 7]\n",
    "Common index elements of the said lists:\n",
    "[1, 7]"
   ]
  },
  {
   "cell_type": "code",
   "execution_count": 22,
   "id": "2c50f05a",
   "metadata": {},
   "outputs": [
    {
     "data": {
      "text/plain": [
       "[1, 7]"
      ]
     },
     "execution_count": 22,
     "metadata": {},
     "output_type": "execute_result"
    }
   ],
   "source": [
    "def common_index(l1,l2,l3):\n",
    "    common1 = [a for a,b,c in zip(l1,l2,l3) if a == b == c ]\n",
    "    return common1\n",
    "\n",
    "\n",
    "\n",
    "common_index([1, 1, 3, 4, 5, 6, 7],[0, 1, 2, 3, 4, 5, 7],[0, 1, 2, 3, 4, 5, 7]) "
   ]
  },
  {
   "cell_type": "markdown",
   "id": "29b7442c",
   "metadata": {},
   "source": [
    "102. Write a Python program to extract specified size of strings from a give list of string values. Go to the editor\n",
    "Original list:\n",
    "['Python', 'list', 'exercises', 'practice', 'solution']\n",
    "length of the string to extract:\n",
    "8\n",
    "After extracting strings of specified length from the said list:\n",
    "['practice', 'solution']"
   ]
  },
  {
   "cell_type": "code",
   "execution_count": 26,
   "id": "09eeeceb",
   "metadata": {},
   "outputs": [
    {
     "name": "stdout",
     "output_type": "stream",
     "text": [
      "['practice', 'solution']\n",
      "['list', 'sara', 'tara']\n"
     ]
    }
   ],
   "source": [
    "def string_length(li, L):\n",
    "    new_list = [i for i in li if len(i) == L]\n",
    "    return new_list\n",
    "\n",
    "\n",
    "print(string_length(['Python', 'list', 'exercises', 'practice', 'solution'],8))\n",
    "print(string_length(['Python', 'list', 'exercises', 'practice', 'solution', 'sara','tara'],4))\n"
   ]
  },
  {
   "cell_type": "markdown",
   "id": "db7bb189",
   "metadata": {},
   "source": [
    "103. Write a Python program to extract specified number of elements from a given list, which follows each other continuously. Go to the editor\n",
    "Original list:\n",
    "[1, 1, 3, 4, 4, 5, 6, 7]\n",
    "Extract 2 number of elements from the said list which follows each other continuously:\n",
    "[1, 4]\n",
    "Original lists:\n",
    "[0, 1, 2, 3, 4, 4, 4, 4, 5, 7]\n",
    "Extract 4 number of elements from the said list which follows each other continuously:\n",
    "[4]"
   ]
  },
  {
   "cell_type": "code",
   "execution_count": 35,
   "id": "888cedc0",
   "metadata": {},
   "outputs": [
    {
     "name": "stdout",
     "output_type": "stream",
     "text": [
      "[1, 4]\n",
      "[4, 4, 4]\n"
     ]
    }
   ],
   "source": [
    "def continuous_element(li):\n",
    "    s = [li[i] for i in range(len(li)-1) if li[i] == li[i+1]]\n",
    "    return s\n",
    "\n",
    "\n",
    "print(continuous_element([1, 1, 3, 4, 4, 5, 6, 7]))\n",
    "print(continuous_element([0, 1, 2, 3, 4, 4, 4, 4, 5, 7]))\n"
   ]
  },
  {
   "cell_type": "markdown",
   "id": "f43c82f0",
   "metadata": {},
   "source": [
    "104. Write a Python program to find the difference between consecutive numbers in a given list. Go to the editor\n",
    "Original list:\n",
    "[1, 1, 3, 4, 4, 5, 6, 7]\n",
    "Difference between consecutive numbers of the said list:\n",
    "[0, 2, 1, 0, 1, 1, 1]\n",
    "Original list:\n",
    "[4, 5, 8, 9, 6, 10]\n",
    "Difference between consecutive numbers of the said list:\n",
    "[1, 3, 1, -3, 4]\n"
   ]
  },
  {
   "cell_type": "code",
   "execution_count": 47,
   "id": "8877092d",
   "metadata": {},
   "outputs": [
    {
     "name": "stdout",
     "output_type": "stream",
     "text": [
      "[1, 3, 1, -3, 4]\n",
      "[0, 2, 1, 0, 1, 1, 1]\n"
     ]
    }
   ],
   "source": [
    "def difference(li):\n",
    "    diff = [li[i+1] - li[i] for i in range(0, (len(li)-1))]\n",
    "    return diff\n",
    "\n",
    "print(difference([4, 5, 8, 9, 6, 10]))\n",
    "print(difference([1, 1, 3, 4, 4, 5, 6, 7]))"
   ]
  },
  {
   "cell_type": "markdown",
   "id": "93cc921c",
   "metadata": {},
   "source": [
    "106. Write a Python program to count integer in a given mixed list. Go to the editor\n",
    "Original list:\n",
    "[1, 'abcd', 3, 1.2, 4, 'xyz', 5, 'pqr', 7, -5, -12.22]\n",
    "Number of integers in the said mixed list:\n",
    "6"
   ]
  },
  {
   "cell_type": "code",
   "execution_count": 49,
   "id": "81b6ed27",
   "metadata": {},
   "outputs": [
    {
     "name": "stdout",
     "output_type": "stream",
     "text": [
      "6\n"
     ]
    }
   ],
   "source": [
    "def count_integer(li):\n",
    "    c = [i for i in li if type(i) == int]\n",
    "    return len(c)\n",
    "\n",
    "print(count_integer([1, 'abcd', 3, 1.2, 4, 'xyz', 5, 'pqr', 7, -5, -12.22]))"
   ]
  },
  {
   "cell_type": "markdown",
   "id": "711e2849",
   "metadata": {},
   "source": [
    "110. Write a Python program to find the item with maximum occurrences in a given list. Go to the editor\n",
    "Original list:\n",
    "[2, 3, 8, 4, 7, 9, 8, 2, 6, 5, 1, 6, 1, 2, 3, 4, 6, 9, 1, 2]\n",
    "Item with maximum occurrences of the said list:\n",
    "2"
   ]
  },
  {
   "cell_type": "code",
   "execution_count": 87,
   "id": "9dd8bdaa",
   "metadata": {},
   "outputs": [
    {
     "name": "stdout",
     "output_type": "stream",
     "text": [
      "8\n",
      "2\n"
     ]
    }
   ],
   "source": [
    "def occurencies(li):\n",
    "    c = [li.count(i) for i in li]\n",
    "    return li[c.index(max(c))]\n",
    "\n",
    "print(occurencies([2, 3, 8, 4, 7, 9, 8, 2, 6,8, 5, 1,8, 6, 1, 2, 3,8, 4, 6,8, 9, 1, 2]))\n",
    "print(occurencies([2, 3, 8, 4, 7, 9, 8, 2, 6, 5, 1, 6, 1, 2, 3, 4, 6, 9, 1, 2]))"
   ]
  },
  {
   "cell_type": "markdown",
   "id": "17c0bbb4",
   "metadata": {},
   "source": [
    "111. Write a Python program to access multiple elements of specified index from a given list. Go to the editor\n",
    "Original list:\n",
    "[2, 3, 8, 4, 7, 9, 8, 2, 6, 5, 1, 6, 1, 2, 3, 4, 6, 9, 1, 2]\n",
    "Index list:\n",
    "[0, 3, 5, 7, 10]\n",
    "Items with specified index of the said list:\n",
    "[2, 4, 9, 2, 1]"
   ]
  },
  {
   "cell_type": "code",
   "execution_count": 89,
   "id": "acb2f052",
   "metadata": {},
   "outputs": [
    {
     "name": "stdout",
     "output_type": "stream",
     "text": [
      "[2, 4, 9, 2, 1]\n"
     ]
    }
   ],
   "source": [
    "def specific_index(li, ind):\n",
    "    c = [li[i] for i in ind]\n",
    "    return (c)\n",
    "    \n",
    "    \n",
    "print(specific_index([2, 3, 8, 4, 7, 9, 8, 2, 6, 5, 1, 6, 1, 2, 3, 4, 6, 9, 1, 2], [0, 3, 5, 7, 10]))"
   ]
  },
  {
   "cell_type": "markdown",
   "id": "bab720d1",
   "metadata": {},
   "source": [
    "113. Write a Python program to remove duplicate dictionary from a given list. Go to the editor\n",
    "Original list with duplicate dictionary:\n",
    "[{'Green': '#008000'}, {'Black': '#000000'}, {'Blue': '#0000FF'}, {'Green': '#008000'}]\n",
    "After removing duplicate dictionary of the said list:\n",
    "[{'Black': '#000000'}, {'Blue': '#0000FF'}, {'Green': '#008000'}]"
   ]
  },
  {
   "cell_type": "code",
   "execution_count": 102,
   "id": "5ae65852",
   "metadata": {},
   "outputs": [
    {
     "name": "stdout",
     "output_type": "stream",
     "text": [
      "[{'Black': '#000000'}, {'Blue': '#0000FF'}, {'Green': '#008000'}]\n"
     ]
    }
   ],
   "source": [
    "def duplicate(li):\n",
    "    d =[(li.remove(i)) for i in li if (li.count(i)) > 1]\n",
    "\n",
    "    return li\n",
    "\n",
    "#     for i in li:\n",
    "#         if li.count(i) > 1:\n",
    "#             li.remove(i)\n",
    "            \n",
    "#         (li)\n",
    "        \n",
    "\n",
    "\n",
    "print(duplicate([{'Green': '#008000'},{'Green': '#008000'}, {'Black': '#000000'}, {'Blue': '#0000FF'}, {'Green': '#008000'}]))\n"
   ]
  },
  {
   "cell_type": "markdown",
   "id": "7ecc5a67",
   "metadata": {},
   "source": [
    "114. Write a Python program to extract the nth element from a given list of tuples. Go to the editor\n",
    "Original list:\n",
    "[('Greyson Fulton', 98, 99), ('Brady Kent', 97, 96), ('Wyatt Knott', 91, 94), ('Beau Turnbull', 94, 98)]\n",
    "Extract nth element ( n = 0 ) from the said list of tuples:\n",
    "['Greyson Fulton', 'Brady Kent', 'Wyatt Knott', 'Beau Turnbull']\n",
    "Extract nth element ( n = 2 ) from the said list of tuples:\n",
    "[99, 96, 94, 98]\n"
   ]
  },
  {
   "cell_type": "code",
   "execution_count": 110,
   "id": "a2584d96",
   "metadata": {},
   "outputs": [
    {
     "name": "stdout",
     "output_type": "stream",
     "text": [
      "['Greyson Fulton', 'Brady Kent', 'Wyatt Knott', 'Beau Turnbull']\n",
      "[99, 96, 94, 98]\n"
     ]
    }
   ],
   "source": [
    "def extract(li, n):\n",
    "    e = [(li[i][n]) for i in range(len(li))]\n",
    "    return e\n",
    "  \n",
    "    \n",
    "print(extract([('Greyson Fulton', 98, 99), ('Brady Kent', 97, 96), ('Wyatt Knott', 91, 94), ('Beau Turnbull', 94, 98)],0))\n",
    "print(extract([('Greyson Fulton', 98, 99), ('Brady Kent', 97, 96), ('Wyatt Knott', 91, 94), ('Beau Turnbull', 94, 98)],2))\n"
   ]
  },
  {
   "cell_type": "markdown",
   "id": "baf798dd",
   "metadata": {},
   "source": [
    "115. Write a Python program to check if the elements of a given list are unique or not. Go to the editor\n",
    "Original list:\n",
    "[1, 2, 4, 6, 8, 2, 1, 4, 10, 12, 14, 12, 16, 17]\n",
    "Is the said list contains all unique elements!\n",
    "False\n",
    "Original list:\n",
    "[2, 4, 6, 8, 10, 12, 14]\n",
    "Is the said list contains all unique elements!\n",
    "True"
   ]
  },
  {
   "cell_type": "code",
   "execution_count": 117,
   "id": "af0fb131",
   "metadata": {},
   "outputs": [
    {
     "name": "stdout",
     "output_type": "stream",
     "text": [
      "False\n",
      "True\n",
      "False\n"
     ]
    }
   ],
   "source": [
    "def unique(li):\n",
    "    for i in li:\n",
    "        if li.count(i) > 1 :\n",
    "            return False\n",
    "        else:\n",
    "            return True\n",
    "\n",
    "print(unique([1, 2, 4, 6, 8, 2, 1, 4, 10, 12, 14, 12, 16, 17]))\n",
    "print(unique([2, 4, 6, 8, 10, 12, 14]))\n",
    "print(unique([1, 2, 4, 6, 8, 2, 1, 4, 10,16, 12, 14, 12, 16, 17]))\n"
   ]
  },
  {
   "cell_type": "markdown",
   "id": "649e9e29",
   "metadata": {},
   "source": [
    "116. Write a Python program to sort a list of lists by a given index of the inner list. Go to the editor\n",
    "Original list:\n",
    "[('Greyson Fulton', 98, 99), ('Brady Kent', 97, 96), ('Wyatt Knott', 91, 94), ('Beau Turnbull', 94, 98)]\n",
    "Sort the said list of lists by a given index ( Index = 0 ) of the inner list\n",
    "[('Beau Turnbull', 94, 98), ('Brady Kent', 97, 96), ('Greyson Fulton', 98, 99), ('Wyatt Knott', 91, 94)]\n",
    "Sort the said list of lists by a given index ( Index = 2 ) of the inner list\n",
    "[('Wyatt Knott', 91, 94), ('Brady Kent', 97, 96), ('Beau Turnbull', 94, 98), ('Greyson Fulton', 98, 99)]"
   ]
  },
  {
   "cell_type": "code",
   "execution_count": 23,
   "id": "68c00f32",
   "metadata": {},
   "outputs": [
    {
     "name": "stdout",
     "output_type": "stream",
     "text": [
      "[('Wyatt Knott', 91, 94), ('Beau Turnbull', 94, 98), ('Brady Kent', 97, 96), ('Greyson Fulton', 98, 99)]\n"
     ]
    }
   ],
   "source": [
    "def last(li):\n",
    "    return li[m]\n",
    "\n",
    "\n",
    "\n",
    "\n",
    "li = [('Greyson Fulton', 98, 99), ('Brady Kent', 97, 96), ('Wyatt Knott', 91, 94), ('Beau Turnbull', 94, 98)]\n",
    "m= 1\n",
    "print(sorted(li, key= last, reverse = False))"
   ]
  },
  {
   "cell_type": "markdown",
   "id": "f320a9ee",
   "metadata": {},
   "source": [
    "117. Write a Python program to remove all elements from a given list present in another list. Go to the editor\n",
    "Original lists:\n",
    "list1: [1, 2, 3, 4, 5, 6, 7, 8, 9, 10]\n",
    "list2: [2, 4, 6, 8]\n",
    "Remove all elements from 'list1' present in 'list2:\n",
    "[1, 3, 5, 7, 9, 10]"
   ]
  },
  {
   "cell_type": "code",
   "execution_count": 36,
   "id": "daca7de3",
   "metadata": {},
   "outputs": [
    {
     "name": "stdout",
     "output_type": "stream",
     "text": [
      "[1, 3, 5, 7, 9]\n"
     ]
    }
   ],
   "source": [
    "def remove_elements( list1, list2):\n",
    "    list3 = [i for i in list1 if i not in list2]\n",
    "    return list3\n",
    "\n",
    "print(remove_elements([1, 2, 2, 3, 4, 5, 6, 7, 8, 9, 10],[2, 4, 6,2,10, 8]))"
   ]
  },
  {
   "cell_type": "markdown",
   "id": "b2208fd9",
   "metadata": {},
   "source": [
    "118. Write a Python program to find the difference between elements (n+1th - nth) of a given list of numeric values. Go to the editor\n",
    "Original list:\n",
    "[1, 2, 3, 4, 5, 6, 7, 8, 9, 10]\n",
    "Dfference between elements (n+1th - nth) of the said list :\n",
    "[1, 1, 1, 1, 1, 1, 1, 1, 1]\n",
    "Original list:\n",
    "[2, 4, 6, 8]\n",
    "Dfference between elements (n+1th - nth) of the said list :\n",
    "[2, 2, 2]"
   ]
  },
  {
   "cell_type": "code",
   "execution_count": 38,
   "id": "7b660c16",
   "metadata": {},
   "outputs": [
    {
     "name": "stdout",
     "output_type": "stream",
     "text": [
      "[1, 1, 1, 1, 1, 1, 1, 1, 1]\n",
      "[2, 2, 2]\n"
     ]
    }
   ],
   "source": [
    "def diff_list(li):\n",
    "    \n",
    "    diff = [(li[i+1]-li[i]) for i in range(len(li)-1)]\n",
    "    return diff\n",
    "    \n",
    "print(diff_list([1, 2, 3, 4, 5, 6, 7, 8, 9, 10]))\n",
    "print(diff_list([2, 4, 6, 8]))\n"
   ]
  },
  {
   "cell_type": "markdown",
   "id": "efdd6454",
   "metadata": {},
   "source": [
    "119. Write a Python program to check if a substring presents in a given list of string values. Go to the editor\n",
    "Original list:\n",
    "['red', 'black', 'white', 'green', 'orange']\n",
    "Substring to search:\n",
    "ack\n",
    "Check if a substring presents in the said list of string values:\n",
    "True\n",
    "Substring to search:\n",
    "abc\n",
    "Check if a substring presents in the said list of string values:\n",
    "False"
   ]
  },
  {
   "cell_type": "code",
   "execution_count": 5,
   "id": "601d0233",
   "metadata": {},
   "outputs": [
    {
     "name": "stdout",
     "output_type": "stream",
     "text": [
      "[True]\n"
     ]
    }
   ],
   "source": [
    "def string_check(li):\n",
    "    d = [True for i in li if i.find('ack') != -1]\n",
    "    return d\n",
    "    \n",
    "   \n",
    "print(string_check(['red', 'black', 'white', 'green', 'orange']))"
   ]
  },
  {
   "cell_type": "code",
   "execution_count": 3,
   "id": "6042facd",
   "metadata": {},
   "outputs": [
    {
     "name": "stdout",
     "output_type": "stream",
     "text": [
      "False\n",
      "True\n",
      "False\n",
      "False\n",
      "False\n"
     ]
    }
   ],
   "source": [
    "li = ['red', 'black', 'white', 'green', 'orange']\n",
    "d = []\n",
    "for i in li:\n",
    "    if i.find('ack') != -1:\n",
    "        print(True )\n",
    "    else:\n",
    "        print(False)"
   ]
  },
  {
   "cell_type": "markdown",
   "id": "79670950",
   "metadata": {},
   "source": [
    "120. Write a Python program to create a list taking alternate elements from a given list. Go to the editor\n",
    "Original list:\n",
    "['red', 'black', 'white', 'green', 'orange']\n",
    "List with alternate elements from the said list:\n",
    "['red', 'white', 'orange']\n",
    "Original list:\n",
    "[2, 0, 3, 4, 0, 2, 8, 3, 4, 2]\n",
    "List with alternate elements from the said list:\n",
    "[2, 3, 0, 8, 4]"
   ]
  },
  {
   "cell_type": "code",
   "execution_count": 10,
   "id": "ddc98f64",
   "metadata": {},
   "outputs": [
    {
     "name": "stdout",
     "output_type": "stream",
     "text": [
      "['red', 'white', 'orange']\n",
      "[2, 3, 0, 8, 4]\n"
     ]
    }
   ],
   "source": [
    "def alternate(li):\n",
    "    a = [v for i,v in enumerate(li) if i % 2 == 0]\n",
    "    return a\n",
    "\n",
    "print(alternate(['red', 'black', 'white', 'green', 'orange']))\n",
    "print(alternate([2, 0, 3, 4, 0, 2, 8, 3, 4, 2]))\n"
   ]
  },
  {
   "cell_type": "markdown",
   "id": "157236f9",
   "metadata": {},
   "source": [
    "121. Write a Python program to find the nested lists elements which are present in another list. Go to the editor\n",
    "Original lists:\n",
    "[1, 2, 3, 4, 5, 6, 7, 8, 9, 10, 11, 12, 13, 14]\n",
    "[[12, 18, 23, 25, 45], [7, 11, 19, 24, 28], [1, 5, 8, 18, 15, 16]]\n",
    "Intersection of said nested lists:\n",
    "[[12], [7, 11], [1, 5, 8]]"
   ]
  },
  {
   "cell_type": "markdown",
   "id": "fd0a0f80",
   "metadata": {},
   "source": [
    "### nested for loop application using list comprehension"
   ]
  },
  {
   "cell_type": "code",
   "execution_count": 30,
   "id": "764c0f18",
   "metadata": {},
   "outputs": [
    {
     "name": "stdout",
     "output_type": "stream",
     "text": [
      "[[12], [7, 11], [1, 5, 8]]\n"
     ]
    }
   ],
   "source": [
    "def nested_list(l1,l2):    \n",
    "    q = [[j for j in i if j in l1] for i in l2]\n",
    "    return q\n",
    "\n",
    "print(nested_list([1, 2, 3, 4, 5, 6, 7, 8, 9, 10, 11, 12, 13, 14],[[12, 18, 23, 25, 45], [7, 11, 19, 24, 28], [1, 5, 8, 18, 15, 16]]))"
   ]
  },
  {
   "cell_type": "markdown",
   "id": "2a56febe",
   "metadata": {},
   "source": [
    "122. Write a Python program to find common element(s) in a given nested lists. Go to the editor\n",
    "Original lists:\n",
    "[[12, 18, 23, 25, 45], [7, 12, 18, 24, 28], [1, 5, 8, 12, 15, 16, 18]]\n",
    "Common element(s) in nested lists:\n",
    "[18, 12]"
   ]
  },
  {
   "cell_type": "code",
   "execution_count": 85,
   "id": "ecb9decc",
   "metadata": {},
   "outputs": [
    {
     "name": "stdout",
     "output_type": "stream",
     "text": [
      "[]\n"
     ]
    }
   ],
   "source": [
    "x = []\n",
    "def nested(li):\n",
    "    for i in li:\n",
    "        for j in i:\n",
    "            if j in li:\n",
    "                x.append(j)\n",
    "                \n",
    "    return x\n",
    "    \n",
    "print(nested([[12, 18, 23, 25, 45], [7, 12, 18, 24, 28], [1, 5, 8, 12, 15, 16, 18]]))\n"
   ]
  },
  {
   "cell_type": "code",
   "execution_count": 84,
   "id": "1efbfab9",
   "metadata": {},
   "outputs": [
    {
     "name": "stdout",
     "output_type": "stream",
     "text": [
      "12 7 1\n",
      "18 12 5\n",
      "23 18 8\n",
      "25 24 12\n"
     ]
    }
   ],
   "source": [
    "\n",
    "li = [[12, 18, 23, 25, 45], [7, 12, 18, 24, 28], [1, 5, 8, 12, 15, 16, 18]]\n",
    "v1 , v2, v3 = li\n",
    "for i,j,k in zip(v1, v2, v3):\n",
    "    if (i in (v2 and v3)) or (j in (v1 and v3)) or (k in (v1 and v2)):\n",
    "        print(i,j,k)\n",
    "#     print(j)\n"
   ]
  },
  {
   "cell_type": "markdown",
   "id": "ce7c152d",
   "metadata": {},
   "source": [
    "123. Write a Python program to reverse strings in a given list of string values. Go to the editor\n",
    "Original lists:\n",
    "['Red', 'Green', 'Blue', 'White', 'Black']\n",
    "Reverse strings of the said given list:\n",
    "['deR', 'neerG', 'eulB', 'etihW', 'kcalB']"
   ]
  },
  {
   "cell_type": "code",
   "execution_count": 111,
   "id": "17401fef",
   "metadata": {},
   "outputs": [
    {
     "name": "stdout",
     "output_type": "stream",
     "text": [
      "The original string  is : red\n",
      "The reversed string(using loops) is : der\n"
     ]
    }
   ],
   "source": [
    "def reverse(s):\n",
    "    str = \"\"\n",
    "    for i in s:\n",
    "        str = i + str\n",
    "    return str\n",
    "  \n",
    "s = \"red\"\n",
    "  \n",
    "print (\"The original string  is : \",end=\"\")\n",
    "print (s)\n",
    "  \n",
    "print (\"The reversed string(using loops) is : \",end=\"\")\n",
    "print (reverse(s))"
   ]
  },
  {
   "cell_type": "code",
   "execution_count": 116,
   "id": "b455b288",
   "metadata": {},
   "outputs": [
    {
     "name": "stdout",
     "output_type": "stream",
     "text": [
      "['deR', 'neerG', 'eulB', 'etihW', 'kcalB']\n"
     ]
    }
   ],
   "source": [
    "def rev_string(li):\n",
    "\n",
    "    r = [i[::-1] for i in li]\n",
    "    return r\n",
    "\n",
    "\n",
    "print(rev_string(['Red', 'Green', 'Blue', 'White', 'Black']))\n"
   ]
  },
  {
   "cell_type": "markdown",
   "id": "e421ed43",
   "metadata": {},
   "source": [
    "Write a Python program to find the maximum and minimum product from the pairs of tuple within a given list. Go to the editor\n",
    "The original list, tuple :\n",
    "[(2, 7), (2, 6), (1, 8), (4, 9)]\n",
    "Maximum and minimum product from the pairs of the said tuple of list:\n",
    "(36, 8)"
   ]
  },
  {
   "cell_type": "code",
   "execution_count": 18,
   "id": "2a788fdb",
   "metadata": {},
   "outputs": [
    {
     "name": "stdout",
     "output_type": "stream",
     "text": [
      "(36, 8)\n"
     ]
    }
   ],
   "source": [
    "# x = []\n",
    "def product(li):\n",
    "    \n",
    "    x= [li[i][0]*li[i][1] for i in range(len(li))]\n",
    "    return (max(x), min(x))\n",
    "    \n",
    "#     for i in range(len(li)):\n",
    "#         x.append(li[i][0]*li[i][1])\n",
    "#         print((max(x), min(x))\n",
    "        \n",
    "print(product([(2, 7), (2, 6), (1, 8), (4, 9)]))\n",
    "\n"
   ]
  },
  {
   "cell_type": "markdown",
   "id": "04db5340",
   "metadata": {},
   "source": [
    "125. Write a Python program to calculate the product of the unique numbers of a given list. Go to the editor\n",
    "Original List : [10, 20, 30, 40, 20, 50, 60, 40]\n",
    "Product of the unique numbers of the said list: 720000000\n",
    "\n"
   ]
  },
  {
   "cell_type": "code",
   "execution_count": 48,
   "id": "451f95da",
   "metadata": {},
   "outputs": [
    {
     "name": "stdout",
     "output_type": "stream",
     "text": [
      "Unique list  :  [10, 30, 20, 50, 60, 40]\n",
      "720000000\n"
     ]
    }
   ],
   "source": [
    "# mul = 1\n",
    "\n",
    "def unique(li):\n",
    "    mul = 1\n",
    "    [li.remove(i) for i in li if li.count(i) > 1]\n",
    "    print(f'Unique list  :  {li}')\n",
    "    for j in li:\n",
    "        mul = mul * j\n",
    "    return mul\n",
    "\n",
    "print(unique([10, 20, 30, 40, 20, 50, 60, 40]))"
   ]
  },
  {
   "cell_type": "markdown",
   "id": "0c113aba",
   "metadata": {},
   "source": [
    "126. Write a Python program to interleave multiple lists of the same length. Go to the editor\n",
    "Original list:\n",
    "list1: [1, 2, 3, 4, 5, 6, 7]\n",
    "list2: [10, 20, 30, 40, 50, 60, 70]\n",
    "list3: [100, 200, 300, 400, 500, 600, 700]\n",
    "Interleave multiple lists:\n",
    "[1, 10, 100, 2, 20, 200, 3, 30, 300, 4, 40, 400, 5, 50, 500, 6, 60, 600, 7, 70, 700]"
   ]
  },
  {
   "cell_type": "code",
   "execution_count": 9,
   "id": "86c132b3",
   "metadata": {},
   "outputs": [
    {
     "name": "stdout",
     "output_type": "stream",
     "text": [
      "[1, 10, 100, 2, 20, 200, 3, 30, 300, 4, 40, 400, 5, 50, 500, 6, 60, 600, 7, 70, 700]\n"
     ]
    }
   ],
   "source": [
    "# x= []\n",
    "def multiple(l1, l2, l3):\n",
    "#         for i ,j,k in zip(l1, l2, l3):\n",
    "#             x.append(i)\n",
    "#             x.append(j)\n",
    "#             x.append(k)\n",
    "\n",
    "    x = [i for ans in zip(l1, l2 , l3) for i in ans]\n",
    "    return x\n",
    "\n",
    "print(multiple([1, 2, 3, 4, 5, 6, 7],[10, 20, 30, 40, 50, 60, 70],[100, 200, 300, 400, 500, 600, 700]))\n"
   ]
  },
  {
   "cell_type": "markdown",
   "id": "28dd78c8",
   "metadata": {},
   "source": [
    "127. Write a Python program to remove words from a given list of strings containing a character or string. Go to the editor\n",
    "Original list:\n",
    "list1: ['Red color', 'Orange#', 'Green', 'Orange @', 'White']\n",
    "Character list:\n",
    "['#', 'color', '@']\n",
    "New list:\n",
    "['Red', '', 'Green', 'Orange', 'White']"
   ]
  },
  {
   "cell_type": "code",
   "execution_count": 43,
   "id": "6d73f60e",
   "metadata": {},
   "outputs": [
    {
     "name": "stdout",
     "output_type": "stream",
     "text": [
      "['Red ', 'Orange', 'Green', 'Orange ', 'White']\n"
     ]
    }
   ],
   "source": [
    "def remove_str(li, l2):\n",
    "    for i,v in enumerate(li):\n",
    "        for j in l2:\n",
    "            if j in li[i]:\n",
    "                b = v.strip(j)\n",
    "                li[i] = li[i].replace(v, b)\n",
    "\n",
    "    \n",
    "    return li\n",
    "            \n",
    "print(remove_str(['Red color', 'Orange#', 'Green', 'Orange @', 'White'],['#', 'color', '@']))"
   ]
  },
  {
   "cell_type": "markdown",
   "id": "cc6c06a2",
   "metadata": {},
   "source": [
    "29. Write a Python program to reverse each list in a given list of lists. Go to the editor\n",
    "Original list of lists:\n",
    "[[1, 2, 3, 4], [5, 6, 7, 8], [9, 10, 11, 12], [13, 14, 15, 16]]\n",
    "Reverse each list in the said list of lists:\n",
    "[[4, 3, 2, 1], [8, 7, 6, 5], [12, 11, 10, 9], [16, 15, 14, 13]]"
   ]
  },
  {
   "cell_type": "code",
   "execution_count": 52,
   "id": "f418d9f3",
   "metadata": {},
   "outputs": [
    {
     "name": "stdout",
     "output_type": "stream",
     "text": [
      "[[4, 3, 2, 1], [8, 7, 6, 5], [12, 11, 10, 9], [16, 15, 14, 13]]\n"
     ]
    }
   ],
   "source": [
    "def rev_list(li):\n",
    "    \n",
    "    a = [i[::-1] for i in li]\n",
    "    return a\n",
    "\n",
    "print(rev_list([[1, 2, 3, 4], [5, 6, 7, 8], [9, 10, 11, 12], [13, 14, 15, 16]]))\n",
    "\n",
    "\n"
   ]
  },
  {
   "cell_type": "code",
   "execution_count": 46,
   "id": "5eb56b45",
   "metadata": {},
   "outputs": [
    {
     "data": {
      "text/plain": [
       "[4, 3, 2, 1]"
      ]
     },
     "execution_count": 46,
     "metadata": {},
     "output_type": "execute_result"
    }
   ],
   "source": [
    "l1 = [1,2,3,4]\n",
    "l1[::-1]"
   ]
  },
  {
   "cell_type": "markdown",
   "id": "d5bb652d",
   "metadata": {},
   "source": [
    "130. Write a Python program to count the same pair in three given lists. Go to the editor\n",
    "Original lists:\n",
    "[1, 2, 3, 4, 5, 6, 7, 8]\n",
    "[2, 2, 3, 1, 2, 6, 7, 9]\n",
    "[2, 1, 3, 1, 2, 6, 7, 9]\n",
    "Number of same pair of the said three given lists:\n",
    "3"
   ]
  },
  {
   "cell_type": "code",
   "execution_count": 58,
   "id": "9e19eb5f",
   "metadata": {},
   "outputs": [
    {
     "name": "stdout",
     "output_type": "stream",
     "text": [
      "3\n"
     ]
    }
   ],
   "source": [
    "counter = 0\n",
    "def pair_count(l1,l2,l3):\n",
    "    counter = 0\n",
    "\n",
    "    for i, j ,k in zip(l1,l2,l3): \n",
    "        if i == j == k:\n",
    "            counter += 1\n",
    "            \n",
    "    return counter       \n",
    "print(pair_count([1, 2, 3, 4, 5, 6, 7, 8],[2, 2, 3, 1, 2, 6, 7, 9],[2, 1, 3, 1, 2, 6, 7, 9]))        "
   ]
  },
  {
   "cell_type": "markdown",
   "id": "457442c0",
   "metadata": {},
   "source": [
    "131. Write a Python program to count the frequency of consecutive duplicate elements in a given list of numbers. Go to the editor\n",
    "Original lists:\n",
    "[1, 2, 2, 2, 4, 4, 4, 5, 5, 5, 5]\n",
    "Consecutive duplicate elements and their frequency:\n",
    "([1, 2, 4, 5], [1, 3, 3, 4])"
   ]
  },
  {
   "cell_type": "code",
   "execution_count": 73,
   "id": "be4eec09",
   "metadata": {},
   "outputs": [
    {
     "name": "stdout",
     "output_type": "stream",
     "text": [
      "[1, 3, 3, 3, 6, 6, 6, 6, 6, 6, 4, 4, 4, 4]\n",
      "([1, 3, 6, 4], [1, 2, 4, 5])\n"
     ]
    }
   ],
   "source": [
    "from itertools import groupby\n",
    "q = []\n",
    "x = []\n",
    "w = []\n",
    "def freq_list(li):\n",
    "    for i in li:\n",
    "        x.append(li.count(i))\n",
    "    print(x)\n",
    "    \n",
    "    for a,b in groupby(li):\n",
    "        q.append(a)\n",
    "    \n",
    "    for c,d in groupby(x):\n",
    "        w.append(c)\n",
    "    \n",
    "    return w , q\n",
    "    \n",
    "    \n",
    "    \n",
    "print(freq_list([1, 2, 2, 2, 4, 4,4,4,4, 4, 5, 5, 5, 5]))\n"
   ]
  },
  {
   "cell_type": "markdown",
   "id": "317380ba",
   "metadata": {},
   "source": [
    "132. Write a Python program to find all index positions of the maximum and minimum values in a given list of numbers. Go to the editor\n",
    "Original list:\n",
    "[12, 33, 23, 10, 67, 89, 45, 667, 23, 12, 11, 10, 54]\n",
    "Index positions of the maximum value of the said list:\n",
    "7\n",
    "Index positions of the minimum value of the said list:\n",
    "3"
   ]
  },
  {
   "cell_type": "code",
   "execution_count": 4,
   "id": "30bfa515",
   "metadata": {},
   "outputs": [
    {
     "name": "stdout",
     "output_type": "stream",
     "text": [
      "(7, 3)\n"
     ]
    }
   ],
   "source": [
    "def find_index(li):\n",
    "    return (li.index(max(li))) , (li.index(min(li)))\n",
    "    \n",
    "\n",
    "\n",
    "print(find_index([12, 33, 23, 10, 67, 89, 45, 667, 23, 12, 11, 10, 54]))\n"
   ]
  },
  {
   "cell_type": "markdown",
   "id": "b4a313ca",
   "metadata": {},
   "source": [
    "133. Write a Python program to check common elements between two given list are in same order or not. Go to the editor\n",
    "Original lists:\n",
    "['red', 'green', 'black', 'orange']\n",
    "['red', 'pink', 'green', 'white', 'black']\n",
    "['white', 'orange', 'pink', 'black']\n",
    "Test common elements between color1 and color2 are in same order?\n",
    "True\n",
    "Test common elements between color1 and color3 are in same order?\n",
    "False\n",
    "Test common elements between color2 and color3 are in same order?\n",
    "False"
   ]
  },
  {
   "cell_type": "code",
   "execution_count": 13,
   "id": "66f45c72",
   "metadata": {},
   "outputs": [
    {
     "name": "stdout",
     "output_type": "stream",
     "text": [
      "True\n",
      "False\n",
      "False\n"
     ]
    }
   ],
   "source": [
    "def common(l1,l2):\n",
    "    for i, j in zip(l1,l2):\n",
    "        if i == j :\n",
    "            return True\n",
    "        else:\n",
    "            return False\n",
    "        \n",
    "print(common(['red', 'green', 'black', 'orange'],['red', 'pink', 'green', 'white', 'black']))\n",
    "\n",
    "print(common(['red', 'green', 'black', 'orange'],['white', 'orange', 'pink', 'black']))\n",
    "\n",
    "print(common(['red', 'pink', 'green', 'white', 'black'],['white', 'orange', 'pink', 'black']))"
   ]
  },
  {
   "cell_type": "markdown",
   "id": "76b21691",
   "metadata": {},
   "source": [
    "135. Write a Python program to iterate over all pairs of consecutive items in a given list. Go to the editor\n",
    "Original lists:\n",
    "[1, 1, 2, 3, 3, 4, 4, 5]\n",
    "Iterate over all pairs of consecutive items of the said list:\n",
    "[(1, 1), (1, 2), (2, 3), (3, 3), (3, 4), (4, 4), (4, 5)]"
   ]
  },
  {
   "cell_type": "code",
   "execution_count": 21,
   "id": "24c8cd8e",
   "metadata": {},
   "outputs": [
    {
     "name": "stdout",
     "output_type": "stream",
     "text": [
      "[(1, 1), (1, 2), (2, 3), (3, 3), (3, 4), (4, 4), (4, 5)]\n"
     ]
    }
   ],
   "source": [
    "\n",
    "def consecutive(li):\n",
    "    x = [tuple((li[i],li[i+1])) for i in range(len(li)-1)]\n",
    "    \n",
    "    return x\n",
    "    \n",
    "print(consecutive([1, 1, 2, 3, 3, 4, 4, 5]))\n",
    "    "
   ]
  },
  {
   "cell_type": "markdown",
   "id": "533751d0",
   "metadata": {},
   "source": [
    "137. Write a Python program to find a first even and odd number in a given list of numbers. Go to the editor\n",
    "Original list:\n",
    "[1, 3, 5, 7, 4, 1, 6, 8]\n",
    "First even and odd number of the said list of numbers:\n",
    "(4, 1)"
   ]
  },
  {
   "cell_type": "code",
   "execution_count": 48,
   "id": "b88195a4",
   "metadata": {},
   "outputs": [
    {
     "name": "stdout",
     "output_type": "stream",
     "text": [
      "4\n",
      "6\n",
      "8\n",
      "1\n",
      "3\n",
      "5\n",
      "7\n",
      "1\n",
      "None\n"
     ]
    }
   ],
   "source": [
    "def even_odd(li):\n",
    "    for i in li:\n",
    "        if i % 2 == 0:\n",
    "            print(i)\n",
    "        \n",
    "    for j in li:\n",
    "        if j % 2 == 1:\n",
    "            print(j)\n",
    "        \n",
    "            \n",
    "            \n",
    "    \n",
    "    \n",
    "print(even_odd([1, 3, 5, 7, 4, 1, 6, 8]))\n"
   ]
  },
  {
   "cell_type": "markdown",
   "id": "8cbf6100",
   "metadata": {},
   "source": [
    "138. Write a Python program to sort a given mixed list of integers and strings. Numbers must be sorted before strings. Go to the editor\n",
    "Original list:\n",
    "[19, 'red', 12, 'green', 'blue', 10, 'white', 'green', 1]\n",
    "Sort the said mixed list of integers and strings:\n",
    "[1, 10, 12, 19, 'blue', 'green', 'green', 'red', 'white']"
   ]
  },
  {
   "cell_type": "code",
   "execution_count": 53,
   "id": "98a0a672",
   "metadata": {},
   "outputs": [
    {
     "name": "stdout",
     "output_type": "stream",
     "text": [
      "[1, 10, 12, 19, 'blue', 'green', 'green', 'red', 'white']\n"
     ]
    }
   ],
   "source": [
    "inte = []\n",
    "string =[]\n",
    "def sorting(li):\n",
    "    for i in li:\n",
    "        if type(i) == int:\n",
    "            inte.append(i)\n",
    "        elif type(i) == str :\n",
    "            string.append(i)\n",
    "\n",
    "    x = sorted(inte) + sorted(string)\n",
    "    return x\n",
    "\n",
    "print(sorting([19, 'red', 12, 'green', 'blue', 10, 'white', 'green', 1]))\n"
   ]
  },
  {
   "cell_type": "markdown",
   "id": "99a146c5",
   "metadata": {},
   "source": [
    "140. Write a Python program to remove the specific item from a given list of lists. Go to the editor\n",
    "Original list of lists:\n",
    "[['Red', 'Maroon', 'Yellow', 'Olive'], ['#FF0000', '#800000', '#FFFF00', '#808000'], ['rgb(255,0,0)', 'rgb(128,0,0)', 'rgb(255,255,0)', 'rgb(128,128,0)']]\n",
    "Remove 1st list from the saod given list of lists:\n",
    "[['Maroon', 'Yellow', 'Olive'], ['#800000', '#FFFF00', '#808000'], ['rgb(128,0,0)', 'rgb(255,255,0)', 'rgb(128,128,0)']]\n",
    "Remove 2nd list from the saod given list of lists:\n",
    "[['Red', 'Yellow', 'Olive'], ['#FF0000', '#FFFF00', '#808000'], ['rgb(255,0,0)', 'rgb(255,255,0)', 'rgb(128,128,0)']]\n",
    "Remove 4th list from the saod given list of lists:\n",
    "[['Red', 'Maroon', 'Yellow'], ['#FF0000', '#800000', '#FFFF00'], ['rgb(255,0,0)', 'rgb(128,0,0)', 'rgb(255,255,0)']]"
   ]
  },
  {
   "cell_type": "code",
   "execution_count": 112,
   "id": "9580f46b",
   "metadata": {},
   "outputs": [
    {
     "data": {
      "text/plain": [
       "[1, 1, 3, [4, 5, 8, 6], 9, 7, 8, [8, 9, 12, 4, 5], 6, 87, 64]"
      ]
     },
     "execution_count": 112,
     "metadata": {},
     "output_type": "execute_result"
    }
   ],
   "source": [
    "s1 = [1,1,3,[4,5,8,6],9,7,8,[8,9,6,12,4,5],6,87,64]\n",
    "s1[7].pop(2)\n",
    "s1"
   ]
  },
  {
   "cell_type": "code",
   "execution_count": 8,
   "id": "0137b786",
   "metadata": {},
   "outputs": [
    {
     "name": "stdout",
     "output_type": "stream",
     "text": [
      "[['Red', 'Maroon', 'Olive'], ['#FF0000', '#800000', '#808000'], ['rgb(255,0,0)', 'rgb(128,0,0)', 'rgb(128,128,0)']]\n",
      "[['Red', 'Yellow', 'Olive'], ['#FF0000', '#FFFF00', '#808000'], ['rgb(255,0,0)', 'rgb(255,255,0)', 'rgb(128,128,0)']]\n",
      "[['Red', 'Maroon', 'Yellow'], ['#FF0000', '#800000', '#FFFF00'], ['rgb(255,0,0)', 'rgb(128,0,0)', 'rgb(255,255,0)']]\n"
     ]
    }
   ],
   "source": [
    "def remove_specific(l8,n):\n",
    "    for i in range(len(l8)):\n",
    "#         print(l8[i][1])\n",
    "           l8[i].pop(n)\n",
    "    return l8\n",
    "           \n",
    "print(remove_specific([['Red', 'Maroon', 'Yellow', 'Olive'],['#FF0000', '#800000', '#FFFF00', '#808000'],['rgb(255,0,0)', 'rgb(128,0,0)', 'rgb(255,255,0)', 'rgb(128,128,0)']],2))\n",
    "print(remove_specific([['Red', 'Maroon', 'Yellow', 'Olive'],['#FF0000', '#800000', '#FFFF00', '#808000'],['rgb(255,0,0)', 'rgb(128,0,0)', 'rgb(255,255,0)', 'rgb(128,128,0)']],1))\n",
    "print(remove_specific([['Red', 'Maroon', 'Yellow', 'Olive'],['#FF0000', '#800000', '#FFFF00', '#808000'],['rgb(255,0,0)', 'rgb(128,0,0)', 'rgb(255,255,0)', 'rgb(128,128,0)']],3))"
   ]
  },
  {
   "cell_type": "markdown",
   "id": "c9cdde46",
   "metadata": {},
   "source": [
    "141. Write a Python program to remove empty lists from a given list of lists. Go to the editor\n",
    "Original list:\n",
    "[[], [], [], 'Red', 'Green', [1, 2], 'Blue', [], []]\n",
    "After deleting the empty lists from the said lists of lists\n",
    "['Red', 'Green', [1, 2], 'Blue']"
   ]
  },
  {
   "cell_type": "code",
   "execution_count": 13,
   "id": "70ecbe77",
   "metadata": {},
   "outputs": [
    {
     "name": "stdout",
     "output_type": "stream",
     "text": [
      "['Red', 'Green', [1, 2], 'Blue']\n"
     ]
    }
   ],
   "source": [
    "def empty(li):\n",
    "    x = [i for i in li if i != []]        \n",
    "    return x\n",
    "    \n",
    "print(empty([[], [], [], 'Red', 'Green', [1, 2], 'Blue', [], []]))"
   ]
  },
  {
   "cell_type": "code",
   "execution_count": null,
   "id": "c0394ebf",
   "metadata": {},
   "outputs": [],
   "source": []
  },
  {
   "cell_type": "code",
   "execution_count": null,
   "id": "2f418d95",
   "metadata": {},
   "outputs": [],
   "source": []
  }
 ],
 "metadata": {
  "kernelspec": {
   "display_name": "Python 3",
   "language": "python",
   "name": "python3"
  }
 },
 "nbformat": 4,
 "nbformat_minor": 5
}
