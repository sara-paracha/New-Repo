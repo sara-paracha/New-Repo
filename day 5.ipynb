{
 "cells": [
  {
   "cell_type": "markdown",
   "id": "80776378",
   "metadata": {},
   "source": [
    "56. Write a Python program to convert a string to a list. Go to the editor\n"
   ]
  },
  {
   "cell_type": "code",
   "execution_count": 11,
   "id": "b66403d8",
   "metadata": {},
   "outputs": [
    {
     "name": "stdout",
     "output_type": "stream",
     "text": [
      "[\"['red', 'green','orange']\"]\n"
     ]
    },
    {
     "data": {
      "text/plain": [
       "\"['red', 'green','orange']\""
      ]
     },
     "execution_count": 11,
     "metadata": {},
     "output_type": "execute_result"
    }
   ],
   "source": [
    "co2 = \"['red', 'green','orange']\"\n",
    "co3 = co2.split(\"''\")\n",
    "print(co3)\n",
    "co3[0]"
   ]
  },
  {
   "cell_type": "markdown",
   "id": "1bcdc82b",
   "metadata": {},
   "source": [
    "Write a Python program to replace the last element in a list with another list. Go to the editor\n",
    "\n",
    "\n",
    "\n",
    "Sample data : [1, 3, 5, 7, 9, 10], [2, 4, 6, 8]\n",
    "\n",
    "\n",
    "\n",
    "\n",
    "Expected Output: [1, 3, 5, 7, 9, 2, 4, 6, 8]"
   ]
  },
  {
   "cell_type": "code",
   "execution_count": 13,
   "id": "b375ce94",
   "metadata": {},
   "outputs": [
    {
     "name": "stdout",
     "output_type": "stream",
     "text": [
      "[1, 3, 5, 7, 9, [2, 4, 6, 8]]\n"
     ]
    }
   ],
   "source": [
    "num1 = [1, 3, 5, 7, 9, 10]\n",
    "num2 = [2, 4, 6, 8]\n",
    "num1[-1] = num2\n",
    "print(num1)"
   ]
  },
  {
   "cell_type": "markdown",
   "id": "ce1d4781",
   "metadata": {},
   "source": [
    "62. Write a Python program to print a list of space-separated elements. Go to the editor\n"
   ]
  },
  {
   "cell_type": "code",
   "execution_count": 2,
   "id": "3382bbb7",
   "metadata": {},
   "outputs": [
    {
     "name": "stdout",
     "output_type": "stream",
     "text": [
      "1 3 5 7 9 10\n"
     ]
    }
   ],
   "source": [
    "num1 = [1, 3, 5, 7, 9, 10]\n",
    "print(*num1)"
   ]
  },
  {
   "cell_type": "markdown",
   "id": "52c59abc",
   "metadata": {},
   "source": [
    "63. Write a Python program to insert a given string at the beginning of all items in a list. Go to the editor\n",
    "\n",
    "\n",
    "\n",
    "Sample list : [1,2,3,4], string : emp\n",
    "\n",
    "\n",
    "\n",
    "\n",
    "Expected output : ['emp1', 'emp2', 'emp3', 'emp4']"
   ]
  },
  {
   "cell_type": "code",
   "execution_count": 2,
   "id": "2a106214",
   "metadata": {},
   "outputs": [
    {
     "name": "stdout",
     "output_type": "stream",
     "text": [
      "['emp1', 'emp2', 'emp3', 'emp4']\n"
     ]
    }
   ],
   "source": [
    "l = [1,2,3,4]\n",
    "# f = []\n",
    "# for i in range(1,5):\n",
    "#     q = 'emp' + str(i)\n",
    "#     f.append(q)\n",
    "# print(f)\n",
    "print(['emp{}'.format(i) for i in l])"
   ]
  },
  {
   "cell_type": "markdown",
   "id": "cad7822b",
   "metadata": {},
   "source": [
    "64. Write a Python program to iterate over two lists simultaneously. Go to the editor\n"
   ]
  },
  {
   "cell_type": "code",
   "execution_count": 22,
   "id": "7c377b57",
   "metadata": {},
   "outputs": [
    {
     "name": "stdout",
     "output_type": "stream",
     "text": [
      "1 red\n",
      "2 black\n",
      "3 green\n"
     ]
    }
   ],
   "source": [
    "r = [1,2,3]\n",
    "e = ['red', 'black','green']\n",
    "\n",
    "for (i, j) in zip(r,e):\n",
    "    print(i,j)"
   ]
  },
  {
   "cell_type": "markdown",
   "id": "cedce828",
   "metadata": {},
   "source": [
    "65. Write a Python program to move all zero digits to end of a given list of numbers. Go to the editor\n",
    "Expected output:\n",
    "\n",
    "\n",
    "Original list:\n",
    "[3, 4, 0, 0, 0, 6, 2, 0, 6, 7, 6, 0, 0, 0, 9, 10, 7, 4, 4, 5, 3, 0, 0, 2, 9, 7, 1]\n",
    "\n",
    "\n",
    "\n",
    "\n",
    "\n",
    "Move all zero digits to end of the said list of numbers:\n",
    "[3, 4, 6, 2, 6, 7, 6, 9, 10, 7, 4, 4, 5, 3, 2, 9, 7, 1, 0, 0, 0, 0, 0, 0, 0, 0, 0]"
   ]
  },
  {
   "cell_type": "code",
   "execution_count": 35,
   "id": "7857ebaa",
   "metadata": {},
   "outputs": [
    {
     "name": "stdout",
     "output_type": "stream",
     "text": [
      "[10, 9, 9, 7, 7, 7, 6, 6, 6, 5, 4, 4, 4, 3, 3, 2, 2, 1, 0, 0, 0, 0, 0, 0, 0, 0, 0]\n"
     ]
    }
   ],
   "source": [
    "ol = [3, 4, 0, 0, 0, 6, 2, 0, 6, 7, 6, 0, 0, 0, 9, 10, 7, 4, 4, 5, 3, 0, 0, 2, 9, 7, 1]\n",
    "ol.sort(reverse = True)\n",
    "print(ol)"
   ]
  },
  {
   "cell_type": "code",
   "execution_count": 10,
   "id": "6bc9f272",
   "metadata": {},
   "outputs": [
    {
     "name": "stdout",
     "output_type": "stream",
     "text": [
      "[3, 4, 6, 2, 6, 7, 6, 9, 10, 7, 4, 4, 5, 3, 2, 9, 7, 1, 0, 0, 0, 0, 0, 0, 0, 0, 0]\n"
     ]
    }
   ],
   "source": [
    "ol = [3, 4, 0, 0, 0, 6, 2, 0, 6, 7, 6, 0, 0, 0, 9, 10, 7, 4, 4, 5, 3, 0, 0, 2, 9, 7, 1]\n",
    "for i in ol:\n",
    "    if i == 0:\n",
    "        ol.append(ol.pop(ol.index(0)))\n",
    "\n",
    "        \n",
    "print(ol)"
   ]
  },
  {
   "cell_type": "markdown",
   "id": "795bb20e",
   "metadata": {},
   "source": [
    "66. Write a Python program to find the list in a list of lists whose sum of elements is the highest. Go to the editor\n",
    "\n",
    "\n",
    "\n",
    "Sample lists: [1,2,3], [4,5,6], [10,11,12], [7,8,9]\n",
    "\n",
    "\n",
    "\n",
    "Expected Output: [10, 11, 12]\n"
   ]
  },
  {
   "cell_type": "code",
   "execution_count": 3,
   "id": "cc5c8878",
   "metadata": {},
   "outputs": [
    {
     "name": "stdout",
     "output_type": "stream",
     "text": [
      "[10, 11, 12]\n"
     ]
    }
   ],
   "source": [
    "list1 =[[1,2,3], [4,5,6], [10,11,12], [7,8,9]]\n",
    "# var1, var2, var3, var4 = list1\n",
    "\n",
    "print(max(list1, key = s))"
   ]
  },
  {
   "cell_type": "markdown",
   "id": "6afcfc4c",
   "metadata": {},
   "source": [
    "68. Write a Python program to extend a list without append. Go to the editor\n",
    "Sample data: [10, 20, 30]\n",
    "[40, 50, 60]\n",
    "Expected output : [40, 50, 60, 10, 20, 30]"
   ]
  },
  {
   "cell_type": "code",
   "execution_count": 19,
   "id": "3bc5e6fd",
   "metadata": {},
   "outputs": [
    {
     "name": "stdout",
     "output_type": "stream",
     "text": [
      "[40, 50, 60, 30, 's', 'f', 'd']\n"
     ]
    }
   ],
   "source": [
    "d = [10,20,30,'s','f','d']\n",
    "e = [40,50,60]\n",
    "# d[:4] = e\n",
    "# print(d)\n",
    "d[:2] = e\n",
    "print(d)"
   ]
  },
  {
   "cell_type": "markdown",
   "id": "ec48e5b4",
   "metadata": {},
   "source": [
    "69. Write a Python program to remove duplicates from a list of lists. Go to the editor\n",
    "\n",
    "\n",
    "Sample list : [[10, 20], [40], [30, 56, 25], [10, 20], [33], [40]]\n",
    "\n",
    "\n",
    "New List : [[10, 20], [30, 56, 25], [33], [40]]"
   ]
  },
  {
   "cell_type": "code",
   "execution_count": 22,
   "id": "1b0bc6e3",
   "metadata": {},
   "outputs": [
    {
     "name": "stdout",
     "output_type": "stream",
     "text": [
      "[[10, 20, 3], [30, 56, 25], [10, 20], [33], [40]]\n"
     ]
    }
   ],
   "source": [
    "l1 = [[10, 20,3], [40], [30, 56, 25], [10, 20], [33], [40]]\n",
    "for i in l1:\n",
    "    if l1.count(i) > 1:\n",
    "        l1.remove(i)\n",
    "print(l1)\n"
   ]
  },
  {
   "cell_type": "markdown",
   "id": "027e5bcb",
   "metadata": {},
   "source": [
    "70. Write a Python program to find the items starts with specific character from a given list. Go to the editor\n",
    "Expected Output:\n",
    "\n",
    "\n",
    "Original list:\n",
    "\n",
    "['abcd', 'abc', 'bcd', 'bkie', 'cder', 'cdsw', 'sdfsd', 'dagfa', 'acjd']\n",
    "\n",
    "\n",
    "Items start with a from the said list:\n",
    "['abcd', 'abc', 'acjd']\n",
    "\n",
    "\n",
    "Items start with d from the said list:\n",
    "['dagfa']\n",
    "\n",
    "\n",
    "\n",
    "Items start with w from the said list:\n",
    "[]"
   ]
  },
  {
   "cell_type": "code",
   "execution_count": 43,
   "id": "67d06211",
   "metadata": {},
   "outputs": [
    {
     "name": "stdout",
     "output_type": "stream",
     "text": [
      "items start with a from the said list : ['abc', 'abcd', 'acjd']\n",
      "items start with d from the said list : ['dagfa']\n",
      "items start with w from the said list : []\n"
     ]
    }
   ],
   "source": [
    "def specific_character(lst, char):\n",
    "    txt = ['abcd', 'abc', 'bcd', 'bkie', 'cder', 'cdsw', 'sdfsd', 'dagfa', 'acjd']\n",
    "    txt.sort()\n",
    "    x = [i for i in txt if i.startswith(char)]\n",
    "    print(f'items start with {char} from the said list : {x}')\n",
    "\n",
    "specific_character(txt,'a')\n",
    "specific_character(txt,'d')\n",
    "specific_character(txt,'w')\n"
   ]
  },
  {
   "cell_type": "code",
   "execution_count": 37,
   "id": "5d26fbc1",
   "metadata": {},
   "outputs": [
    {
     "name": "stdout",
     "output_type": "stream",
     "text": [
      "['abc', 'abcd', 'acjd', 'bcd', 'bkie', 'cder', 'cdsw', 'dagfa', 'sdfsd']\n",
      "a\n",
      "Items start with a from the said list: abc\n",
      "Items start with a from the said list: abcd\n",
      "Items start with a from the said list: acjd\n",
      "b\n",
      "Items start with b from the said list: bcd\n",
      "Items start with b from the said list: bkie\n",
      "c\n",
      "Items start with c from the said list: cder\n",
      "Items start with c from the said list: cdsw\n",
      "d\n",
      "Items start with d from the said list: dagfa\n",
      "s\n",
      "Items start with s from the said list: sdfsd\n"
     ]
    }
   ],
   "source": [
    "from itertools import groupby\n",
    "from operator import itemgetter\n",
    "l2 = ['abcd', 'abc', 'bcd', 'bkie', 'cder', 'cdsw', 'sdfsd', 'dagfa', 'acjd']\n",
    "l2.sort()\n",
    "print(l2)\n",
    "for letter , words in groupby(l2, key = itemgetter(0)):\n",
    "    print(letter)\n",
    "    for word in words:\n",
    "        print(f'Items start with {letter} from the said list: {word}')"
   ]
  },
  {
   "cell_type": "markdown",
   "id": "904eda3f",
   "metadata": {},
   "source": [
    "71. Write a Python program to check whether all dictionaries in a list are empty or not. Go to the editor\n",
    "\n",
    "\n",
    "Sample list : [{},{},{}]\n",
    "\n",
    "\n",
    "Return value : True\n",
    "\n",
    "\n",
    "Sample list : [{1,2},{},{}]\n",
    "\n",
    "\n",
    "Return value : False"
   ]
  },
  {
   "cell_type": "code",
   "execution_count": 59,
   "id": "972e53fa",
   "metadata": {},
   "outputs": [
    {
     "name": "stdout",
     "output_type": "stream",
     "text": [
      "False\n",
      "True\n",
      "True\n"
     ]
    }
   ],
   "source": [
    "Sample_list = [{(1,2)},{},{}]\n",
    "# print(all(i for i in Sample_list if len(Sample_list) < 1))\n",
    "# len(Sample_list)\n",
    "for i in Sample_list:\n",
    "    print(not i)"
   ]
  },
  {
   "cell_type": "markdown",
   "id": "4708eee5",
   "metadata": {},
   "source": [
    "72. Write a Python program to flatten a given nested list structure. Go to the editor\n",
    "Original list: [0, 10, [20, 30], 40, 50, [60, 70, 80], [90, 100, 110, 120]]\n",
    "Flatten list:\n",
    "[0, 10, 20, 30, 40, 50, 60, 70, 80, 90, 100, 110, 120]"
   ]
  },
  {
   "cell_type": "code",
   "execution_count": 82,
   "id": "2fef3b2f",
   "metadata": {},
   "outputs": [
    {
     "name": "stdout",
     "output_type": "stream",
     "text": [
      "10 0\n",
      "10 1\n",
      "10 2\n",
      "10 3\n",
      "10 4\n",
      "10 5\n",
      "10 6\n",
      "10 7\n",
      "10 8\n",
      "10 9\n"
     ]
    },
    {
     "ename": "TypeError",
     "evalue": "'list' object cannot be interpreted as an integer",
     "output_type": "error",
     "traceback": [
      "\u001b[1;31m---------------------------------------------------------------------------\u001b[0m",
      "\u001b[1;31mTypeError\u001b[0m                                 Traceback (most recent call last)",
      "\u001b[1;32m<ipython-input-82-94ac232dcc5e>\u001b[0m in \u001b[0;36m<module>\u001b[1;34m\u001b[0m\n\u001b[0;32m      1\u001b[0m \u001b[0mOriginal_list\u001b[0m \u001b[1;33m=\u001b[0m \u001b[1;33m[\u001b[0m\u001b[1;36m0\u001b[0m\u001b[1;33m,\u001b[0m \u001b[1;36m10\u001b[0m\u001b[1;33m,\u001b[0m \u001b[1;33m[\u001b[0m\u001b[1;36m20\u001b[0m\u001b[1;33m,\u001b[0m \u001b[1;36m30\u001b[0m\u001b[1;33m]\u001b[0m\u001b[1;33m,\u001b[0m \u001b[1;36m40\u001b[0m\u001b[1;33m,\u001b[0m \u001b[1;36m50\u001b[0m\u001b[1;33m,\u001b[0m \u001b[1;33m[\u001b[0m\u001b[1;36m60\u001b[0m\u001b[1;33m,\u001b[0m \u001b[1;36m70\u001b[0m\u001b[1;33m,\u001b[0m \u001b[1;36m80\u001b[0m\u001b[1;33m]\u001b[0m\u001b[1;33m,\u001b[0m \u001b[1;33m[\u001b[0m\u001b[1;36m90\u001b[0m\u001b[1;33m,\u001b[0m \u001b[1;36m100\u001b[0m\u001b[1;33m,\u001b[0m \u001b[1;36m110\u001b[0m\u001b[1;33m,\u001b[0m \u001b[1;36m120\u001b[0m\u001b[1;33m]\u001b[0m\u001b[1;33m]\u001b[0m\u001b[1;33m\u001b[0m\u001b[1;33m\u001b[0m\u001b[0m\n\u001b[0;32m      2\u001b[0m \u001b[1;32mfor\u001b[0m \u001b[0mi\u001b[0m \u001b[1;32min\u001b[0m \u001b[0mOriginal_list\u001b[0m\u001b[1;33m:\u001b[0m\u001b[1;33m\u001b[0m\u001b[1;33m\u001b[0m\u001b[0m\n\u001b[1;32m----> 3\u001b[1;33m     \u001b[1;32mfor\u001b[0m \u001b[0mj\u001b[0m \u001b[1;32min\u001b[0m \u001b[0mrange\u001b[0m\u001b[1;33m(\u001b[0m\u001b[1;36m0\u001b[0m\u001b[1;33m,\u001b[0m\u001b[0mi\u001b[0m\u001b[1;33m)\u001b[0m\u001b[1;33m:\u001b[0m\u001b[1;33m\u001b[0m\u001b[1;33m\u001b[0m\u001b[0m\n\u001b[0m\u001b[0;32m      4\u001b[0m         \u001b[0mprint\u001b[0m\u001b[1;33m(\u001b[0m\u001b[0mi\u001b[0m\u001b[1;33m,\u001b[0m\u001b[0mj\u001b[0m\u001b[1;33m)\u001b[0m\u001b[1;33m\u001b[0m\u001b[1;33m\u001b[0m\u001b[0m\n",
      "\u001b[1;31mTypeError\u001b[0m: 'list' object cannot be interpreted as an integer"
     ]
    }
   ],
   "source": [
    "Original_list = [0, 10, [20, 30], 40, 50, [60, 70, 80], [90, 100, 110, 120]]\n",
    "for i,v in Original_list:\n",
    "    for j in range(0,i):\n",
    "        print(i,j)"
   ]
  },
  {
   "cell_type": "code",
   "execution_count": 44,
   "id": "c26f3293",
   "metadata": {},
   "outputs": [
    {
     "data": {
      "text/plain": [
       "0"
      ]
     },
     "execution_count": 44,
     "metadata": {},
     "output_type": "execute_result"
    }
   ],
   "source": [
    "# # print('\\n'.join(str(lst) for lst in colors))\n",
    "# # type(colors)\n",
    "# color = [str(i) for i in colors]\n",
    "# print('\\n'.join(color))\n",
    "# print(color)"
   ]
  },
  {
   "cell_type": "markdown",
   "id": "8d904514",
   "metadata": {},
   "source": [
    "73. Write a Python program to remove consecutive duplicates of a given list. Go to the editor\n",
    "\n",
    "\n",
    "Original list:\n",
    "[0, 0, 1, 2, 3, 4, 4, 5, 6, 6, 6, 7, 8, 9, 4, 4]\n",
    "\n",
    "\n",
    "\n",
    "After removing consecutive duplicates:\n",
    "[0, 1, 2, 3, 4, 5, 6, 7, 8, 9, 4]"
   ]
  },
  {
   "cell_type": "code",
   "execution_count": 3,
   "id": "0db95fba",
   "metadata": {},
   "outputs": [
    {
     "name": "stdout",
     "output_type": "stream",
     "text": [
      "[0, 1, 2, 3, 5, 6, 7, 8, 9, 4, 4]\n"
     ]
    }
   ],
   "source": [
    "s = [0, 0, 1, 2, 3, 4, 4, 5, 6, 6, 6, 7, 8, 9, 4, 4]\n",
    "for i in s:\n",
    "    if s.count(i) > 1 :\n",
    "        s.remove(i)\n",
    "print(s)"
   ]
  },
  {
   "cell_type": "markdown",
   "id": "c481926e",
   "metadata": {},
   "source": [
    "74. Write a Python program to pack consecutive duplicates of a given list elements into sublists. Go to the editor\n",
    "\n",
    "\n",
    "Original list:\n",
    "[0, 0, 1, 2, 3, 4, 4, 5, 6, 6, 6, 7, 8, 9, 4, 4]\n",
    "\n",
    "\n",
    "\n",
    "After packing consecutive duplicates of the said list elements into sublists:\n",
    "[[0, 0], [1], [2], [3], [4, 4], [5], [6, 6, 6], [7], [8], [9], [4, 4]]"
   ]
  },
  {
   "cell_type": "code",
   "execution_count": 10,
   "id": "e73055a1",
   "metadata": {},
   "outputs": [
    {
     "name": "stdout",
     "output_type": "stream",
     "text": [
      "[[0, 0], [1], [2], [3], [4, 4], [5], [6, 6, 6], [7], [8], [9], [4, 4]]\n"
     ]
    }
   ],
   "source": [
    "from itertools import groupby\n",
    "s = [0, 0, 1, 2, 3, 4, 4, 5, 6, 6, 6, 7, 8, 9, 4, 4]\n",
    "a = []\n",
    "for i,v in groupby(s):\n",
    "    x = list(v)\n",
    "    a.append(x)\n",
    "    \n",
    "print(a)"
   ]
  },
  {
   "cell_type": "markdown",
   "id": "a6c27377",
   "metadata": {},
   "source": [
    "72. Write a Python program to flatten a given nested list structure. Go to the editor\n",
    "\n",
    "\n",
    "Original list: [0, 10, [20, 30], 40, 50, [60, 70, 80], [90, 100, 110, 120]]\n",
    "\n",
    "\n",
    "Flatten list:\n",
    "[0, 10, 20, 30, 40, 50, 60, 70, 80, 90, 100, 110, 120]"
   ]
  },
  {
   "cell_type": "code",
   "execution_count": 8,
   "id": "1a4a9d1e",
   "metadata": {},
   "outputs": [
    {
     "name": "stdout",
     "output_type": "stream",
     "text": [
      "[0, 10, 20, 30, 40, 50, 60, 70, 80, 90, 100, 110, 120]\n"
     ]
    }
   ],
   "source": [
    "Li = [0, 10, [20, 30], 40, 50, [60, 70, 80], [90, 100, 110, 120]]\n",
    "b = []\n",
    "def onelist(Li):\n",
    "    for i in Li:\n",
    "        if type(i)==list:\n",
    "#             onelist(i) or 2 steps below\n",
    "            for j in i:\n",
    "                b.append(j)\n",
    "        else:\n",
    "            b.append(i)\n",
    "\n",
    "onelist([0, 10, [20, 30], 40, 50, [60, 70, 80], [90, 100, 110, 120]])\n",
    "print(b)\n",
    "        "
   ]
  },
  {
   "cell_type": "markdown",
   "id": "eed06843",
   "metadata": {},
   "source": [
    "73. Write a Python program to remove consecutive duplicates of a given list. Go to the editor\n",
    "\n",
    "\n",
    "\n",
    "Original list:\n",
    "[0, 0, 1, 2, 3, 4, 4, 5, 6, 6, 6, 7, 8, 9, 4, 4]\n",
    "\n",
    "\n",
    "\n",
    "After removing consecutive duplicates:\n",
    "[0, 1, 2, 3, 4, 5, 6, 7, 8, 9, 4]\n",
    "\n"
   ]
  },
  {
   "cell_type": "code",
   "execution_count": 10,
   "id": "43cd7c8b",
   "metadata": {},
   "outputs": [
    {
     "name": "stdout",
     "output_type": "stream",
     "text": [
      "[0, 1, 2, 3, 5, 6, 7, 8, 9, 4, 4]\n"
     ]
    }
   ],
   "source": [
    "def consecutive(li):\n",
    "#     li = [0, 0, 1, 2, 3, 4, 4, 5, 6, 6, 6, 7, 8, 9, 4, 4]\n",
    "    for i in li:\n",
    "        if li.count(i) > 1:\n",
    "            li.remove(i)\n",
    "    print(li)        \n",
    "    \n",
    "consecutive([0, 0, 1, 2, 3, 4, 4, 5, 6, 6, 6, 7, 8, 9, 4, 4])\n",
    "            \n",
    "    \n",
    "    \n",
    "    "
   ]
  },
  {
   "cell_type": "markdown",
   "id": "2e4282ce",
   "metadata": {},
   "source": [
    "74. Write a Python program to pack consecutive duplicates of a given list elements into sublists. Go to the editor\n",
    "\n",
    "\n",
    "Original list:\n",
    "[0, 0, 1, 2, 3, 4, 4, 5, 6, 6, 6, 7, 8, 9, 4, 4]\n",
    "\n",
    "\n",
    "After packing consecutive duplicates of the said list elements into sublists:\n",
    "[[0, 0], [1], [2], [3], [4, 4], [5], [6, 6, 6], [7], [8], [9], [4, 4]]"
   ]
  },
  {
   "cell_type": "code",
   "execution_count": 32,
   "id": "c9b6af02",
   "metadata": {},
   "outputs": [
    {
     "name": "stdout",
     "output_type": "stream",
     "text": [
      "[[0, 0], [1], [2], [3], [4, 4], [5], [6, 6, 6], [7], [8], [9], [4, 4]]\n"
     ]
    }
   ],
   "source": [
    "from itertools import groupby\n",
    "li = [0, 0, 1, 2, 3, 4, 4, 5, 6, 6, 6, 7, 8, 9, 4, 4]\n",
    "m = []\n",
    "for i,v in groupby(li):\n",
    "    m.append(list(v))\n",
    "    \n",
    "print(m)"
   ]
  },
  {
   "cell_type": "markdown",
   "id": "8497f2dc",
   "metadata": {},
   "source": [
    "78. Write a Python program to split a given list into two parts where the length of the first part of the list is given. Go to the editor\n",
    "\n",
    "\n",
    "Original list:\n",
    "[1, 1, 2, 3, 4, 4, 5, 1]\n",
    "\n",
    "\n",
    "Length of the first part of the list: 3\n",
    "\n",
    "\n",
    "Splited the said list into two parts:\n",
    "([1, 1, 2], [3, 4, 4, 5, 1]"
   ]
  },
  {
   "cell_type": "code",
   "execution_count": 50,
   "id": "c805e174",
   "metadata": {},
   "outputs": [
    {
     "name": "stdout",
     "output_type": "stream",
     "text": [
      "[1, 1, 2]\n",
      "[3, 4, 4, 5, 1]\n",
      "[[1, 1, 2], [3, 4, 4, 5, 1]]\n"
     ]
    }
   ],
   "source": [
    "from itertools import groupby\n",
    "li = [1, 1, 2, 3, 4, 4, 5, 1]\n",
    "a= []\n",
    "b = []\n",
    "for i,v in enumerate(li):\n",
    "    if i <= 2:\n",
    "        a.append(v)\n",
    "    else:\n",
    "        b.append(v)\n",
    "print(a)\n",
    "print(b)\n",
    "\n",
    "print([a,b])\n",
    "          \n",
    "                  \n",
    "        "
   ]
  },
  {
   "cell_type": "markdown",
   "id": "ae8d2490",
   "metadata": {},
   "source": [
    "79. Write a Python program to remove the K'th element from a given list, print the new list. Go to the editor\n",
    "\n",
    "\n",
    "Original list:\n",
    "[1, 1, 2, 3, 4, 4, 5, 1]\n",
    "\n",
    "\n",
    "After removing an element at the kth position of the said list:\n",
    "[1, 1, 3, 4, 4, 5, 1]"
   ]
  },
  {
   "cell_type": "code",
   "execution_count": 77,
   "id": "2d396485",
   "metadata": {},
   "outputs": [
    {
     "name": "stdout",
     "output_type": "stream",
     "text": [
      "0 1\n",
      "1 1\n",
      "2 2\n",
      "3 6\n",
      "4 4\n",
      "5 4\n",
      "6 1\n"
     ]
    },
    {
     "data": {
      "text/plain": [
       "[1, 1, 2, 6, 4, 5, 1]"
      ]
     },
     "execution_count": 77,
     "metadata": {},
     "output_type": "execute_result"
    }
   ],
   "source": [
    "def kthelement(li,k):\n",
    "#     li =[1, 1, 4, 2, 4, 4, 5, 1]\n",
    "    for i,v in enumerate(li):\n",
    "        print(i,v)\n",
    "        if i == k:\n",
    "            li.remove(v)\n",
    "\n",
    "    return (li)      \n",
    "    \n",
    "    \n",
    "kthelement([1, 1, 2, 6, 4, 4, 5, 1],5)"
   ]
  },
  {
   "cell_type": "code",
   "execution_count": 84,
   "id": "12f7356b",
   "metadata": {},
   "outputs": [
    {
     "data": {
      "text/plain": [
       "[1, 1, 2, 6, 4, 5, 1]"
      ]
     },
     "execution_count": 84,
     "metadata": {},
     "output_type": "execute_result"
    }
   ],
   "source": [
    "def kthelement(li,k):\n",
    "    return li[:k-1]+li[k:]\n",
    "\n",
    "kthelement([1, 1, 2, 6, 4, 4, 5, 1],5)"
   ]
  },
  {
   "cell_type": "markdown",
   "id": "e50518b2",
   "metadata": {},
   "source": [
    "80. Write a Python program to insert an element at a specified position into a given list. Go to the editor\n",
    "\n",
    "\n",
    "Original list:\n",
    "[1, 1, 2, 3, 4, 4, 5, 1]\n",
    "\n",
    "\n",
    "After inserting an element at kth position in the said list:\n",
    "[1, 1, 12, 2, 3, 4, 4, 5, 1]"
   ]
  },
  {
   "cell_type": "code",
   "execution_count": 88,
   "id": "81b0ebb3",
   "metadata": {},
   "outputs": [
    {
     "data": {
      "text/plain": [
       "[1, 1, 12, 2, 3, 4, 4, 5, 1]"
      ]
     },
     "execution_count": 88,
     "metadata": {},
     "output_type": "execute_result"
    }
   ],
   "source": [
    "def inser_element(li,k):\n",
    "    li.insert(k , 12)\n",
    "    return li\n",
    "\n",
    "\n",
    "\n",
    "inser_element([1, 1, 2, 3, 4, 4, 5, 1],2)"
   ]
  },
  {
   "cell_type": "markdown",
   "id": "cc80055a",
   "metadata": {},
   "source": [
    "81. Write a Python program to extract a given number of randomly selected elements from a given list. Go to the editor\n",
    "\n",
    "\n",
    "Original list:\n",
    "[1, 1, 2, 3, 4, 4, 5, 1]\n",
    "\n",
    "\n",
    "Selected 3 random numbers of the above list:\n",
    "[4, 4, 1]"
   ]
  },
  {
   "cell_type": "code",
   "execution_count": 92,
   "id": "3482a174",
   "metadata": {},
   "outputs": [
    {
     "name": "stdout",
     "output_type": "stream",
     "text": [
      "2\n",
      "7\n",
      "5\n"
     ]
    },
    {
     "data": {
      "text/plain": [
       "[2, 4, 1]"
      ]
     },
     "execution_count": 92,
     "metadata": {},
     "output_type": "execute_result"
    }
   ],
   "source": [
    "import random\n",
    "\n",
    "li = [1, 1, 2, 3, 4, 4, 5, 1]\n",
    "r = []\n",
    "random_no1 = random.randint(0,len(li))\n",
    "random_no2 = random.randint(0,len(li))\n",
    "random_no3 = random.randint(0,len(li))\n",
    "\n",
    "print(random_no1)\n",
    "print(random_no2)\n",
    "print(random_no3)\n",
    "\n",
    "\n",
    "for i,v in enumerate(li):\n",
    "    if i == random_no1:\n",
    "        r.append(v)\n",
    "    elif i == random_no2:\n",
    "        r.append(v)\n",
    "    elif i == random_no3:\n",
    "        r.append(v)\n",
    "        \n",
    "(r)\n",
    "        "
   ]
  },
  {
   "cell_type": "markdown",
   "id": "9cefb42a",
   "metadata": {},
   "source": [
    "82. Write a Python program to generate the combinations of n distinct objects taken from the elements of a given list. Go to the editor\n",
    "\n",
    "\n",
    "Original list: [1, 2, 3, 4, 5, 6, 7, 8, 9] \n",
    "\n",
    "\n",
    "Combinations of 2 distinct objects: [1, 2] [1, 3] [1, 4] [1, 5] .... [7, 8] [7, 9] [8, 9]"
   ]
  },
  {
   "cell_type": "code",
   "execution_count": 22,
   "id": "7391e35f",
   "metadata": {},
   "outputs": [
    {
     "name": "stdout",
     "output_type": "stream",
     "text": [
      "[[1, 2], [1, 3], [1, 4], [1, 5], [1, 6], [1, 7], [1, 8], [1, 9], [2, 3], [2, 4], [2, 5], [2, 6], [2, 7], [2, 8], [2, 9], [3, 4], [3, 5], [3, 6], [3, 7], [3, 8], [3, 9], [4, 5], [4, 6], [4, 7], [4, 8], [4, 9], [5, 6], [5, 7], [5, 8], [5, 9], [6, 7], [6, 8], [6, 9], [7, 8], [7, 9], [8, 9]]\n"
     ]
    }
   ],
   "source": [
    "from itertools import combinations\n",
    "comb = combinations([1, 2, 3, 4, 5, 6, 7, 8, 9],2)\n",
    "a = []\n",
    "for i in list(comb):\n",
    "    a.append(list(i))\n",
    "print(a)"
   ]
  },
  {
   "cell_type": "code",
   "execution_count": 14,
   "id": "7ed46c51",
   "metadata": {},
   "outputs": [
    {
     "name": "stdout",
     "output_type": "stream",
     "text": [
      "[[1, 1], [1, 2], [1, 3], [1, 4], [1, 5], [1, 6], [1, 7], [1, 8], [1, 9], [2, 1], [2, 2], [2, 3], [2, 4], [2, 5], [2, 6], [2, 7], [2, 8], [2, 9], [3, 1], [3, 2], [3, 3], [3, 4], [3, 5], [3, 6], [3, 7], [3, 8], [3, 9], [4, 1], [4, 2], [4, 3], [4, 4], [4, 5], [4, 6], [4, 7], [4, 8], [4, 9], [5, 1], [5, 2], [5, 3], [5, 4], [5, 5], [5, 6], [5, 7], [5, 8], [5, 9], [6, 1], [6, 2], [6, 3], [6, 4], [6, 5], [6, 6], [6, 7], [6, 8], [6, 9], [7, 1], [7, 2], [7, 3], [7, 4], [7, 5], [7, 6], [7, 7], [7, 8], [7, 9], [8, 1], [8, 2], [8, 3], [8, 4], [8, 5], [8, 6], [8, 7], [8, 8], [8, 9], [9, 1], [9, 2], [9, 3], [9, 4], [9, 5], [9, 6], [9, 7], [9, 8], [9, 9]]\n"
     ]
    }
   ],
   "source": [
    "from itertools import groupby\n",
    "li = [1, 2, 3, 4, 5, 6, 7, 8, 9]\n",
    "a = []\n",
    "b = []\n",
    "for i in li:\n",
    "    for j in li:\n",
    "        a.append([i,j])\n",
    "\n",
    "print(a)\n",
    "for x,y in enumerate(a):\n",
    "    for j in y[j:j+1]:\n",
    "        print(y)"
   ]
  },
  {
   "cell_type": "markdown",
   "id": "7d88e0ef",
   "metadata": {},
   "source": [
    "83. Write a Python program to round every number of a given list of numbers and print the total sum multiplied by the length of the list. Go to the editor\n",
    "Original list: [22.4, 4.0, -16.22, -9.1, 11.0, -12.22, 14.2, -5.2, 17.5]\n",
    "Result:\n",
    "243"
   ]
  },
  {
   "cell_type": "code",
   "execution_count": 33,
   "id": "51f76ef0",
   "metadata": {},
   "outputs": [
    {
     "name": "stdout",
     "output_type": "stream",
     "text": [
      "243\n"
     ]
    }
   ],
   "source": [
    "li = [22.4, 4.0, -16.22, -9.1, 11.0, -12.22, 14.2, -5.2, 17.5]\n",
    "a = []\n",
    "for i in li:\n",
    "    round(i)\n",
    "    a.append(round(i))\n",
    "    \n",
    "print(sum(a)*len(a))\n"
   ]
  },
  {
   "cell_type": "code",
   "execution_count": 35,
   "id": "6861880e",
   "metadata": {},
   "outputs": [
    {
     "name": "stdout",
     "output_type": "stream",
     "text": [
      "243\n"
     ]
    }
   ],
   "source": [
    "def length(li):\n",
    "    x = [round(i) for i in li]\n",
    "    print(sum(x)*len(x))\n",
    "    \n",
    "    \n",
    "    \n",
    "length([22.4, 4.0, -16.22, -9.1, 11.0, -12.22, 14.2, -5.2, 17.5])\n",
    "    "
   ]
  },
  {
   "cell_type": "markdown",
   "id": "5cad5892",
   "metadata": {},
   "source": [
    "84. Write a Python program to round the numbers of a given list, print the minimum and maximum numbers and multiply the numbers by 5. Print the unique numbers in ascending order separated by space. Go to the editor\n",
    "\n",
    "\n",
    "Original list: [22.4, 4.0, 16.22, 9.1, 11.0, 12.22, 14.2, 5.2, 17.5]\n",
    "\n",
    "\n",
    "Minimum value: 4\n",
    "\n",
    "\n",
    "Maximum value: 22\n",
    "\n",
    "\n",
    "\n",
    "Result:\n",
    "20 25 45 55 60 70 80 90 110"
   ]
  },
  {
   "cell_type": "code",
   "execution_count": 57,
   "id": "958f3d9b",
   "metadata": {},
   "outputs": [
    {
     "name": "stdout",
     "output_type": "stream",
     "text": [
      "min number : 4\n",
      "max number : 22\n",
      "20 25 45 55 60 70 80 90 110\n"
     ]
    }
   ],
   "source": [
    "def numbers(li):\n",
    "# li = [22.4, 4.0, 16.22, 9.1, 11.0, 12.22, 14.2, 5.2, 17.5]\n",
    "    x = sorted([round(i) for i in li])\n",
    "    print(f'min number : {min(x)}')\n",
    "    print(f'max number : {max(x)}')\n",
    "    y = [5*j for j in x]\n",
    "    print(*y)\n",
    "\n",
    "numbers([22.4, 4.0, 16.22, 9.1, 11.0, 12.22, 14.2, 5.2, 17.5])\n",
    "    \n",
    "\n",
    "        "
   ]
  },
  {
   "cell_type": "markdown",
   "id": "b4d7c849",
   "metadata": {},
   "source": [
    "85. Write a Python program to create a multidimensional list (lists of lists) with zeros. Go to the editor\n",
    "Multidimensional list: [[0, 0], [0, 0], [0, 0]]"
   ]
  },
  {
   "cell_type": "code",
   "execution_count": 63,
   "id": "05edda8d",
   "metadata": {},
   "outputs": [
    {
     "name": "stdout",
     "output_type": "stream",
     "text": [
      "[[0, 0], [0, 0], [0, 0]]\n"
     ]
    }
   ],
   "source": [
    "x = []\n",
    "for i in range(3):\n",
    "    x.append([])\n",
    "    for j in range(2):\n",
    "        x[i].append(0)\n",
    "        \n",
    "print(x)"
   ]
  },
  {
   "cell_type": "markdown",
   "id": "cddd6ffe",
   "metadata": {},
   "source": [
    "86. Write a Python program to create a 3X3 grid with numbers. Go to the editor\n",
    "3X3 grid with numbers:\n",
    "[[1, 2, 3], [1, 2, 3], [1, 2, 3]]"
   ]
  },
  {
   "cell_type": "code",
   "execution_count": 76,
   "id": "5b72a0e5",
   "metadata": {},
   "outputs": [
    {
     "name": "stdout",
     "output_type": "stream",
     "text": [
      "[[1, 2, 3], [1, 2, 3], [1, 2, 3]]\n"
     ]
    }
   ],
   "source": [
    "a = []\n",
    "for i in range(3):\n",
    "    a.append([])\n",
    "    \n",
    "    for j in range(1,4):\n",
    "        a[i].append(j)\n",
    "print(a)"
   ]
  },
  {
   "cell_type": "markdown",
   "id": "e3b2463c",
   "metadata": {},
   "source": [
    "87. Write a Python program to read a matrix from console and print the sum for each column. Accept matrix rows, columns and elements for each column separated with a space(for every row) as input from the user. Go to the editor\n",
    "\n",
    "\n",
    "Input rows: 2\n",
    "\n",
    "\n",
    "Input columns: 2\n",
    "\n",
    "\n",
    "Input number of elements in a row (1, 2, 3, 4):\n",
    "\n",
    "\n",
    "1 2\n",
    "\n",
    "\n",
    "3 4\n",
    "\n",
    "\n",
    "sum for each column:\n",
    "4 6"
   ]
  },
  {
   "cell_type": "code",
   "execution_count": 80,
   "id": "9e68b358",
   "metadata": {},
   "outputs": [
    {
     "name": "stdout",
     "output_type": "stream",
     "text": [
      "No of rows : 2\n",
      "No of col : 2\n",
      "elements : 1 3 5\n",
      "No of rows : 2\n",
      "No of col :  2\n",
      "['1 3 5']\n"
     ]
    }
   ],
   "source": [
    "rows = input('No of rows : ')\n",
    "col = input('No of col : ')\n",
    "Elements = [input('elements : ')]\n",
    "print(f'No of rows : {rows}')\n",
    "print(f'No of col :  {col}')\n",
    "print(Elements)\n",
    "\n",
    "\n",
    "\n"
   ]
  },
  {
   "cell_type": "code",
   "execution_count": null,
   "id": "bd25af38",
   "metadata": {},
   "outputs": [],
   "source": []
  },
  {
   "cell_type": "code",
   "execution_count": null,
   "id": "b68f9fdb",
   "metadata": {},
   "outputs": [],
   "source": []
  },
  {
   "cell_type": "code",
   "execution_count": null,
   "id": "bb9d1c64",
   "metadata": {},
   "outputs": [],
   "source": []
  }
 ],
 "metadata": {
  "kernelspec": {
   "display_name": "Python 3",
   "language": "python",
   "name": "python3"
  },
  "language_info": {
   "codemirror_mode": {
    "name": "ipython",
    "version": 3
   },
   "file_extension": ".py",
   "mimetype": "text/x-python",
   "name": "python",
   "nbconvert_exporter": "python",
   "pygments_lexer": "ipython3",
   "version": "3.8.8"
  }
 },
 "nbformat": 4,
 "nbformat_minor": 5
}
